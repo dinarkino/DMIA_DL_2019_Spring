{
 "cells": [
  {
   "cell_type": "markdown",
   "metadata": {},
   "source": [
    "### Эмбеддинги в NLP"
   ]
  },
  {
   "cell_type": "markdown",
   "metadata": {},
   "source": [
    "В этом задании мы научимся работать с моделями для построения векторных представлений текста. Загрузим и потестируем предобученные модели, посмотрим, какие свойства и функции у них есть, обучим свою модель и с помощью нее улучшим качество кластеризации(и/или классификации) текстов.\n",
    "\n",
    "Перед тем как приступать к выполнению задания не забудьте выполнить команду pip install -r <path_to_rep_requirements.txt> для того, чтобы в вашем виртуальном окружении были установлены правильные версии python пакетов."
   ]
  },
  {
   "cell_type": "code",
   "execution_count": 1,
   "metadata": {
    "ExecuteTime": {
     "end_time": "2019-04-14T21:57:26.693546Z",
     "start_time": "2019-04-14T21:57:25.788955Z"
    }
   },
   "outputs": [],
   "source": [
    "import string\n",
    "import warnings\n",
    "import logging\n",
    "import itertools\n",
    "\n",
    "import nltk\n",
    "import gensim # https://radimrehurek.com/gensim/ \n",
    "import pandas as pd\n",
    "import matplotlib as mpl\n",
    "import matplotlib.pyplot as plt\n",
    "from tqdm import tqdm # progress bar https://github.com/tqdm/tqdm\n",
    "from gensim.models import Word2Vec\n",
    "from sklearn.manifold import TSNE\n",
    "from sklearn.datasets import fetch_20newsgroups # датасет\n",
    "from sklearn.cluster import MiniBatchKMeans \n",
    "\n",
    "import re # для удаления цифр \n",
    "import string # пунктуация\n",
    "from nltk.stem import PorterStemmer # stemmer\n",
    "from nltk.stem import WordNetLemmatizer # Lemmatizer\n",
    "from sklearn.decomposition import PCA # снижение размерности\n",
    "from sklearn.feature_extraction.text import CountVectorizer\n",
    "import fasttext # fasttext"
   ]
  },
  {
   "cell_type": "code",
   "execution_count": 2,
   "metadata": {},
   "outputs": [],
   "source": [
    "logging.basicConfig(format='%(asctime)s : %(levelname)s : %(message)s',\n",
    "                    level=logging.INFO)"
   ]
  },
  {
   "cell_type": "code",
   "execution_count": 3,
   "metadata": {
    "ExecuteTime": {
     "end_time": "2019-04-14T14:58:52.231976Z",
     "start_time": "2019-04-14T14:58:51.950367Z"
    }
   },
   "outputs": [
    {
     "name": "stdout",
     "output_type": "stream",
     "text": [
      "Populating the interactive namespace from numpy and matplotlib\n"
     ]
    }
   ],
   "source": [
    "%pylab inline\n",
    "\n",
    "plt.style.use('default')\n",
    "figsize(12, 9)\n",
    "\n",
    "warnings.filterwarnings(\"ignore\")\n",
    "\n",
    "pd.set_option('display.max_columns', None)\n",
    "\n",
    "mpl.rcParams['font.family'] = 'Ubuntu'\n",
    "\n",
    "plt.rc('text', usetex=False)\n",
    "plt.rc('font', family='serif')\n",
    "plt.rc('font', weight='bold')\n",
    "plt.rc('xtick', labelsize=14) \n",
    "plt.rc('ytick', labelsize=14)\n",
    " \n",
    "font = {'family': 'Verdana',\n",
    "        'weight': 'normal'}\n",
    "mpl.rc('font', **font)"
   ]
  },
  {
   "cell_type": "markdown",
   "metadata": {},
   "source": [
    "Скачиваем rucorpora 15 с [диска](https://yadi.sk/d/fLRMFhm03Pbs98).\n",
    "Либо выбираем предобученную модель с https://rusvectores.org/ru/models/. Выбор нужно обосновать."
   ]
  },
  {
   "cell_type": "code",
   "execution_count": 4,
   "metadata": {
    "ExecuteTime": {
     "end_time": "2019-04-14T14:59:15.998621Z",
     "start_time": "2019-04-14T14:59:15.995267Z"
    }
   },
   "outputs": [],
   "source": [
    "path_to_ruscorpora = 'ruscorpora.model.bin'"
   ]
  },
  {
   "cell_type": "markdown",
   "metadata": {},
   "source": [
    "#### Загрузим обученную на ruscorpora модель word2vec"
   ]
  },
  {
   "cell_type": "code",
   "execution_count": null,
   "metadata": {
    "ExecuteTime": {
     "end_time": "2019-04-14T15:03:16.478785Z",
     "start_time": "2019-04-14T15:02:59.209097Z"
    }
   },
   "outputs": [],
   "source": [
    "model_word2vec = gensim.models.KeyedVectors.load_word2vec_format(\n",
    "    path_to_ruscorpora,\n",
    "    binary=True\n",
    ")\n",
    "model_word2vec.wv.vocab"
   ]
  },
  {
   "cell_type": "markdown",
   "metadata": {},
   "source": [
    "#### Посмотрим, как с ней обращаться"
   ]
  },
  {
   "cell_type": "markdown",
   "metadata": {},
   "source": [
    "Можно посмотреть наиболее похожие на конкретное слово слова. Попробуйте свойства векторов word2vec: и подумайте какие слова нужно послать на вход, чтобы получить на выходе слова \"школа\",  \"машинное\", \"обучение\"."
   ]
  },
  {
   "cell_type": "code",
   "execution_count": 6,
   "metadata": {
    "ExecuteTime": {
     "end_time": "2019-04-14T15:03:58.399470Z",
     "start_time": "2019-04-14T15:03:57.356321Z"
    }
   },
   "outputs": [
    {
     "name": "stderr",
     "output_type": "stream",
     "text": [
      "2019-04-21 19:51:09,769 : INFO : precomputing L2-norms of word weight vectors\n"
     ]
    },
    {
     "data": {
      "text/plain": [
       "[('судно', 0.46701744198799133),\n",
       " ('крейсер', 0.3743194341659546),\n",
       " ('пароход', 0.33206048607826233)]"
      ]
     },
     "execution_count": 6,
     "metadata": {},
     "output_type": "execute_result"
    }
   ],
   "source": [
    "model_word2vec.most_similar(positive=['корабль'],\n",
    "                            negative=['парус'],\n",
    "                            topn=3)"
   ]
  },
  {
   "cell_type": "code",
   "execution_count": 14,
   "metadata": {
    "ExecuteTime": {
     "end_time": "2019-04-14T15:03:59.361665Z",
     "start_time": "2019-04-14T15:03:59.319135Z"
    }
   },
   "outputs": [
    {
     "data": {
      "text/plain": [
       "[('самолет', 0.5802854299545288),\n",
       " ('судно', 0.5336376428604126),\n",
       " ('дирижабль', 0.5083059072494507)]"
      ]
     },
     "execution_count": 14,
     "metadata": {},
     "output_type": "execute_result"
    }
   ],
   "source": [
    "model_word2vec.most_similar(positive=['корабль', 'летать'],\n",
    "                            negative=['плавать'],\n",
    "                            topn=3)"
   ]
  },
  {
   "cell_type": "code",
   "execution_count": 15,
   "metadata": {
    "ExecuteTime": {
     "end_time": "2019-04-14T15:04:00.007662Z",
     "start_time": "2019-04-14T15:03:59.966543Z"
    }
   },
   "outputs": [
    {
     "data": {
      "text/plain": [
       "[('горняк', 0.3543156385421753),\n",
       " ('ударник', 0.33688703179359436),\n",
       " ('металлург', 0.3220180869102478)]"
      ]
     },
     "execution_count": 15,
     "metadata": {},
     "output_type": "execute_result"
    }
   ],
   "source": [
    "model_word2vec.most_similar(positive=['шахтер'],\n",
    "                            negative=['грязь'],\n",
    "                            topn=3)"
   ]
  },
  {
   "cell_type": "code",
   "execution_count": 16,
   "metadata": {
    "ExecuteTime": {
     "end_time": "2019-04-14T15:04:00.404024Z",
     "start_time": "2019-04-14T15:04:00.358100Z"
    }
   },
   "outputs": [
    {
     "data": {
      "text/plain": [
       "[('мрак', 0.4193800687789917),\n",
       " ('догмат', 0.38442569971084595),\n",
       " ('философия', 0.3840946555137634)]"
      ]
     },
     "execution_count": 16,
     "metadata": {},
     "output_type": "execute_result"
    }
   ],
   "source": [
    "model_word2vec.most_similar(positive=['учение', 'тьма'],\n",
    "                            negative=['свет'],\n",
    "                            topn=3)"
   ]
  },
  {
   "cell_type": "markdown",
   "metadata": {},
   "source": [
    "Еще есть функция, которая выводит лишнее слово в строке. Попробуйте придумать пример, с которым word2vec не справится."
   ]
  },
  {
   "cell_type": "code",
   "execution_count": 17,
   "metadata": {
    "ExecuteTime": {
     "end_time": "2019-04-14T15:04:19.569167Z",
     "start_time": "2019-04-14T15:04:19.561422Z"
    }
   },
   "outputs": [
    {
     "data": {
      "text/plain": [
       "'компот'"
      ]
     },
     "execution_count": 17,
     "metadata": {},
     "output_type": "execute_result"
    }
   ],
   "source": [
    "model_word2vec.doesnt_match(\"коньяк компот водка пиво\".split())"
   ]
  },
  {
   "cell_type": "markdown",
   "metadata": {},
   "source": [
    "Функция, которая выводит сходство между словами.  С ее помощью можно понимать значение слова нефть."
   ]
  },
  {
   "cell_type": "code",
   "execution_count": 23,
   "metadata": {},
   "outputs": [
    {
     "name": "stdout",
     "output_type": "stream",
     "text": [
      "0.4017846\n",
      "0.24677068\n",
      "0.08598833\n",
      "0.029723393\n",
      "0.014373137\n"
     ]
    }
   ],
   "source": [
    "print(model_word2vec.similarity('нефть', 'газ'))\n",
    "print(model_word2vec.similarity('нефть', 'вода'))\n",
    "print(model_word2vec.similarity('нефть', 'водка'))\n",
    "print(model_word2vec.similarity('нефть', 'духи'))\n",
    "print(model_word2vec.similarity('нефть', 'компот'))"
   ]
  },
  {
   "cell_type": "markdown",
   "metadata": {},
   "source": [
    "Или смотреть, где в России больше нефти."
   ]
  },
  {
   "cell_type": "code",
   "execution_count": 24,
   "metadata": {},
   "outputs": [
    {
     "name": "stdout",
     "output_type": "stream",
     "text": [
      "0.10231814\n",
      "0.0374594\n",
      "0.0076552005\n",
      "0.0043799127\n",
      "0.086305186\n"
     ]
    }
   ],
   "source": [
    "print(model_word2vec.similarity('нефть', 'чечня'))\n",
    "print(model_word2vec.similarity('нефть', 'якутск'))\n",
    "print(model_word2vec.similarity('нефть', 'москва'))\n",
    "print(model_word2vec.similarity('нефть', 'саратов'))\n",
    "print(model_word2vec.similarity('нефть', 'сибирь'))"
   ]
  },
  {
   "cell_type": "markdown",
   "metadata": {},
   "source": [
    "### Пункт 0\n",
    "Допишите своих интересных примеров, характеризующих word2vec, попробуйте обосновать полученные результаты."
   ]
  },
  {
   "cell_type": "markdown",
   "metadata": {},
   "source": [
    " Второй ответ выглядит разумным)"
   ]
  },
  {
   "cell_type": "code",
   "execution_count": 36,
   "metadata": {},
   "outputs": [
    {
     "data": {
      "text/plain": [
       "[('вечер', 0.5187423229217529),\n",
       " ('утро', 0.39263731241226196),\n",
       " ('подпиточка', 0.3720931112766266)]"
      ]
     },
     "execution_count": 36,
     "metadata": {},
     "output_type": "execute_result"
    }
   ],
   "source": [
    "model_word2vec.most_similar(positive=['ночь'],\n",
    "                            negative=['тьма'],\n",
    "                            topn=3)"
   ]
  },
  {
   "cell_type": "markdown",
   "metadata": {},
   "source": [
    "Неправильно выделяет лишнее слово. Возможно, обращает внимание на то, что москва и париж - столицы "
   ]
  },
  {
   "cell_type": "code",
   "execution_count": 25,
   "metadata": {
    "ExecuteTime": {
     "end_time": "2019-04-14T15:05:19.270564Z",
     "start_time": "2019-04-14T15:05:19.267119Z"
    }
   },
   "outputs": [
    {
     "data": {
      "text/plain": [
       "'сочи'"
      ]
     },
     "execution_count": 25,
     "metadata": {},
     "output_type": "execute_result"
    }
   ],
   "source": [
    "model_word2vec.doesnt_match(\"сочи москва париж казань санкт-петербург\".split())"
   ]
  },
  {
   "cell_type": "markdown",
   "metadata": {},
   "source": [
    "Забавно, что связи между интеллектом и космосом больше чем между интеллектом и человеком. Связь с компьютором, наверно, можно объяснить частотой употребления связки \"искуственный интеллект\" и \"компьютер\""
   ]
  },
  {
   "cell_type": "code",
   "execution_count": 37,
   "metadata": {},
   "outputs": [
    {
     "name": "stdout",
     "output_type": "stream",
     "text": [
      "0.082524106\n",
      "0.021205489\n",
      "0.037591472\n",
      "0.19227731\n",
      "0.09695639\n"
     ]
    }
   ],
   "source": [
    "print(model_word2vec.similarity('интеллект', 'человек'))\n",
    "print(model_word2vec.similarity('интеллект', 'собака'))\n",
    "print(model_word2vec.similarity('интеллект', 'кошка'))\n",
    "print(model_word2vec.similarity('интеллект', 'компьютер'))\n",
    "print(model_word2vec.similarity('интеллект', 'космос'))"
   ]
  },
  {
   "cell_type": "markdown",
   "metadata": {},
   "source": [
    "#### Теперь давайте обучим собственную модель\n",
    "В качестве обучающего корпуса возьмем новости по 20 темам."
   ]
  },
  {
   "cell_type": "code",
   "execution_count": null,
   "metadata": {
    "ExecuteTime": {
     "end_time": "2019-04-14T15:05:28.604520Z",
     "start_time": "2019-04-14T15:05:27.941053Z"
    }
   },
   "outputs": [],
   "source": [
    "train_all = fetch_20newsgroups(subset='train')\n",
    "print(train_all.target_names, \" - 20 возможных тем\")\n",
    "\n",
    "dataset = fetch_20newsgroups(\n",
    "    subset='train', \n",
    "    categories=['comp.sys.mac.hardware', 'soc.religion.christian', 'rec.sport.hockey'])\n",
    "\n",
    "dataset.data[0].split()"
   ]
  },
  {
   "cell_type": "markdown",
   "metadata": {},
   "source": [
    "### Пункт 1\n",
    "\n",
    "Предобработаем эти новости. Выкинем цифры, знаки пунктуации, переведем в нижний регистр, разобьем на слова.\n",
    "\n",
    "Нормализуйте слова, например с помощью модуля nltk (или используйте любой другой способ на ваш выбор)."
   ]
  },
  {
   "cell_type": "code",
   "execution_count": 5,
   "metadata": {
    "ExecuteTime": {
     "end_time": "2019-04-14T15:08:42.646635Z",
     "start_time": "2019-04-14T15:08:42.642724Z"
    }
   },
   "outputs": [],
   "source": [
    "def normalize(raw_text):\n",
    "    preprocessed_text = raw_text.lower()\n",
    "    preprocessed_text = preprocessed_text.translate(str.maketrans('', '', string.punctuation))\n",
    "    preprocessed_text = re.sub(r'\\d+', '', preprocessed_text)\n",
    "    preprocessed_text = nltk.word_tokenize(preprocessed_text)\n",
    "    \n",
    "    #stemmer= PorterStemmer()\n",
    "    #stems = []\n",
    "    #for word in preprocessed_text:\n",
    "    #    stem = stemmer.stem(word)\n",
    "    #    stems.append(stem)\n",
    "    \n",
    "    # кажется, что это даёт лучший результат, ибо в случае со стемингом Los от Los Angeles превращается в Lo\n",
    "    lemmatizer=WordNetLemmatizer()\n",
    "    stems = []\n",
    "    for word in preprocessed_text:\n",
    "        stem = lemmatizer.lemmatize(word)\n",
    "        stems.append(stem)\n",
    "    return stems"
   ]
  },
  {
   "cell_type": "code",
   "execution_count": 6,
   "metadata": {
    "ExecuteTime": {
     "end_time": "2019-04-14T15:08:43.264213Z",
     "start_time": "2019-04-14T15:08:43.253424Z"
    }
   },
   "outputs": [
    {
     "name": "stderr",
     "output_type": "stream",
     "text": [
      "100%|█████████████████████████████████████████████████████████████████████████████| 1777/1777 [00:12<00:00, 145.29it/s]\n"
     ]
    }
   ],
   "source": [
    "data_normalized = [normalize(news) for news in tqdm(dataset.data)]"
   ]
  },
  {
   "cell_type": "markdown",
   "metadata": {},
   "source": [
    "Теперь обучающий корпус готов."
   ]
  },
  {
   "cell_type": "code",
   "execution_count": null,
   "metadata": {
    "ExecuteTime": {
     "end_time": "2019-04-14T15:08:59.774601Z",
     "start_time": "2019-04-14T15:08:54.996030Z"
    }
   },
   "outputs": [],
   "source": [
    "sentences = data_normalized\n",
    "model = gensim.models.Word2Vec(sentences, min_count=1)"
   ]
  },
  {
   "cell_type": "code",
   "execution_count": null,
   "metadata": {
    "ExecuteTime": {
     "end_time": "2019-04-14T15:11:25.147119Z",
     "start_time": "2019-04-14T15:11:06.040313Z"
    }
   },
   "outputs": [],
   "source": [
    "model = gensim.models.Word2Vec(iter=1)  # Инициализируем модель.\n",
    "model.build_vocab(sentences)  # Строим словарь.\n",
    "model.train(sentences, total_examples=model.corpus_count, epochs=20)  # Тренируем модель."
   ]
  },
  {
   "cell_type": "markdown",
   "metadata": {},
   "source": [
    "Сохраним модель и проверим всё ли работаешь хорошо (правильно ли сохранил модель)"
   ]
  },
  {
   "cell_type": "code",
   "execution_count": 167,
   "metadata": {},
   "outputs": [
    {
     "name": "stderr",
     "output_type": "stream",
     "text": [
      "2019-04-19 10:23:24,642 : INFO : storing 6776x100 projection weights into model.bin\n",
      "2019-04-19 10:23:24,737 : WARNING : this function is deprecated, use smart_open.open instead\n"
     ]
    }
   ],
   "source": [
    "model.wv.save_word2vec_format('model.bin', binary=True)"
   ]
  },
  {
   "cell_type": "code",
   "execution_count": 169,
   "metadata": {},
   "outputs": [
    {
     "data": {
      "text/plain": [
       "(955, 100)"
      ]
     },
     "execution_count": 169,
     "metadata": {},
     "output_type": "execute_result"
    }
   ],
   "source": [
    "shape(embeddings)"
   ]
  },
  {
   "cell_type": "code",
   "execution_count": null,
   "metadata": {},
   "outputs": [],
   "source": [
    "path_to_test = 'model.bin'\n",
    "\n",
    "model = gensim.models.KeyedVectors.load_word2vec_format(\n",
    "    path_to_test,\n",
    "    binary=True\n",
    ")"
   ]
  },
  {
   "cell_type": "code",
   "execution_count": 173,
   "metadata": {},
   "outputs": [],
   "source": [
    "labels_test = []\n",
    "embeddings_test = []\n",
    "\n",
    "for x in list(set(data_to_tsne)):\n",
    "    try:\n",
    "        embeddings_test.append(model_test[x])\n",
    "        labels_test.append(x)\n",
    "    except KeyError:\n",
    "        continue"
   ]
  },
  {
   "cell_type": "code",
   "execution_count": 174,
   "metadata": {},
   "outputs": [
    {
     "data": {
      "text/plain": [
       "(955, 100)"
      ]
     },
     "execution_count": 174,
     "metadata": {},
     "output_type": "execute_result"
    }
   ],
   "source": [
    "shape(embeddings_test)"
   ]
  },
  {
   "cell_type": "markdown",
   "metadata": {},
   "source": [
    "Нарисуем слова из первой новости в новом векторном пространстве."
   ]
  },
  {
   "cell_type": "code",
   "execution_count": 240,
   "metadata": {
    "ExecuteTime": {
     "end_time": "2019-04-14T15:11:39.600209Z",
     "start_time": "2019-04-14T15:11:39.591471Z"
    }
   },
   "outputs": [],
   "source": [
    "# Берем слова из первой новости, достаем соостветствующие векторы,\n",
    "# выбрасываем слова, для которых векторов нет. \n",
    "# Подумайте - как так могло получится, что нет векторов? - неправильно предобработали слово или уникальное слово? \n",
    "labels = []\n",
    "embeddings = []\n",
    "data_to_tsne = [item for sublist in data_normalized[:20] for item in sublist] # слова из первой новости\n",
    "\n",
    "for x in list(set(data_to_tsne)):\n",
    "    try:\n",
    "        embeddings.append(model[x])\n",
    "        labels.append(x)\n",
    "    except KeyError:\n",
    "        continue"
   ]
  },
  {
   "cell_type": "code",
   "execution_count": 236,
   "metadata": {
    "ExecuteTime": {
     "end_time": "2019-04-14T21:10:59.003741Z",
     "start_time": "2019-04-14T21:10:58.997217Z"
    }
   },
   "outputs": [],
   "source": [
    "def plot_with_labels(low_dim_embs, labels, filename='tsne.png'):\n",
    "    assert low_dim_embs.shape[0] >= len(labels), \"More labels than embeddings\"\n",
    "    plt.figure(figsize=(18, 18))  # in inches\n",
    "    for i, label in enumerate(labels):\n",
    "        x, y = low_dim_embs[i, :]\n",
    "        plt.scatter(x, y)\n",
    "        plt.annotate(label,\n",
    "                 xy=(x, y),\n",
    "                 xytext=(5, 2),\n",
    "                 textcoords='offset points',\n",
    "                 ha='right',\n",
    "                 va='bottom')\n",
    "\n",
    "    plt.savefig(filename)"
   ]
  },
  {
   "cell_type": "code",
   "execution_count": 241,
   "metadata": {},
   "outputs": [
    {
     "data": {
      "text/plain": [
       "(1131, 100)"
      ]
     },
     "execution_count": 241,
     "metadata": {},
     "output_type": "execute_result"
    }
   ],
   "source": [
    "shape(embeddings)"
   ]
  },
  {
   "cell_type": "markdown",
   "metadata": {},
   "source": [
    "### Пункт 2\n",
    "Переведите многомерные векторы в двумерные (можно использовать TSNE, PCA, другие методы сокращения размерности), выберите часть слов для отрисовки. Как параметры и методы отрисовки влияют на полученный график? Как это можно обьяснить?"
   ]
  },
  {
   "cell_type": "code",
   "execution_count": 247,
   "metadata": {},
   "outputs": [],
   "source": [
    "def embeddings_2d(embeddings):\n",
    "    pca = PCA(n_components=2)\n",
    "    pca_result = pca.fit_transform(embeddings)\n",
    "    return pca_result"
   ]
  },
  {
   "cell_type": "code",
   "execution_count": 248,
   "metadata": {},
   "outputs": [],
   "source": [
    "low_dim_vectors = embeddings_2d(embeddings)"
   ]
  },
  {
   "cell_type": "code",
   "execution_count": 249,
   "metadata": {},
   "outputs": [],
   "source": [
    "num_words_to_draw = 100"
   ]
  },
  {
   "cell_type": "code",
   "execution_count": 224,
   "metadata": {},
   "outputs": [
    {
     "data": {
      "text/plain": [
       "array([ 16.691257, -23.174383], dtype=float32)"
      ]
     },
     "execution_count": 224,
     "metadata": {},
     "output_type": "execute_result"
    }
   ],
   "source": [
    "low_dim_vectors[0]"
   ]
  },
  {
   "cell_type": "code",
   "execution_count": null,
   "metadata": {},
   "outputs": [],
   "source": [
    "# Рисуем только первые 100 слов.\n",
    "labels_to_draw = [labels[i] for i in range(num_words_to_draw)]\n",
    "a = plot_with_labels(low_dim_vectors, labels_to_draw)"
   ]
  },
  {
   "cell_type": "markdown",
   "metadata": {},
   "source": [
    "Почему в какой-то момент начали появляться проблемы с загрузкой модели, опять что-то с кодировками. Переобучивать не стал, в отчёте рисунок сохранился"
   ]
  },
  {
   "cell_type": "markdown",
   "metadata": {},
   "source": [
    "Если рисовать большое количество слов, то достаточно сложно понять что-то. Поэтому я остановился на 100"
   ]
  },
  {
   "cell_type": "markdown",
   "metadata": {},
   "source": [
    "### Пункт 3\n",
    "Проделайте аналогичную отрисовку и сжатие векторов для предобученной модели (для этого скачайте бинарник по этой [ссылке](https://code.google.com/archive/p/word2vec/) (файл GoogleNews-vectors-negative300) по аналогии с тем, как мы работали с русским корпусом. Сравните результаты."
   ]
  },
  {
   "cell_type": "code",
   "execution_count": 220,
   "metadata": {},
   "outputs": [],
   "source": [
    "path_to_googleNews = 'GoogleNews-vectors-negative300.bin'"
   ]
  },
  {
   "cell_type": "code",
   "execution_count": 221,
   "metadata": {},
   "outputs": [
    {
     "name": "stderr",
     "output_type": "stream",
     "text": [
      "2019-04-22 13:45:10,812 : INFO : loading projection weights from GoogleNews-vectors-negative300.bin\n",
      "2019-04-22 13:45:11,297 : WARNING : this function is deprecated, use smart_open.open instead\n",
      "2019-04-22 13:51:19,578 : INFO : loaded (3000000, 300) matrix from GoogleNews-vectors-negative300.bin\n"
     ]
    }
   ],
   "source": [
    "model_googleNews = gensim.models.KeyedVectors.load_word2vec_format(\n",
    "    path_to_googleNews,\n",
    "    binary=True\n",
    ")"
   ]
  },
  {
   "cell_type": "code",
   "execution_count": 250,
   "metadata": {},
   "outputs": [],
   "source": [
    "labels2 = []\n",
    "embeddings2 = []\n",
    "\n",
    "for x in list(set(data_to_tsne)):\n",
    "    try:\n",
    "        embeddings2.append(model_googleNews[x])\n",
    "        labels2.append(x)\n",
    "    except KeyError:\n",
    "        continue"
   ]
  },
  {
   "cell_type": "code",
   "execution_count": 251,
   "metadata": {},
   "outputs": [
    {
     "data": {
      "text/plain": [
       "(975, 300)"
      ]
     },
     "execution_count": 251,
     "metadata": {},
     "output_type": "execute_result"
    }
   ],
   "source": [
    "shape(embeddings2)"
   ]
  },
  {
   "cell_type": "code",
   "execution_count": 252,
   "metadata": {},
   "outputs": [],
   "source": [
    "low_dim_vectors2 = embeddings_2d(embeddings2)"
   ]
  },
  {
   "cell_type": "code",
   "execution_count": 269,
   "metadata": {},
   "outputs": [],
   "source": [
    "num_words_to_draw2 = 100"
   ]
  },
  {
   "cell_type": "code",
   "execution_count": 270,
   "metadata": {},
   "outputs": [
    {
     "data": {
      "text/plain": [
       "array([-0.57498393,  0.25599669])"
      ]
     },
     "execution_count": 270,
     "metadata": {},
     "output_type": "execute_result"
    }
   ],
   "source": [
    "low_dim_vectors2[0]"
   ]
  },
  {
   "cell_type": "code",
   "execution_count": 271,
   "metadata": {},
   "outputs": [
    {
     "data": {
      "text/plain": [
       "(975, 2)"
      ]
     },
     "execution_count": 271,
     "metadata": {},
     "output_type": "execute_result"
    }
   ],
   "source": [
    "shape(low_dim_vectors2)"
   ]
  },
  {
   "cell_type": "code",
   "execution_count": 272,
   "metadata": {},
   "outputs": [
    {
     "data": {
      "image/png": "[encoded data removed]",
      "text/plain": [
       "<Figure size 1800x1800 with 1 Axes>"
      ]
     },
     "metadata": {},
     "output_type": "display_data"
    }
   ],
   "source": [
    "# Рисуем только первые 100 слов.\n",
    "labels_to_draw = [labels2[i] for i in range(num_words_to_draw2)]\n",
    "a = plot_with_labels(low_dim_vectors, labels_to_draw)"
   ]
  },
  {
   "cell_type": "markdown",
   "metadata": {
    "collapsed": true
   },
   "source": [
    "### Попробуем с помощью нашей модели улучшить качество кластеризации текстов\n",
    "Если вы не знаете, что такое кластеризация - почитать об этом можно по [ссылке](http://scikit-learn.org/stable/modules/clustering.html).\n",
    "\n",
    "Если вам все равно кажется, что это сложно, и вы чувствуете себя более уверено в задаче классификации - вместо задачи кластеризации можно рассматривать задачу классификации - тогда вместо функции quality используйте roc-auc из библиотеки scikit-learn, все остальные шаги предобработки и измерения признаков аналогичны."
   ]
  },
  {
   "cell_type": "markdown",
   "metadata": {},
   "source": [
    "Измерять качество кластеризации будем следующим образом - измерим количество правильных попаданий категории в кластеры."
   ]
  },
  {
   "cell_type": "code",
   "execution_count": 55,
   "metadata": {},
   "outputs": [],
   "source": [
    "def quality(preds, target):\n",
    "    permutations = list(itertools.permutations([0, 1, 2]))\n",
    "    scores = []\n",
    "    for a, b, c in permutations:\n",
    "        mapping = {2 : a, 1: b, 0: c}\n",
    "        mapped_preds = [mapping[pred] for pred in preds]\n",
    "        scores.append(float(sum(mapped_preds != target)) / len(target))\n",
    "    return 1 - min(scores)"
   ]
  },
  {
   "cell_type": "markdown",
   "metadata": {},
   "source": [
    "### Пункт 4\n",
    "Кластеризуйте датасет с заданием признаков с помощью one hot encoding - посмотрите на результат."
   ]
  },
  {
   "cell_type": "markdown",
   "metadata": {},
   "source": [
    "Несколько часов было потрачено на то, чтобы разобраться как же сделать one hot encoding. В сети, на стаке почему-то нет особо инфы для нашего случая. Есть ощущение, что так не делают"
   ]
  },
  {
   "cell_type": "markdown",
   "metadata": {},
   "source": [
    "Попытка реализовать one hot encoder. На мини данных даже удачная, на больших комп повис, увы"
   ]
  },
  {
   "cell_type": "code",
   "execution_count": 73,
   "metadata": {},
   "outputs": [],
   "source": [
    "answer = []\n",
    "for z in data_normalized\n",
    "    for i in z: \n",
    "        onehot = [0]*len(x)\n",
    "        if mylist[mylist == i]:\n",
    "            onehot[mylist.index('{}'.format(i))] = 1\n",
    "        answer.append(onehot)"
   ]
  },
  {
   "cell_type": "code",
   "execution_count": 77,
   "metadata": {},
   "outputs": [],
   "source": [
    "flat_list = [item for sublist in data_normalized for item in sublist]"
   ]
  },
  {
   "cell_type": "code",
   "execution_count": 82,
   "metadata": {},
   "outputs": [],
   "source": [
    "mylist = list(set(flat_list))"
   ]
  },
  {
   "cell_type": "markdown",
   "metadata": {},
   "source": [
    "Дальше решил сделать вместо этого CountVectorizer"
   ]
  },
  {
   "cell_type": "code",
   "execution_count": 23,
   "metadata": {},
   "outputs": [],
   "source": [
    "def dummy(doc):\n",
    "    return doc\n",
    "\n",
    "tfidf = CountVectorizer(\n",
    "    tokenizer=dummy,\n",
    "    preprocessor=dummy,\n",
    ")  "
   ]
  },
  {
   "cell_type": "code",
   "execution_count": 32,
   "metadata": {},
   "outputs": [],
   "source": [
    "docs = data_normalized"
   ]
  },
  {
   "cell_type": "code",
   "execution_count": 33,
   "metadata": {},
   "outputs": [
    {
     "data": {
      "text/plain": [
       "CountVectorizer(analyzer='word', binary=False, decode_error='strict',\n",
       "        dtype=<class 'numpy.int64'>, encoding='utf-8', input='content',\n",
       "        lowercase=True, max_df=1.0, max_features=None, min_df=1,\n",
       "        ngram_range=(1, 1),\n",
       "        preprocessor=<function dummy at 0x00000228B640CE18>,\n",
       "        stop_words=None, strip_accents=None,\n",
       "        token_pattern='(?u)\\\\b\\\\w\\\\w+\\\\b',\n",
       "        tokenizer=<function dummy at 0x00000228B640CE18>, vocabulary=None)"
      ]
     },
     "execution_count": 33,
     "metadata": {},
     "output_type": "execute_result"
    }
   ],
   "source": [
    "tfidf.fit(docs)"
   ]
  },
  {
   "cell_type": "code",
   "execution_count": 44,
   "metadata": {},
   "outputs": [],
   "source": [
    "v_2 = tfidf.transform(data_normalized)"
   ]
  },
  {
   "cell_type": "code",
   "execution_count": 45,
   "metadata": {},
   "outputs": [],
   "source": [
    "new = v_2.toarray()"
   ]
  },
  {
   "cell_type": "code",
   "execution_count": 43,
   "metadata": {},
   "outputs": [
    {
     "name": "stdout",
     "output_type": "stream",
     "text": [
      "[0 0 0 ... 0 0 0]\n"
     ]
    }
   ],
   "source": [
    "print(v_2.toarray()[1])"
   ]
  },
  {
   "cell_type": "code",
   "execution_count": 48,
   "metadata": {},
   "outputs": [
    {
     "data": {
      "text/plain": [
       "(1777, 24142)"
      ]
     },
     "execution_count": 48,
     "metadata": {},
     "output_type": "execute_result"
    }
   ],
   "source": [
    "new.shape"
   ]
  },
  {
   "cell_type": "code",
   "execution_count": 50,
   "metadata": {},
   "outputs": [],
   "source": [
    "preds = MiniBatchKMeans(n_clusters=3).fit_predict(new)"
   ]
  },
  {
   "cell_type": "code",
   "execution_count": 56,
   "metadata": {},
   "outputs": [
    {
     "data": {
      "text/plain": [
       "0.39504783342712435"
      ]
     },
     "execution_count": 56,
     "metadata": {},
     "output_type": "execute_result"
    }
   ],
   "source": [
    "quality(preds, dataset.target)"
   ]
  },
  {
   "cell_type": "markdown",
   "metadata": {},
   "source": [
    "Как видим, точность очень низкая "
   ]
  },
  {
   "cell_type": "markdown",
   "metadata": {},
   "source": [
    "### Пункт 5\n",
    "Далее кластеризуем тексты на векторах, полученных из модели, которую мы сами обучили."
   ]
  },
  {
   "cell_type": "markdown",
   "metadata": {},
   "source": [
    "Напишем функцию, которая делает из предложения вектор - усредняет векторы всех слов в этом предложении. Если слова нет в словаре, то вместо вектора этого слова используется нулевой вектор."
   ]
  },
  {
   "cell_type": "code",
   "execution_count": 119,
   "metadata": {},
   "outputs": [],
   "source": [
    "def average_feature_vector(words, model):  \n",
    "    x = 0\n",
    "    for word in words: \n",
    "        try:\n",
    "            emb = model[word]\n",
    "            x += emb\n",
    "        except: \n",
    "            x = x + 0\n",
    "    average_feature_vector = x/len(words)\n",
    "    return average_feature_vector"
   ]
  },
  {
   "cell_type": "markdown",
   "metadata": {},
   "source": [
    "Применим функцию к нашим данным (уже нормализованным функцией normalize)."
   ]
  },
  {
   "cell_type": "code",
   "execution_count": 146,
   "metadata": {},
   "outputs": [],
   "source": [
    "data_normalized_vectors = [average_feature_vector(sent, model)\n",
    "                           for sent in data_normalized]"
   ]
  },
  {
   "cell_type": "markdown",
   "metadata": {},
   "source": [
    "Сначала попробуем PCA"
   ]
  },
  {
   "cell_type": "code",
   "execution_count": 147,
   "metadata": {},
   "outputs": [],
   "source": [
    "low_dim_vectors = embeddings_2d(data_normalized_vectors)"
   ]
  },
  {
   "cell_type": "code",
   "execution_count": 148,
   "metadata": {
    "ExecuteTime": {
     "end_time": "2019-04-14T21:56:54.491658Z",
     "start_time": "2019-04-14T21:56:54.369537Z"
    }
   },
   "outputs": [
    {
     "data": {
      "text/plain": [
       "0.8244231851435002"
      ]
     },
     "execution_count": 148,
     "metadata": {},
     "output_type": "execute_result"
    }
   ],
   "source": [
    "preds = MiniBatchKMeans(n_clusters=3).fit_predict(low_dim_vectors)\n",
    "quality(preds, dataset.target)"
   ]
  },
  {
   "cell_type": "markdown",
   "metadata": {},
   "source": [
    "Сожмем массив признаков с помощью TSNE до нескольких компонент (попробуйте поварьировать число компонент)."
   ]
  },
  {
   "cell_type": "code",
   "execution_count": 149,
   "metadata": {},
   "outputs": [],
   "source": [
    "def embeddings_2d_TSNE(embeddings):\n",
    "    tsne = TSNE(n_components=2)\n",
    "    tsne_result = tsne.fit_transform(embeddings)\n",
    "    return tsne_result"
   ]
  },
  {
   "cell_type": "code",
   "execution_count": 150,
   "metadata": {},
   "outputs": [],
   "source": [
    "low_dim_vectors = embeddings_2d_TSNE(data_normalized_vectors)"
   ]
  },
  {
   "cell_type": "markdown",
   "metadata": {},
   "source": [
    "Примените алгоритм кластеризации (например, K-means)."
   ]
  },
  {
   "cell_type": "code",
   "execution_count": 151,
   "metadata": {
    "ExecuteTime": {
     "end_time": "2019-04-14T21:56:54.491658Z",
     "start_time": "2019-04-14T21:56:54.369537Z"
    }
   },
   "outputs": [
    {
     "data": {
      "text/plain": [
       "0.963984243106359"
      ]
     },
     "execution_count": 151,
     "metadata": {},
     "output_type": "execute_result"
    }
   ],
   "source": [
    "preds = MiniBatchKMeans(n_clusters=3).fit_predict(low_dim_vectors)\n",
    "quality(preds, dataset.target)"
   ]
  },
  {
   "cell_type": "markdown",
   "metadata": {},
   "source": [
    "Интересно то, что результат с TSNE значительно превосходит результат с PCA"
   ]
  },
  {
   "cell_type": "markdown",
   "metadata": {
    "collapsed": true
   },
   "source": [
    "### Пункт 6\n",
    "\n",
    "Кластеризуйте тексты на векторах, полученных из предобученной модели. Какой результат получился лучше? Почему?"
   ]
  },
  {
   "cell_type": "code",
   "execution_count": 152,
   "metadata": {},
   "outputs": [],
   "source": [
    "data_normalized_vectors = [average_feature_vector(sent, model_googleNews)\n",
    "                           for sent in data_normalized]"
   ]
  },
  {
   "cell_type": "code",
   "execution_count": 153,
   "metadata": {},
   "outputs": [],
   "source": [
    "low_dim_vectors = embeddings_2d(data_normalized_vectors)"
   ]
  },
  {
   "cell_type": "code",
   "execution_count": 154,
   "metadata": {},
   "outputs": [
    {
     "data": {
      "text/plain": [
       "0.7602701181767023"
      ]
     },
     "execution_count": 154,
     "metadata": {},
     "output_type": "execute_result"
    }
   ],
   "source": [
    "preds = MiniBatchKMeans(n_clusters=3).fit_predict(low_dim_vectors)\n",
    "quality(preds, dataset.target)"
   ]
  },
  {
   "cell_type": "code",
   "execution_count": 160,
   "metadata": {},
   "outputs": [],
   "source": [
    "low_dim_vectors = embeddings_2d_TSNE(data_normalized_vectors)"
   ]
  },
  {
   "cell_type": "code",
   "execution_count": 161,
   "metadata": {},
   "outputs": [
    {
     "data": {
      "text/plain": [
       "0.9752391671356219"
      ]
     },
     "execution_count": 161,
     "metadata": {},
     "output_type": "execute_result"
    }
   ],
   "source": [
    "preds = MiniBatchKMeans(n_clusters=3).fit_predict(low_dim_vectors)\n",
    "quality(preds, dataset.target)"
   ]
  },
  {
   "cell_type": "markdown",
   "metadata": {},
   "source": [
    "Результат хуже на 6% с PCA и на 1 % лучше с TSNE (ещё было обнаружено, что результаты очень нестабильны, большая вариация). Казалось, что на предобученной модели результат должен быть выше за счёт большей обучающей выборки и соответственно большей точности эмбедингов. Но нет. Причина возможно в том, что наша модель обучалась на специфичных данных, в которых намного чаще встречаются тексты тематически похожие на определяемые нами кластеры. Если так, тогда и кластеры определять она будет лучше. В каком-то смысле это переобучение, которое в данной задаче играет нам на руку"
   ]
  },
  {
   "cell_type": "markdown",
   "metadata": {},
   "source": [
    "### Пункт 7"
   ]
  },
  {
   "cell_type": "markdown",
   "metadata": {
    "collapsed": true
   },
   "source": [
    "Попробуйте получить аналогичные векторы и провести исследование на них с помощью fastq - [неплохое введение](https://www.analyticsvidhya.com/blog/2017/07/word-representations-text-classification-using-fasttext-nlp-facebook/)."
   ]
  },
  {
   "cell_type": "markdown",
   "metadata": {},
   "source": [
    "Обучаю модель на таких же данных. Данные по 20 news groups взял с https://www.kaggle.com/crawford/20-newsgroups. Датасет разделён по темам и в одном из файлов или нескольких есть символы в другой кодировке. Первый скор это модель обученная только на тексте soc.religion.christian, как видим скор кластеризации низкий 66%. Затем удалось решить проблему с кодировками и обучить на всех трёх текстах, скор 96%, что в сравнении с другими моделями хорошо. Думаю, если взять предобученную или обучить на обширном датасете, то скор будет лучше, чем у предыдущих моделей"
   ]
  },
  {
   "cell_type": "code",
   "execution_count": 193,
   "metadata": {},
   "outputs": [],
   "source": [
    "model = fasttext.skipgram('soc.religion.christian.txt', 'model')"
   ]
  },
  {
   "cell_type": "code",
   "execution_count": 214,
   "metadata": {},
   "outputs": [],
   "source": [
    "model_fast = fasttext.skipgram('plain.txt', 'model')"
   ]
  },
  {
   "cell_type": "code",
   "execution_count": 215,
   "metadata": {},
   "outputs": [],
   "source": [
    "def average_feature_vector_fast(words, model):  \n",
    "    x = 0\n",
    "    for word in words: \n",
    "        try:\n",
    "            emb = np.array(model[word])\n",
    "            x += emb\n",
    "        except: \n",
    "            x = x + 0\n",
    "    average_feature_vector = x/len(words)\n",
    "    return average_feature_vector"
   ]
  },
  {
   "cell_type": "code",
   "execution_count": 216,
   "metadata": {},
   "outputs": [],
   "source": [
    "data_normalized_vectors = [average_feature_vector_fast(sent, model_fast)\n",
    "                           for sent in data_normalized]"
   ]
  },
  {
   "cell_type": "code",
   "execution_count": 217,
   "metadata": {},
   "outputs": [],
   "source": [
    "low_dim_vectors_fast = embeddings_2d_TSNE(data_normalized_vectors)"
   ]
  },
  {
   "cell_type": "code",
   "execution_count": 206,
   "metadata": {},
   "outputs": [
    {
     "data": {
      "text/plain": [
       "0.6646032639279684"
      ]
     },
     "execution_count": 206,
     "metadata": {},
     "output_type": "execute_result"
    }
   ],
   "source": [
    "preds = MiniBatchKMeans(n_clusters=3).fit_predict(low_dim_vectors_fast)\n",
    "quality(preds, dataset.target)"
   ]
  },
  {
   "cell_type": "code",
   "execution_count": 218,
   "metadata": {},
   "outputs": [
    {
     "data": {
      "text/plain": [
       "0.9662352279122116"
      ]
     },
     "execution_count": 218,
     "metadata": {},
     "output_type": "execute_result"
    }
   ],
   "source": [
    "preds = MiniBatchKMeans(n_clusters=3).fit_predict(low_dim_vectors_fast)\n",
    "quality(preds, dataset.target)"
   ]
  }
 ],
 "metadata": {
  "anaconda-cloud": {},
  "kernelspec": {
   "display_name": "DMIA_env",
   "language": "python",
   "name": "dmia_env"
  },
  "language_info": {
   "codemirror_mode": {
    "name": "ipython",
    "version": 3
   },
   "file_extension": ".py",
   "mimetype": "text/x-python",
   "name": "python",
   "nbconvert_exporter": "python",
   "pygments_lexer": "ipython3",
   "version": "3.6.5"
  },
  "varInspector": {
   "cols": {
    "lenName": 16,
    "lenType": 16,
    "lenVar": 40
   },
   "kernels_config": {
    "python": {
     "delete_cmd_postfix": "",
     "delete_cmd_prefix": "del ",
     "library": "var_list.py",
     "varRefreshCmd": "print(var_dic_list())"
    },
    "r": {
     "delete_cmd_postfix": ") ",
     "delete_cmd_prefix": "rm(",
     "library": "var_list.r",
     "varRefreshCmd": "cat(var_dic_list()) "
    }
   },
   "types_to_exclude": [
    "module",
    "function",
    "builtin_function_or_method",
    "instance",
    "_Feature"
   ],
   "window_display": false
  }
 },
 "nbformat": 4,
 "nbformat_minor": 2
}
