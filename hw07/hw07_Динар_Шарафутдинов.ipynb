{
 "cells": [
  {
   "cell_type": "markdown",
   "metadata": {},
   "source": [
    "### Эмбеддинги в NLP"
   ]
  },
  {
   "cell_type": "markdown",
   "metadata": {},
   "source": [
    "В этом задании мы научимся работать с моделями для построения векторных представлений текста. Загрузим и потестируем предобученные модели, посмотрим, какие свойства и функции у них есть, обучим свою модель и с помощью нее улучшим качество кластеризации(и/или классификации) текстов.\n",
    "\n",
    "Перед тем как приступать к выполнению задания не забудьте выполнить команду pip install -r <path_to_rep_requirements.txt> для того, чтобы в вашем виртуальном окружении были установлены правильные версии python пакетов."
   ]
  },
  {
   "cell_type": "code",
   "execution_count": 1,
   "metadata": {
    "ExecuteTime": {
     "end_time": "2019-04-14T21:57:26.693546Z",
     "start_time": "2019-04-14T21:57:25.788955Z"
    }
   },
   "outputs": [],
   "source": [
    "import string\n",
    "import warnings\n",
    "import logging\n",
    "import itertools\n",
    "\n",
    "import nltk\n",
    "import gensim # https://radimrehurek.com/gensim/ \n",
    "import pandas as pd\n",
    "import matplotlib as mpl\n",
    "import matplotlib.pyplot as plt\n",
    "from tqdm import tqdm # progress bar https://github.com/tqdm/tqdm\n",
    "from gensim.models import Word2Vec\n",
    "from sklearn.manifold import TSNE\n",
    "from sklearn.datasets import fetch_20newsgroups # датасет\n",
    "from sklearn.cluster import MiniBatchKMeans \n",
    "\n",
    "import re # для удаления цифр \n",
    "import string # пунктуация\n",
    "from nltk.stem import PorterStemmer # stemmer\n",
    "from nltk.stem import WordNetLemmatizer # Lemmatizer\n",
    "from sklearn.decomposition import PCA # снижение размерности\n",
    "from sklearn.feature_extraction.text import CountVectorizer\n",
    "import fasttext # fasttext"
   ]
  },
  {
   "cell_type": "code",
   "execution_count": 2,
   "metadata": {},
   "outputs": [],
   "source": [
    "logging.basicConfig(format='%(asctime)s : %(levelname)s : %(message)s',\n",
    "                    level=logging.INFO)"
   ]
  },
  {
   "cell_type": "code",
   "execution_count": 3,
   "metadata": {
    "ExecuteTime": {
     "end_time": "2019-04-14T14:58:52.231976Z",
     "start_time": "2019-04-14T14:58:51.950367Z"
    }
   },
   "outputs": [
    {
     "name": "stdout",
     "output_type": "stream",
     "text": [
      "Populating the interactive namespace from numpy and matplotlib\n"
     ]
    }
   ],
   "source": [
    "%pylab inline\n",
    "\n",
    "plt.style.use('default')\n",
    "figsize(12, 9)\n",
    "\n",
    "warnings.filterwarnings(\"ignore\")\n",
    "\n",
    "pd.set_option('display.max_columns', None)\n",
    "\n",
    "mpl.rcParams['font.family'] = 'Ubuntu'\n",
    "\n",
    "plt.rc('text', usetex=False)\n",
    "plt.rc('font', family='serif')\n",
    "plt.rc('font', weight='bold')\n",
    "plt.rc('xtick', labelsize=14) \n",
    "plt.rc('ytick', labelsize=14)\n",
    " \n",
    "font = {'family': 'Verdana',\n",
    "        'weight': 'normal'}\n",
    "mpl.rc('font', **font)"
   ]
  },
  {
   "cell_type": "markdown",
   "metadata": {},
   "source": [
    "Скачиваем rucorpora 15 с [диска](https://yadi.sk/d/fLRMFhm03Pbs98).\n",
    "Либо выбираем предобученную модель с https://rusvectores.org/ru/models/. Выбор нужно обосновать."
   ]
  },
  {
   "cell_type": "code",
   "execution_count": 4,
   "metadata": {
    "ExecuteTime": {
     "end_time": "2019-04-14T14:59:15.998621Z",
     "start_time": "2019-04-14T14:59:15.995267Z"
    }
   },
   "outputs": [],
   "source": [
    "path_to_ruscorpora = 'ruscorpora.model.bin'"
   ]
  },
  {
   "cell_type": "markdown",
   "metadata": {},
   "source": [
    "#### Загрузим обученную на ruscorpora модель word2vec"
   ]
  },
  {
   "cell_type": "code",
   "execution_count": 5,
   "metadata": {
    "ExecuteTime": {
     "end_time": "2019-04-14T15:03:16.478785Z",
     "start_time": "2019-04-14T15:02:59.209097Z"
    },
    "collapsed": true
   },
   "outputs": [
    {
     "name": "stderr",
     "output_type": "stream",
     "text": [
      "2019-04-21 19:50:19,717 : INFO : loading projection weights from ruscorpora.model.bin\n",
      "2019-04-21 19:50:19,720 : WARNING : this function is deprecated, use smart_open.open instead\n",
      "2019-04-21 19:50:41,901 : INFO : loaded (374526, 300) matrix from ruscorpora.model.bin\n"
     ]
    },
    {
     "data": {
      "text/plain": [
       "{'это': <gensim.models.keyedvectors.Vocab at 0x1bba49deac8>,\n",
       " 'весь': <gensim.models.keyedvectors.Vocab at 0x1bba49deb38>,\n",
       " 'человек': <gensim.models.keyedvectors.Vocab at 0x1bba49dea90>,\n",
       " 'мочь': <gensim.models.keyedvectors.Vocab at 0x1bba49deba8>,\n",
       " 'год': <gensim.models.keyedvectors.Vocab at 0x1bba49de208>,\n",
       " 'сказать': <gensim.models.keyedvectors.Vocab at 0x1bba49dec18>,\n",
       " 'время': <gensim.models.keyedvectors.Vocab at 0x1bba49deda0>,\n",
       " 'говорить': <gensim.models.keyedvectors.Vocab at 0x1bba49deb00>,\n",
       " 'становиться': <gensim.models.keyedvectors.Vocab at 0x1bba49debe0>,\n",
       " 'знать': <gensim.models.keyedvectors.Vocab at 0x1bba49ded68>,\n",
       " 'самый': <gensim.models.keyedvectors.Vocab at 0x1bbb13e7e10>,\n",
       " 'жизнь': <gensim.models.keyedvectors.Vocab at 0x1bbb13e7eb8>,\n",
       " 'дело': <gensim.models.keyedvectors.Vocab at 0x1bbb13e7f98>,\n",
       " 'день': <gensim.models.keyedvectors.Vocab at 0x1bbb13e7e48>,\n",
       " 'рука': <gensim.models.keyedvectors.Vocab at 0x1bbb13e79e8>,\n",
       " 'первый': <gensim.models.keyedvectors.Vocab at 0x1bbb13e7a20>,\n",
       " 'очень': <gensim.models.keyedvectors.Vocab at 0x1bbb13e7a58>,\n",
       " 'новый': <gensim.models.keyedvectors.Vocab at 0x1bbb13e7b38>,\n",
       " 'давать': <gensim.models.keyedvectors.Vocab at 0x1bbb13e7668>,\n",
       " 'идти': <gensim.models.keyedvectors.Vocab at 0x1bbb13e7c18>,\n",
       " 'большой': <gensim.models.keyedvectors.Vocab at 0x1bbb13e7f60>,\n",
       " 'слово': <gensim.models.keyedvectors.Vocab at 0x1bbb13e7a90>,\n",
       " 'понимать': <gensim.models.keyedvectors.Vocab at 0x1bbb13e7ac8>,\n",
       " 'глаз': <gensim.models.keyedvectors.Vocab at 0x1bbb13e7b00>,\n",
       " 'работа': <gensim.models.keyedvectors.Vocab at 0x1bbb13e7c50>,\n",
       " 'лицо': <gensim.models.keyedvectors.Vocab at 0x1bbb13e7c88>,\n",
       " 'иметь': <gensim.models.keyedvectors.Vocab at 0x1bbb13e7e80>,\n",
       " 'место': <gensim.models.keyedvectors.Vocab at 0x1bbb13e7b70>,\n",
       " 'хотеть': <gensim.models.keyedvectors.Vocab at 0x1bbb13e7d30>,\n",
       " 'видеть': <gensim.models.keyedvectors.Vocab at 0x1bbb13e7cc0>,\n",
       " 'каждый': <gensim.models.keyedvectors.Vocab at 0x1bbb13e7d68>,\n",
       " 'должный': <gensim.models.keyedvectors.Vocab at 0x1bbb13e7da0>,\n",
       " 'друг': <gensim.models.keyedvectors.Vocab at 0x1bbb13e7ef0>,\n",
       " 'ничто': <gensim.models.keyedvectors.Vocab at 0x1bbb13e7fd0>,\n",
       " 'оставаться': <gensim.models.keyedvectors.Vocab at 0x1bbb13e7588>,\n",
       " 'голова': <gensim.models.keyedvectors.Vocab at 0x1bbb13e7630>,\n",
       " 'сторона': <gensim.models.keyedvectors.Vocab at 0x1bbb13e76a0>,\n",
       " 'спрашивать': <gensim.models.keyedvectors.Vocab at 0x1bbb13e7710>,\n",
       " 'стоять': <gensim.models.keyedvectors.Vocab at 0x1bbb13e76d8>,\n",
       " 'дом': <gensim.models.keyedvectors.Vocab at 0x1bbb13e7780>,\n",
       " 'думать': <gensim.models.keyedvectors.Vocab at 0x1bbb13e7748>,\n",
       " 'начинать': <gensim.models.keyedvectors.Vocab at 0x1bbb13e77b8>,\n",
       " 'вопрос': <gensim.models.keyedvectors.Vocab at 0x1bbb13e7898>,\n",
       " 'несколько': <gensim.models.keyedvectors.Vocab at 0x1bbb13e7908>,\n",
       " 'жить': <gensim.models.keyedvectors.Vocab at 0x1bbb13e7978>,\n",
       " 'россия': <gensim.models.keyedvectors.Vocab at 0x1bbb13e78d0>,\n",
       " 'русский': <gensim.models.keyedvectors.Vocab at 0x1bbb13e7940>,\n",
       " 'получать': <gensim.models.keyedvectors.Vocab at 0x1bbb13e79b0>,\n",
       " 'сила': <gensim.models.keyedvectors.Vocab at 0x1bbb08dbda0>,\n",
       " 'сделать': <gensim.models.keyedvectors.Vocab at 0x1bbb1220f60>,\n",
       " 'последний': <gensim.models.keyedvectors.Vocab at 0x1bbb1444a20>,\n",
       " 'выходить': <gensim.models.keyedvectors.Vocab at 0x1bbb1444a58>,\n",
       " 'мир': <gensim.models.keyedvectors.Vocab at 0x1bbb14446d8>,\n",
       " 'какой-то': <gensim.models.keyedvectors.Vocab at 0x1bbb1444630>,\n",
       " 'хороший': <gensim.models.keyedvectors.Vocab at 0x1bbb14440b8>,\n",
       " 'случай': <gensim.models.keyedvectors.Vocab at 0x1bbb14440f0>,\n",
       " 'делать': <gensim.models.keyedvectors.Vocab at 0x1bbb1444080>,\n",
       " 'конец': <gensim.models.keyedvectors.Vocab at 0x1bbb1444438>,\n",
       " 'просто': <gensim.models.keyedvectors.Vocab at 0x1bbb1444048>,\n",
       " 'отвечать': <gensim.models.keyedvectors.Vocab at 0x1bbb1444128>,\n",
       " 'оказываться': <gensim.models.keyedvectors.Vocab at 0x1bbb1444160>,\n",
       " 'приходить': <gensim.models.keyedvectors.Vocab at 0x1bbb1444240>,\n",
       " 'часть': <gensim.models.keyedvectors.Vocab at 0x1bbb1444278>,\n",
       " 'пойти': <gensim.models.keyedvectors.Vocab at 0x1bbb1444208>,\n",
       " 'город': <gensim.models.keyedvectors.Vocab at 0x1bbb1444198>,\n",
       " 'ребенок': <gensim.models.keyedvectors.Vocab at 0x1bbb14441d0>,\n",
       " 'земля': <gensim.models.keyedvectors.Vocab at 0x1bbb14442b0>,\n",
       " 'вид': <gensim.models.keyedvectors.Vocab at 0x1bbb1444320>,\n",
       " 'г': <gensim.models.keyedvectors.Vocab at 0x1bbb14443c8>,\n",
       " 'что-то': <gensim.models.keyedvectors.Vocab at 0x1bbb1444400>,\n",
       " 'страна': <gensim.models.keyedvectors.Vocab at 0x1bbb1444358>,\n",
       " 'принимать': <gensim.models.keyedvectors.Vocab at 0x1bbb1444390>,\n",
       " 'вода': <gensim.models.keyedvectors.Vocab at 0x1bbb14442e8>,\n",
       " 'высокий': <gensim.models.keyedvectors.Vocab at 0x1bbb14444a8>,\n",
       " 'хотя': <gensim.models.keyedvectors.Vocab at 0x1bbb1444470>,\n",
       " 'москва': <gensim.models.keyedvectors.Vocab at 0x1bbb1444550>,\n",
       " 'ваш': <gensim.models.keyedvectors.Vocab at 0x1bbb14445c0>,\n",
       " 'сидеть': <gensim.models.keyedvectors.Vocab at 0x1bbb14445f8>,\n",
       " 'смотреть': <gensim.models.keyedvectors.Vocab at 0x1bbb14444e0>,\n",
       " 'являться': <gensim.models.keyedvectors.Vocab at 0x1bbb1444518>,\n",
       " 'находить': <gensim.models.keyedvectors.Vocab at 0x1bbb1444710>,\n",
       " 'лишь': <gensim.models.keyedvectors.Vocab at 0x1bbb1444780>,\n",
       " 'взять': <gensim.models.keyedvectors.Vocab at 0x1bbb1444588>,\n",
       " 'проходить': <gensim.models.keyedvectors.Vocab at 0x1bbb14447f0>,\n",
       " 'работать': <gensim.models.keyedvectors.Vocab at 0x1bbb14446a0>,\n",
       " 'никто': <gensim.models.keyedvectors.Vocab at 0x1bbafaeaef0>,\n",
       " 'уходить': <gensim.models.keyedvectors.Vocab at 0x1bbb045eef0>,\n",
       " 'нога': <gensim.models.keyedvectors.Vocab at 0x1bbb045ec18>,\n",
       " 'пока': <gensim.models.keyedvectors.Vocab at 0x1bbb045ef28>,\n",
       " 'второй': <gensim.models.keyedvectors.Vocab at 0x1bbb1406ac8>,\n",
       " 'отношение': <gensim.models.keyedvectors.Vocab at 0x1bbb1406ba8>,\n",
       " 'ночь': <gensim.models.keyedvectors.Vocab at 0x1bbb1406b38>,\n",
       " 'час': <gensim.models.keyedvectors.Vocab at 0x1bbb1406b70>,\n",
       " 'женщина': <gensim.models.keyedvectors.Vocab at 0x1bbb1406b00>,\n",
       " 'общий': <gensim.models.keyedvectors.Vocab at 0x1bbb1406be0>,\n",
       " 'любить': <gensim.models.keyedvectors.Vocab at 0x1bbb1406c18>,\n",
       " 'также': <gensim.models.keyedvectors.Vocab at 0x1bbb1406c50>,\n",
       " 'отец': <gensim.models.keyedvectors.Vocab at 0x1bbb1406c88>,\n",
       " 'казаться': <gensim.models.keyedvectors.Vocab at 0x1bbb1406cc0>,\n",
       " 'голос': <gensim.models.keyedvectors.Vocab at 0x1bbb1406cf8>,\n",
       " 'именно': <gensim.models.keyedvectors.Vocab at 0x1bbb1406d30>,\n",
       " 'приходиться': <gensim.models.keyedvectors.Vocab at 0x1bbb1406d68>,\n",
       " 'писать': <gensim.models.keyedvectors.Vocab at 0x1bbb1406da0>,\n",
       " 'т': <gensim.models.keyedvectors.Vocab at 0x1bbb1406dd8>,\n",
       " 'образ': <gensim.models.keyedvectors.Vocab at 0x1bbb1406e10>,\n",
       " 'всякий': <gensim.models.keyedvectors.Vocab at 0x1bbb1406e48>,\n",
       " 'старый': <gensim.models.keyedvectors.Vocab at 0x1bbb1406e80>,\n",
       " 'называть': <gensim.models.keyedvectors.Vocab at 0x1bbb1406eb8>,\n",
       " 'однако': <gensim.models.keyedvectors.Vocab at 0x1bbb1406ef0>,\n",
       " 'народ': <gensim.models.keyedvectors.Vocab at 0x1bbb1406f28>,\n",
       " 'решать': <gensim.models.keyedvectors.Vocab at 0x1bbb1406f60>,\n",
       " 'рассказывать': <gensim.models.keyedvectors.Vocab at 0x1bbb1406f98>,\n",
       " 'почему': <gensim.models.keyedvectors.Vocab at 0x1bbb1406fd0>,\n",
       " 'увидеть': <gensim.models.keyedvectors.Vocab at 0x1bbb1459048>,\n",
       " 'дверь': <gensim.models.keyedvectors.Vocab at 0x1bbb1459080>,\n",
       " 'система': <gensim.models.keyedvectors.Vocab at 0x1bbb14590b8>,\n",
       " 'м': <gensim.models.keyedvectors.Vocab at 0x1bbb14590f0>,\n",
       " 'происходить': <gensim.models.keyedvectors.Vocab at 0x1bbb1459128>,\n",
       " 'далеко': <gensim.models.keyedvectors.Vocab at 0x1bbb1459160>,\n",
       " 'война': <gensim.models.keyedvectors.Vocab at 0x1bbb1459198>,\n",
       " 'книга': <gensim.models.keyedvectors.Vocab at 0x1bbb14591d0>,\n",
       " 'деньги': <gensim.models.keyedvectors.Vocab at 0x1bbb1459208>,\n",
       " 'мало': <gensim.models.keyedvectors.Vocab at 0x1bbb1459240>,\n",
       " 'сразу': <gensim.models.keyedvectors.Vocab at 0x1bbb1459278>,\n",
       " 'полный': <gensim.models.keyedvectors.Vocab at 0x1bbb14592b0>,\n",
       " 'представлять': <gensim.models.keyedvectors.Vocab at 0x1bbb14592e8>,\n",
       " 'молодой': <gensim.models.keyedvectors.Vocab at 0x1bbb1459320>,\n",
       " 'пора': <gensim.models.keyedvectors.Vocab at 0x1bbb1459358>,\n",
       " 'главный': <gensim.models.keyedvectors.Vocab at 0x1bbb1459390>,\n",
       " 'вместе': <gensim.models.keyedvectors.Vocab at 0x1bbb14593c8>,\n",
       " 'бог': <gensim.models.keyedvectors.Vocab at 0x1bbb1459400>,\n",
       " 'душа': <gensim.models.keyedvectors.Vocab at 0x1bbb1459438>,\n",
       " 'белый': <gensim.models.keyedvectors.Vocab at 0x1bbb1459470>,\n",
       " 'показывать': <gensim.models.keyedvectors.Vocab at 0x1bbb14594a8>,\n",
       " 'оно': <gensim.models.keyedvectors.Vocab at 0x1bbb14594e0>,\n",
       " 'путь': <gensim.models.keyedvectors.Vocab at 0x1bbb1459518>,\n",
       " 'считать': <gensim.models.keyedvectors.Vocab at 0x1bbb1459550>,\n",
       " 'дорога': <gensim.models.keyedvectors.Vocab at 0x1bbb1459588>,\n",
       " 'история': <gensim.models.keyedvectors.Vocab at 0x1bbb14595c0>,\n",
       " 'советский': <gensim.models.keyedvectors.Vocab at 0x1bbb14595f8>,\n",
       " 'свет': <gensim.models.keyedvectors.Vocab at 0x1bbb1459630>,\n",
       " 'сегодня': <gensim.models.keyedvectors.Vocab at 0x1bbb1459668>,\n",
       " 'мысль': <gensim.models.keyedvectors.Vocab at 0x1bbb14596a0>,\n",
       " 'власть': <gensim.models.keyedvectors.Vocab at 0x1bbb14596d8>,\n",
       " 'стол': <gensim.models.keyedvectors.Vocab at 0x1bbb1459710>,\n",
       " 'черный': <gensim.models.keyedvectors.Vocab at 0x1bbb1459748>,\n",
       " 'правда': <gensim.models.keyedvectors.Vocab at 0x1bbb1459780>,\n",
       " 'вечер': <gensim.models.keyedvectors.Vocab at 0x1bbb14597b8>,\n",
       " 'машина': <gensim.models.keyedvectors.Vocab at 0x1bbb14597f0>,\n",
       " 'маленький': <gensim.models.keyedvectors.Vocab at 0x1bbb1459828>,\n",
       " 'некоторый': <gensim.models.keyedvectors.Vocab at 0x1bbb1459860>,\n",
       " 'находиться': <gensim.models.keyedvectors.Vocab at 0x1bbb1459898>,\n",
       " 'право': <gensim.models.keyedvectors.Vocab at 0x1bbb14598d0>,\n",
       " 'нужно': <gensim.models.keyedvectors.Vocab at 0x1bbb1459908>,\n",
       " 'российский': <gensim.models.keyedvectors.Vocab at 0x1bbb1459940>,\n",
       " 'входить': <gensim.models.keyedvectors.Vocab at 0x1bbb1459978>,\n",
       " 'никакой': <gensim.models.keyedvectors.Vocab at 0x1bbb14599b0>,\n",
       " 'имя': <gensim.models.keyedvectors.Vocab at 0x1bbb14599e8>,\n",
       " 'скоро': <gensim.models.keyedvectors.Vocab at 0x1bbb1459a20>,\n",
       " 'великий': <gensim.models.keyedvectors.Vocab at 0x1bbb1459a58>,\n",
       " 'минута': <gensim.models.keyedvectors.Vocab at 0x1bbb1459a90>,\n",
       " 'поэтому': <gensim.models.keyedvectors.Vocab at 0x1bbb1459ac8>,\n",
       " 'часто': <gensim.models.keyedvectors.Vocab at 0x1bbb1459b00>,\n",
       " 'жена': <gensim.models.keyedvectors.Vocab at 0x1bbb1459b38>,\n",
       " 'появляться': <gensim.models.keyedvectors.Vocab at 0x1bbb1459b70>,\n",
       " 'вообще': <gensim.models.keyedvectors.Vocab at 0x1bbb1459ba8>,\n",
       " 'мать': <gensim.models.keyedvectors.Vocab at 0x1bbb1459be0>,\n",
       " 'форма': <gensim.models.keyedvectors.Vocab at 0x1bbb1459c18>,\n",
       " 'возможность': <gensim.models.keyedvectors.Vocab at 0x1bbb1459c50>,\n",
       " 'комната': <gensim.models.keyedvectors.Vocab at 0x1bbb1459c88>,\n",
       " 'письмо': <gensim.models.keyedvectors.Vocab at 0x1bbb1459cc0>,\n",
       " 'начало': <gensim.models.keyedvectors.Vocab at 0x1bbb1459cf8>,\n",
       " 'улица': <gensim.models.keyedvectors.Vocab at 0x1bbb1459d30>,\n",
       " 'среди': <gensim.models.keyedvectors.Vocab at 0x1bbb1459d68>,\n",
       " 'лежать': <gensim.models.keyedvectors.Vocab at 0x1bbb1459da0>,\n",
       " 'утро': <gensim.models.keyedvectors.Vocab at 0x1bbb1459dd8>,\n",
       " 'число': <gensim.models.keyedvectors.Vocab at 0x1bbb1459e10>,\n",
       " 'ждать': <gensim.models.keyedvectors.Vocab at 0x1bbb1459e48>,\n",
       " 'замечать': <gensim.models.keyedvectors.Vocab at 0x1bbb1459e80>,\n",
       " 'узнавать': <gensim.models.keyedvectors.Vocab at 0x1bbb1459eb8>,\n",
       " 'например': <gensim.models.keyedvectors.Vocab at 0x1bbb1459ef0>,\n",
       " 'закон': <gensim.models.keyedvectors.Vocab at 0x1bbb1459f28>,\n",
       " 'снова': <gensim.models.keyedvectors.Vocab at 0x1bbb1459f60>,\n",
       " 'разный': <gensim.models.keyedvectors.Vocab at 0x1bbb1459f98>,\n",
       " 'кроме': <gensim.models.keyedvectors.Vocab at 0x1bbb1459fd0>,\n",
       " 'совершенно': <gensim.models.keyedvectors.Vocab at 0x1bbb145b048>,\n",
       " 'условие': <gensim.models.keyedvectors.Vocab at 0x1bbb145b080>,\n",
       " 'военный': <gensim.models.keyedvectors.Vocab at 0x1bbb145b0b8>,\n",
       " 'настоящий': <gensim.models.keyedvectors.Vocab at 0x1bbb145b0f0>,\n",
       " 'группа': <gensim.models.keyedvectors.Vocab at 0x1bbb145b128>,\n",
       " 'быстро': <gensim.models.keyedvectors.Vocab at 0x1bbb145b160>,\n",
       " 'помнить': <gensim.models.keyedvectors.Vocab at 0x1bbb145b198>,\n",
       " 'красный': <gensim.models.keyedvectors.Vocab at 0x1bbb145b1d0>,\n",
       " 'написать': <gensim.models.keyedvectors.Vocab at 0x1bbb145b208>,\n",
       " 'подходить': <gensim.models.keyedvectors.Vocab at 0x1bbb145b240>,\n",
       " 'особенно': <gensim.models.keyedvectors.Vocab at 0x1bbb145b278>,\n",
       " 'читать': <gensim.models.keyedvectors.Vocab at 0x1bbb145b2b0>,\n",
       " 'государственный': <gensim.models.keyedvectors.Vocab at 0x1bbb145b2e8>,\n",
       " 'результат': <gensim.models.keyedvectors.Vocab at 0x1bbb145b320>,\n",
       " 'создавать': <gensim.models.keyedvectors.Vocab at 0x1bbb145b358>,\n",
       " 'нужный': <gensim.models.keyedvectors.Vocab at 0x1bbb145b390>,\n",
       " 'иной': <gensim.models.keyedvectors.Vocab at 0x1bbb145b3c8>,\n",
       " 'язык': <gensim.models.keyedvectors.Vocab at 0x1bbb145b400>,\n",
       " 'проблема': <gensim.models.keyedvectors.Vocab at 0x1bbb145b438>,\n",
       " 'любовь': <gensim.models.keyedvectors.Vocab at 0x1bbb145b470>,\n",
       " 'смерть': <gensim.models.keyedvectors.Vocab at 0x1bbb145b4a8>,\n",
       " 'против': <gensim.models.keyedvectors.Vocab at 0x1bbb145b4e0>,\n",
       " 'окно': <gensim.models.keyedvectors.Vocab at 0x1bbb145b518>,\n",
       " 'решение': <gensim.models.keyedvectors.Vocab at 0x1bbb145b550>,\n",
       " 'тысяча': <gensim.models.keyedvectors.Vocab at 0x1bbb145b588>,\n",
       " 'открывать': <gensim.models.keyedvectors.Vocab at 0x1bbb145b5c0>,\n",
       " 'многий': <gensim.models.keyedvectors.Vocab at 0x1bbb145b5f8>,\n",
       " 'живой': <gensim.models.keyedvectors.Vocab at 0x1bbb145b630>,\n",
       " 'развитие': <gensim.models.keyedvectors.Vocab at 0x1bbb145b668>,\n",
       " 'точно': <gensim.models.keyedvectors.Vocab at 0x1bbb145b6a0>,\n",
       " 'помогать': <gensim.models.keyedvectors.Vocab at 0x1bbb145b6d8>,\n",
       " 'связь': <gensim.models.keyedvectors.Vocab at 0x1bbb145b710>,\n",
       " 'общество': <gensim.models.keyedvectors.Vocab at 0x1bbb145b748>,\n",
       " 'вернуться': <gensim.models.keyedvectors.Vocab at 0x1bbb145b780>,\n",
       " 'начинаться': <gensim.models.keyedvectors.Vocab at 0x1bbb145b7b8>,\n",
       " 'действие': <gensim.models.keyedvectors.Vocab at 0x1bbb145b7f0>,\n",
       " 'ходить': <gensim.models.keyedvectors.Vocab at 0x1bbb145b828>,\n",
       " 'товарищ': <gensim.models.keyedvectors.Vocab at 0x1bbb145b860>,\n",
       " 'процесс': <gensim.models.keyedvectors.Vocab at 0x1bbb145b898>,\n",
       " 'взгляд': <gensim.models.keyedvectors.Vocab at 0x1bbb145b8d0>,\n",
       " 'область': <gensim.models.keyedvectors.Vocab at 0x1bbb145b908>,\n",
       " 'положение': <gensim.models.keyedvectors.Vocab at 0x1bbb145b940>,\n",
       " 'приезжать': <gensim.models.keyedvectors.Vocab at 0x1bbb145b978>,\n",
       " 'рабочий': <gensim.models.keyedvectors.Vocab at 0x1bbb145b9b0>,\n",
       " 'месяц': <gensim.models.keyedvectors.Vocab at 0x1bbb145b9e8>,\n",
       " 'приводить': <gensim.models.keyedvectors.Vocab at 0x1bbb145ba20>,\n",
       " 'цель': <gensim.models.keyedvectors.Vocab at 0x1bbb145ba58>,\n",
       " 'сын': <gensim.models.keyedvectors.Vocab at 0x1bbb145ba90>,\n",
       " 'долго': <gensim.models.keyedvectors.Vocab at 0x1bbb145bac8>,\n",
       " 'тело': <gensim.models.keyedvectors.Vocab at 0x1bbb145bb00>,\n",
       " 'предлагать': <gensim.models.keyedvectors.Vocab at 0x1bbb145bb38>,\n",
       " 'любой': <gensim.models.keyedvectors.Vocab at 0x1bbb145bb70>,\n",
       " 'огромный': <gensim.models.keyedvectors.Vocab at 0x1bbb145bba8>,\n",
       " 'оставлять': <gensim.models.keyedvectors.Vocab at 0x1bbb145bbe0>,\n",
       " 'проводить': <gensim.models.keyedvectors.Vocab at 0x1bbb145bc18>,\n",
       " 'продолжать': <gensim.models.keyedvectors.Vocab at 0x1bbb145bc50>,\n",
       " 'труд': <gensim.models.keyedvectors.Vocab at 0x1bbb145bc88>,\n",
       " 'сердце': <gensim.models.keyedvectors.Vocab at 0x1bbb145bcc0>,\n",
       " 'вызывать': <gensim.models.keyedvectors.Vocab at 0x1bbb145bcf8>,\n",
       " 'сколько': <gensim.models.keyedvectors.Vocab at 0x1bbb145bd30>,\n",
       " 'подумать': <gensim.models.keyedvectors.Vocab at 0x1bbb145bd68>,\n",
       " 'средство': <gensim.models.keyedvectors.Vocab at 0x1bbb145bda0>,\n",
       " 'известный': <gensim.models.keyedvectors.Vocab at 0x1bbb145bdd8>,\n",
       " 'рано': <gensim.models.keyedvectors.Vocab at 0x1bbb145be10>,\n",
       " 'играть': <gensim.models.keyedvectors.Vocab at 0x1bbb145be48>,\n",
       " 'движение': <gensim.models.keyedvectors.Vocab at 0x1bbb145be80>,\n",
       " 'собственный': <gensim.models.keyedvectors.Vocab at 0x1bbb145beb8>,\n",
       " 'школа': <gensim.models.keyedvectors.Vocab at 0x1bbb145bef0>,\n",
       " 'следовать': <gensim.models.keyedvectors.Vocab at 0x1bbb145bf28>,\n",
       " 'бывать': <gensim.models.keyedvectors.Vocab at 0x1bbb145bf60>,\n",
       " 'посмотреть': <gensim.models.keyedvectors.Vocab at 0x1bbb145bf98>,\n",
       " 'забывать': <gensim.models.keyedvectors.Vocab at 0x1bbb145bfd0>,\n",
       " 'садиться': <gensim.models.keyedvectors.Vocab at 0x1bbb1461048>,\n",
       " 'затем': <gensim.models.keyedvectors.Vocab at 0x1bbb1461080>,\n",
       " 'оба': <gensim.models.keyedvectors.Vocab at 0x1bbb14610b8>,\n",
       " 'стена': <gensim.models.keyedvectors.Vocab at 0x1bbb14610f0>,\n",
       " 'армия': <gensim.models.keyedvectors.Vocab at 0x1bbb1461128>,\n",
       " 'позволять': <gensim.models.keyedvectors.Vocab at 0x1bbb1461160>,\n",
       " 'внимание': <gensim.models.keyedvectors.Vocab at 0x1bbb1461198>,\n",
       " 'смысл': <gensim.models.keyedvectors.Vocab at 0x1bbb14611d0>,\n",
       " 'помощь': <gensim.models.keyedvectors.Vocab at 0x1bbb1461208>,\n",
       " 'суд': <gensim.models.keyedvectors.Vocab at 0x1bbb1461240>,\n",
       " 'порядок': <gensim.models.keyedvectors.Vocab at 0x1bbb1461278>,\n",
       " 'мера': <gensim.models.keyedvectors.Vocab at 0x1bbb14612b0>,\n",
       " 'следующий': <gensim.models.keyedvectors.Vocab at 0x1bbb14612e8>,\n",
       " 'назад': <gensim.models.keyedvectors.Vocab at 0x1bbb1461320>,\n",
       " 'д': <gensim.models.keyedvectors.Vocab at 0x1bbb1461358>,\n",
       " 'театр': <gensim.models.keyedvectors.Vocab at 0x1bbb1461390>,\n",
       " 'вести': <gensim.models.keyedvectors.Vocab at 0x1bbb14613c8>,\n",
       " 'е': <gensim.models.keyedvectors.Vocab at 0x1bbb1461400>,\n",
       " 'важный': <gensim.models.keyedvectors.Vocab at 0x1bbb1461438>,\n",
       " 'основной': <gensim.models.keyedvectors.Vocab at 0x1bbb1461470>,\n",
       " 'около': <gensim.models.keyedvectors.Vocab at 0x1bbb14614a8>,\n",
       " 'ко': <gensim.models.keyedvectors.Vocab at 0x1bbb14614e0>,\n",
       " 'статья': <gensim.models.keyedvectors.Vocab at 0x1bbb1461518>,\n",
       " 'момент': <gensim.models.keyedvectors.Vocab at 0x1bbb1461550>,\n",
       " 'поставлять': <gensim.models.keyedvectors.Vocab at 0x1bbb1461588>,\n",
       " 'наука': <gensim.models.keyedvectors.Vocab at 0x1bbb14615c0>,\n",
       " 'подымать': <gensim.models.keyedvectors.Vocab at 0x1bbb14615f8>,\n",
       " 'задача': <gensim.models.keyedvectors.Vocab at 0x1bbb1461630>,\n",
       " 'третий': <gensim.models.keyedvectors.Vocab at 0x1bbb1461668>,\n",
       " 'организация': <gensim.models.keyedvectors.Vocab at 0x1bbb14616a0>,\n",
       " 'собираться': <gensim.models.keyedvectors.Vocab at 0x1bbb14616d8>,\n",
       " 'пять': <gensim.models.keyedvectors.Vocab at 0x1bbb1461710>,\n",
       " 'разговор': <gensim.models.keyedvectors.Vocab at 0x1bbb1461748>,\n",
       " 'совет': <gensim.models.keyedvectors.Vocab at 0x1bbb1461780>,\n",
       " 'кто-то': <gensim.models.keyedvectors.Vocab at 0x1bbb14617b8>,\n",
       " 'чувство': <gensim.models.keyedvectors.Vocab at 0x1bbb14617f0>,\n",
       " 'век': <gensim.models.keyedvectors.Vocab at 0x1bbb1461828>,\n",
       " 'государство': <gensim.models.keyedvectors.Vocab at 0x1bbb1461860>,\n",
       " 'состояние': <gensim.models.keyedvectors.Vocab at 0x1bbb1461898>,\n",
       " 'слышать': <gensim.models.keyedvectors.Vocab at 0x1bbb14618d0>,\n",
       " 'н': <gensim.models.keyedvectors.Vocab at 0x1bbb1461908>,\n",
       " 'рядом': <gensim.models.keyedvectors.Vocab at 0x1bbb1461940>,\n",
       " 'бояться': <gensim.models.keyedvectors.Vocab at 0x1bbb1461978>,\n",
       " 'целый': <gensim.models.keyedvectors.Vocab at 0x1bbb14619b0>,\n",
       " 'чувствовать': <gensim.models.keyedvectors.Vocab at 0x1bbb14619e8>,\n",
       " 'значит': <gensim.models.keyedvectors.Vocab at 0x1bbb1461a20>,\n",
       " 'роль': <gensim.models.keyedvectors.Vocab at 0x1bbb1461a58>,\n",
       " 'из-за': <gensim.models.keyedvectors.Vocab at 0x1bbb1461a90>,\n",
       " 'ряд': <gensim.models.keyedvectors.Vocab at 0x1bbb1461ac8>,\n",
       " 'давно': <gensim.models.keyedvectors.Vocab at 0x1bbb1461b00>,\n",
       " 'составлять': <gensim.models.keyedvectors.Vocab at 0x1bbb1461b38>,\n",
       " 'партия': <gensim.models.keyedvectors.Vocab at 0x1bbb1461b70>,\n",
       " 'качество': <gensim.models.keyedvectors.Vocab at 0x1bbb1461ba8>,\n",
       " 'речь': <gensim.models.keyedvectors.Vocab at 0x1bbb1461be0>,\n",
       " 'правительство': <gensim.models.keyedvectors.Vocab at 0x1bbb1461c18>,\n",
       " 'мама': <gensim.models.keyedvectors.Vocab at 0x1bbb1461c50>,\n",
       " 'хотеться': <gensim.models.keyedvectors.Vocab at 0x1bbb1461c88>,\n",
       " 'умирать': <gensim.models.keyedvectors.Vocab at 0x1bbb1461cc0>,\n",
       " 'лес': <gensim.models.keyedvectors.Vocab at 0x1bbb1461cf8>,\n",
       " 'московский': <gensim.models.keyedvectors.Vocab at 0x1bbb1461d30>,\n",
       " 'политический': <gensim.models.keyedvectors.Vocab at 0x1bbb1461d68>,\n",
       " 'спать': <gensim.models.keyedvectors.Vocab at 0x1bbb1461da0>,\n",
       " 'вещь': <gensim.models.keyedvectors.Vocab at 0x1bbb1461dd8>,\n",
       " 'ответ': <gensim.models.keyedvectors.Vocab at 0x1bbb1461e10>,\n",
       " 'деятельность': <gensim.models.keyedvectors.Vocab at 0x1bbb1461e48>,\n",
       " 'вставать': <gensim.models.keyedvectors.Vocab at 0x1bbb1461e80>,\n",
       " 'плечо': <gensim.models.keyedvectors.Vocab at 0x1bbb1461eb8>,\n",
       " 'попадать': <gensim.models.keyedvectors.Vocab at 0x1bbb1461ef0>,\n",
       " 'заниматься': <gensim.models.keyedvectors.Vocab at 0x1bbb1461f28>,\n",
       " 'действительно': <gensim.models.keyedvectors.Vocab at 0x1bbb1461f60>,\n",
       " 'слушать': <gensim.models.keyedvectors.Vocab at 0x1bbb1461f98>,\n",
       " 'равный': <gensim.models.keyedvectors.Vocab at 0x1bbb1461fd0>,\n",
       " 'семья': <gensim.models.keyedvectors.Vocab at 0x1bbb1468048>,\n",
       " 'просить': <gensim.models.keyedvectors.Vocab at 0x1bbb1468080>,\n",
       " 'идея': <gensim.models.keyedvectors.Vocab at 0x1bbb14680b8>,\n",
       " 'подниматься': <gensim.models.keyedvectors.Vocab at 0x1bbb14680f0>,\n",
       " 'п': <gensim.models.keyedvectors.Vocab at 0x1bbb1468128>,\n",
       " 'воздух': <gensim.models.keyedvectors.Vocab at 0x1bbb1468160>,\n",
       " 'бросать': <gensim.models.keyedvectors.Vocab at 0x1bbb1468198>,\n",
       " 'прямо': <gensim.models.keyedvectors.Vocab at 0x1bbb14681d0>,\n",
       " 'крупный': <gensim.models.keyedvectors.Vocab at 0x1bbb1468208>,\n",
       " 'брат': <gensim.models.keyedvectors.Vocab at 0x1bbb1468240>,\n",
       " 'газета': <gensim.models.keyedvectors.Vocab at 0x1bbb1468278>,\n",
       " 'прежде': <gensim.models.keyedvectors.Vocab at 0x1bbb14682b0>,\n",
       " 'все-таки': <gensim.models.keyedvectors.Vocab at 0x1bbb14682e8>,\n",
       " 'борьба': <gensim.models.keyedvectors.Vocab at 0x1bbb1468320>,\n",
       " 'четыре': <gensim.models.keyedvectors.Vocab at 0x1bbb1468358>,\n",
       " 'берег': <gensim.models.keyedvectors.Vocab at 0x1bbb1468390>,\n",
       " 'квартира': <gensim.models.keyedvectors.Vocab at 0x1bbb14683c8>,\n",
       " 'компания': <gensim.models.keyedvectors.Vocab at 0x1bbb1468400>,\n",
       " 'глядеть': <gensim.models.keyedvectors.Vocab at 0x1bbb1468438>,\n",
       " 'удаваться': <gensim.models.keyedvectors.Vocab at 0x1bbb1468470>,\n",
       " 'снимать': <gensim.models.keyedvectors.Vocab at 0x1bbb14684a8>,\n",
       " 'полагать': <gensim.models.keyedvectors.Vocab at 0x1bbb14684e0>,\n",
       " 'существовать': <gensim.models.keyedvectors.Vocab at 0x1bbb1468518>,\n",
       " 'муж': <gensim.models.keyedvectors.Vocab at 0x1bbb1468550>,\n",
       " 'солнце': <gensim.models.keyedvectors.Vocab at 0x1bbb1468588>,\n",
       " 'близкий': <gensim.models.keyedvectors.Vocab at 0x1bbb14685c0>,\n",
       " 'улыбаться': <gensim.models.keyedvectors.Vocab at 0x1bbb14685f8>,\n",
       " 'легко': <gensim.models.keyedvectors.Vocab at 0x1bbb1468630>,\n",
       " 'убивать': <gensim.models.keyedvectors.Vocab at 0x1bbb1468668>,\n",
       " 'море': <gensim.models.keyedvectors.Vocab at 0x1bbb14686a0>,\n",
       " 'занимать': <gensim.models.keyedvectors.Vocab at 0x1bbb14686d8>,\n",
       " 'простой': <gensim.models.keyedvectors.Vocab at 0x1bbb1468710>,\n",
       " 'особый': <gensim.models.keyedvectors.Vocab at 0x1bbb1468748>,\n",
       " 'автор': <gensim.models.keyedvectors.Vocab at 0x1bbb1468780>,\n",
       " 'небо': <gensim.models.keyedvectors.Vocab at 0x1bbb14687b8>,\n",
       " 'останавливаться': <gensim.models.keyedvectors.Vocab at 0x1bbb14687f0>,\n",
       " 'объяснять': <gensim.models.keyedvectors.Vocab at 0x1bbb1468828>,\n",
       " 'возникать': <gensim.models.keyedvectors.Vocab at 0x1bbb1468860>,\n",
       " 'интерес': <gensim.models.keyedvectors.Vocab at 0x1bbb1468898>,\n",
       " 'готовый': <gensim.models.keyedvectors.Vocab at 0x1bbb14688d0>,\n",
       " 'уровень': <gensim.models.keyedvectors.Vocab at 0x1bbb1468908>,\n",
       " 'поле': <gensim.models.keyedvectors.Vocab at 0x1bbb1468940>,\n",
       " 'план': <gensim.models.keyedvectors.Vocab at 0x1bbb1468978>,\n",
       " 'слишком': <gensim.models.keyedvectors.Vocab at 0x1bbb14689b0>,\n",
       " 'член': <gensim.models.keyedvectors.Vocab at 0x1bbb14689e8>,\n",
       " 'сильный': <gensim.models.keyedvectors.Vocab at 0x1bbb1468a20>,\n",
       " 'палец': <gensim.models.keyedvectors.Vocab at 0x1bbb1468a58>,\n",
       " 'словно': <gensim.models.keyedvectors.Vocab at 0x1bbb1468a90>,\n",
       " 'успевать': <gensim.models.keyedvectors.Vocab at 0x1bbb1468ac8>,\n",
       " 'центр': <gensim.models.keyedvectors.Vocab at 0x1bbb1468b00>,\n",
       " 'искусство': <gensim.models.keyedvectors.Vocab at 0x1bbb1468b38>,\n",
       " 'вокруг': <gensim.models.keyedvectors.Vocab at 0x1bbb1468b70>,\n",
       " 'материал': <gensim.models.keyedvectors.Vocab at 0x1bbb1468ba8>,\n",
       " 'как-то': <gensim.models.keyedvectors.Vocab at 0x1bbb1468be0>,\n",
       " 'опыт': <gensim.models.keyedvectors.Vocab at 0x1bbb1468c18>,\n",
       " 'человеческий': <gensim.models.keyedvectors.Vocab at 0x1bbb1468c50>,\n",
       " 'значение': <gensim.models.keyedvectors.Vocab at 0x1bbb1468c88>,\n",
       " 'тяжелый': <gensim.models.keyedvectors.Vocab at 0x1bbb1468cc0>,\n",
       " 'точка': <gensim.models.keyedvectors.Vocab at 0x1bbb1468cf8>,\n",
       " 'встречать': <gensim.models.keyedvectors.Vocab at 0x1bbb1468d30>,\n",
       " 'ехать': <gensim.models.keyedvectors.Vocab at 0x1bbb1468d68>,\n",
       " 'получаться': <gensim.models.keyedvectors.Vocab at 0x1bbb1468da0>,\n",
       " 'искать': <gensim.models.keyedvectors.Vocab at 0x1bbb1468dd8>,\n",
       " 'правый': <gensim.models.keyedvectors.Vocab at 0x1bbb1468e10>,\n",
       " 'шаг': <gensim.models.keyedvectors.Vocab at 0x1bbb1468e48>,\n",
       " 'подобный': <gensim.models.keyedvectors.Vocab at 0x1bbb1468e80>,\n",
       " 'причина': <gensim.models.keyedvectors.Vocab at 0x1bbb1468eb8>,\n",
       " 'неделя': <gensim.models.keyedvectors.Vocab at 0x1bbb1468ef0>,\n",
       " 'пусть': <gensim.models.keyedvectors.Vocab at 0x1bbb1468f28>,\n",
       " 'вполне': <gensim.models.keyedvectors.Vocab at 0x1bbb1468f60>,\n",
       " 'внутренний': <gensim.models.keyedvectors.Vocab at 0x1bbb1468f98>,\n",
       " 'девушка': <gensim.models.keyedvectors.Vocab at 0x1bbb1468fd0>,\n",
       " 'случаться': <gensim.models.keyedvectors.Vocab at 0x1bbb146e048>,\n",
       " 'глава': <gensim.models.keyedvectors.Vocab at 0x1bbb146e080>,\n",
       " 'александр': <gensim.models.keyedvectors.Vocab at 0x1bbb146e0b8>,\n",
       " 'ход': <gensim.models.keyedvectors.Vocab at 0x1bbb146e0f0>,\n",
       " 'производство': <gensim.models.keyedvectors.Vocab at 0x1bbb146e128>,\n",
       " 'небольшой': <gensim.models.keyedvectors.Vocab at 0x1bbb146e160>,\n",
       " 'двор': <gensim.models.keyedvectors.Vocab at 0x1bbb146e198>,\n",
       " 'брать': <gensim.models.keyedvectors.Vocab at 0x1bbb146e1d0>,\n",
       " 'широкий': <gensim.models.keyedvectors.Vocab at 0x1bbb146e208>,\n",
       " 'знакомый': <gensim.models.keyedvectors.Vocab at 0x1bbb146e240>,\n",
       " 'солдат': <gensim.models.keyedvectors.Vocab at 0x1bbb146e278>,\n",
       " 'приносить': <gensim.models.keyedvectors.Vocab at 0x1bbb146e2b0>,\n",
       " 'старик': <gensim.models.keyedvectors.Vocab at 0x1bbb146e2e8>,\n",
       " 'начальник': <gensim.models.keyedvectors.Vocab at 0x1bbb146e320>,\n",
       " 'отдавать': <gensim.models.keyedvectors.Vocab at 0x1bbb146e358>,\n",
       " 'обращаться': <gensim.models.keyedvectors.Vocab at 0x1bbb146e390>,\n",
       " 'кровь': <gensim.models.keyedvectors.Vocab at 0x1bbb146e3c8>,\n",
       " 'должно': <gensim.models.keyedvectors.Vocab at 0x1bbb146e400>,\n",
       " 'современный': <gensim.models.keyedvectors.Vocab at 0x1bbb146e438>,\n",
       " 'рубль': <gensim.models.keyedvectors.Vocab at 0x1bbb146e470>,\n",
       " 'держать': <gensim.models.keyedvectors.Vocab at 0x1bbb146e4a8>,\n",
       " 'сей': <gensim.models.keyedvectors.Vocab at 0x1bbb146e4e0>,\n",
       " 'культура': <gensim.models.keyedvectors.Vocab at 0x1bbb146e518>,\n",
       " 'требовать': <gensim.models.keyedvectors.Vocab at 0x1bbb146e550>,\n",
       " 'картина': <gensim.models.keyedvectors.Vocab at 0x1bbb146e588>,\n",
       " 'вспомнить': <gensim.models.keyedvectors.Vocab at 0x1bbb146e5c0>,\n",
       " 'данный': <gensim.models.keyedvectors.Vocab at 0x1bbb146e5f8>,\n",
       " 'б': <gensim.models.keyedvectors.Vocab at 0x1bbb146e630>,\n",
       " 'верить': <gensim.models.keyedvectors.Vocab at 0x1bbb146e668>,\n",
       " 'длинный': <gensim.models.keyedvectors.Vocab at 0x1bbb146e6a0>,\n",
       " 'дух': <gensim.models.keyedvectors.Vocab at 0x1bbb146e6d8>,\n",
       " 'пытаться': <gensim.models.keyedvectors.Vocab at 0x1bbb146e710>,\n",
       " 'природа': <gensim.models.keyedvectors.Vocab at 0x1bbb146e748>,\n",
       " 'поздно': <gensim.models.keyedvectors.Vocab at 0x1bbb146e780>,\n",
       " 'пол': <gensim.models.keyedvectors.Vocab at 0x1bbb146e7b8>,\n",
       " 'характер': <gensim.models.keyedvectors.Vocab at 0x1bbb146e7f0>,\n",
       " 'огонь': <gensim.models.keyedvectors.Vocab at 0x1bbb146e828>,\n",
       " 'относиться': <gensim.models.keyedvectors.Vocab at 0x1bbb146e860>,\n",
       " 'го': <gensim.models.keyedvectors.Vocab at 0x1bbb146e898>,\n",
       " 'орган': <gensim.models.keyedvectors.Vocab at 0x1bbb146e8d0>,\n",
       " 'угол': <gensim.models.keyedvectors.Vocab at 0x1bbb146e908>,\n",
       " 'программа': <gensim.models.keyedvectors.Vocab at 0x1bbb146e940>,\n",
       " 'управление': <gensim.models.keyedvectors.Vocab at 0x1bbb146e978>,\n",
       " 'судьба': <gensim.models.keyedvectors.Vocab at 0x1bbb146e9b0>,\n",
       " 'похожий': <gensim.models.keyedvectors.Vocab at 0x1bbb146e9e8>,\n",
       " 'мальчик': <gensim.models.keyedvectors.Vocab at 0x1bbb146ea20>,\n",
       " 'церковь': <gensim.models.keyedvectors.Vocab at 0x1bbb146ea58>,\n",
       " 'довольно': <gensim.models.keyedvectors.Vocab at 0x1bbb146ea90>,\n",
       " 'состав': <gensim.models.keyedvectors.Vocab at 0x1bbb146eac8>,\n",
       " 'необходимый': <gensim.models.keyedvectors.Vocab at 0x1bbb146eb00>,\n",
       " 'мужчина': <gensim.models.keyedvectors.Vocab at 0x1bbb146eb38>,\n",
       " 'сильно': <gensim.models.keyedvectors.Vocab at 0x1bbb146eb70>,\n",
       " 'пить': <gensim.models.keyedvectors.Vocab at 0x1bbb146eba8>,\n",
       " 'менее': <gensim.models.keyedvectors.Vocab at 0x1bbb146ebe0>,\n",
       " 'мнение': <gensim.models.keyedvectors.Vocab at 0x1bbb146ec18>,\n",
       " 'трудно': <gensim.models.keyedvectors.Vocab at 0x1bbb146ec50>,\n",
       " 'количество': <gensim.models.keyedvectors.Vocab at 0x1bbb146ec88>,\n",
       " 'генерал': <gensim.models.keyedvectors.Vocab at 0x1bbb146ecc0>,\n",
       " 'течение': <gensim.models.keyedvectors.Vocab at 0x1bbb146ecf8>,\n",
       " 'дерево': <gensim.models.keyedvectors.Vocab at 0x1bbb146ed30>,\n",
       " 'иван': <gensim.models.keyedvectors.Vocab at 0x1bbb146ed68>,\n",
       " 'использовать': <gensim.models.keyedvectors.Vocab at 0x1bbb146eda0>,\n",
       " 'правило': <gensim.models.keyedvectors.Vocab at 0x1bbb146edd8>,\n",
       " 'река': <gensim.models.keyedvectors.Vocab at 0x1bbb146ee10>,\n",
       " 'класс': <gensim.models.keyedvectors.Vocab at 0x1bbb146ee48>,\n",
       " 'основа': <gensim.models.keyedvectors.Vocab at 0x1bbb146ee80>,\n",
       " 'край': <gensim.models.keyedvectors.Vocab at 0x1bbb146eeb8>,\n",
       " 'различный': <gensim.models.keyedvectors.Vocab at 0x1bbb146eef0>,\n",
       " 'событие': <gensim.models.keyedvectors.Vocab at 0x1bbb146ef28>,\n",
       " 'служба': <gensim.models.keyedvectors.Vocab at 0x1bbb146ef60>,\n",
       " 'единственный': <gensim.models.keyedvectors.Vocab at 0x1bbb146ef98>,\n",
       " 'плохо': <gensim.models.keyedvectors.Vocab at 0x1bbb146efd0>,\n",
       " 'сообщать': <gensim.models.keyedvectors.Vocab at 0x1bbb1472048>,\n",
       " 'отдельный': <gensim.models.keyedvectors.Vocab at 0x1bbb1472080>,\n",
       " 'направление': <gensim.models.keyedvectors.Vocab at 0x1bbb14720b8>,\n",
       " 'институт': <gensim.models.keyedvectors.Vocab at 0x1bbb14720f0>,\n",
       " 'тихо': <gensim.models.keyedvectors.Vocab at 0x1bbb1472128>,\n",
       " 'революция': <gensim.models.keyedvectors.Vocab at 0x1bbb1472160>,\n",
       " 'гора': <gensim.models.keyedvectors.Vocab at 0x1bbb1472198>,\n",
       " 'завод': <gensim.models.keyedvectors.Vocab at 0x1bbb14721d0>,\n",
       " 'смочь': <gensim.models.keyedvectors.Vocab at 0x1bbb1472208>,\n",
       " 'стараться': <gensim.models.keyedvectors.Vocab at 0x1bbb1472240>,\n",
       " 'страшный': <gensim.models.keyedvectors.Vocab at 0x1bbb1472278>,\n",
       " 'ветер': <gensim.models.keyedvectors.Vocab at 0x1bbb14722b0>,\n",
       " 'счет': <gensim.models.keyedvectors.Vocab at 0x1bbb14722e8>,\n",
       " 'встречаться': <gensim.models.keyedvectors.Vocab at 0x1bbb1472320>,\n",
       " 'предприятие': <gensim.models.keyedvectors.Vocab at 0x1bbb1472358>,\n",
       " 'встреча': <gensim.models.keyedvectors.Vocab at 0x1bbb1472390>,\n",
       " 'немного': <gensim.models.keyedvectors.Vocab at 0x1bbb14723c8>,\n",
       " 'десять': <gensim.models.keyedvectors.Vocab at 0x1bbb1472400>,\n",
       " 'свобода': <gensim.models.keyedvectors.Vocab at 0x1bbb1472438>,\n",
       " 'темный': <gensim.models.keyedvectors.Vocab at 0x1bbb1472470>,\n",
       " 'бежать': <gensim.models.keyedvectors.Vocab at 0x1bbb14724a8>,\n",
       " 'выступать': <gensim.models.keyedvectors.Vocab at 0x1bbb14724e0>,\n",
       " 'гость': <gensim.models.keyedvectors.Vocab at 0x1bbb1472518>,\n",
       " 'район': <gensim.models.keyedvectors.Vocab at 0x1bbb1472550>,\n",
       " 'спина': <gensim.models.keyedvectors.Vocab at 0x1bbb1472588>,\n",
       " 'передавать': <gensim.models.keyedvectors.Vocab at 0x1bbb14725c0>,\n",
       " 'кричать': <gensim.models.keyedvectors.Vocab at 0x1bbb14725f8>,\n",
       " 'туда': <gensim.models.keyedvectors.Vocab at 0x1bbb1472630>,\n",
       " 'хозяин': <gensim.models.keyedvectors.Vocab at 0x1bbb1472668>,\n",
       " 'президент': <gensim.models.keyedvectors.Vocab at 0x1bbb14726a0>,\n",
       " 'определять': <gensim.models.keyedvectors.Vocab at 0x1bbb14726d8>,\n",
       " 'больной': <gensim.models.keyedvectors.Vocab at 0x1bbb1472710>,\n",
       " 'союз': <gensim.models.keyedvectors.Vocab at 0x1bbb1472748>,\n",
       " 'малый': <gensim.models.keyedvectors.Vocab at 0x1bbb1472780>,\n",
       " 'добрый': <gensim.models.keyedvectors.Vocab at 0x1bbb14727b8>,\n",
       " 'ученый': <gensim.models.keyedvectors.Vocab at 0x1bbb14727f0>,\n",
       " 'ситуация': <gensim.models.keyedvectors.Vocab at 0x1bbb1472828>,\n",
       " 'сергей': <gensim.models.keyedvectors.Vocab at 0x1bbb1472860>,\n",
       " 'вера': <gensim.models.keyedvectors.Vocab at 0x1bbb1472898>,\n",
       " 'цена': <gensim.models.keyedvectors.Vocab at 0x1bbb14728d0>,\n",
       " 'период': <gensim.models.keyedvectors.Vocab at 0x1bbb1472908>,\n",
       " 'переходить': <gensim.models.keyedvectors.Vocab at 0x1bbb1472940>,\n",
       " 'писатель': <gensim.models.keyedvectors.Vocab at 0x1bbb1472978>,\n",
       " 'зал': <gensim.models.keyedvectors.Vocab at 0x1bbb14729b0>,\n",
       " 'очередь': <gensim.models.keyedvectors.Vocab at 0x1bbb14729e8>,\n",
       " 'общественный': <gensim.models.keyedvectors.Vocab at 0x1bbb1472a20>,\n",
       " 'достаточно': <gensim.models.keyedvectors.Vocab at 0x1bbb1472a58>,\n",
       " 'стих': <gensim.models.keyedvectors.Vocab at 0x1bbb1472a90>,\n",
       " 'местный': <gensim.models.keyedvectors.Vocab at 0x1bbb1472ac8>,\n",
       " 'девочка': <gensim.models.keyedvectors.Vocab at 0x1bbb1472b00>,\n",
       " 'николай': <gensim.models.keyedvectors.Vocab at 0x1bbb1472b38>,\n",
       " 'офицер': <gensim.models.keyedvectors.Vocab at 0x1bbb1472b70>,\n",
       " 'неизвестный': <gensim.models.keyedvectors.Vocab at 0x1bbb1472ba8>,\n",
       " 'стоить': <gensim.models.keyedvectors.Vocab at 0x1bbb1472be0>,\n",
       " 'связывать': <gensim.models.keyedvectors.Vocab at 0x1bbb1472c18>,\n",
       " 'пример': <gensim.models.keyedvectors.Vocab at 0x1bbb1472c50>,\n",
       " 'рынок': <gensim.models.keyedvectors.Vocab at 0x1bbb1472c88>,\n",
       " 'игра': <gensim.models.keyedvectors.Vocab at 0x1bbb1472cc0>,\n",
       " 'уезжать': <gensim.models.keyedvectors.Vocab at 0x1bbb1472cf8>,\n",
       " 'род': <gensim.models.keyedvectors.Vocab at 0x1bbb1472d30>,\n",
       " 'сначала': <gensim.models.keyedvectors.Vocab at 0x1bbb1472d68>,\n",
       " 'тип': <gensim.models.keyedvectors.Vocab at 0x1bbb1472da0>,\n",
       " 'странный': <gensim.models.keyedvectors.Vocab at 0x1bbb1472dd8>,\n",
       " 'сознание': <gensim.models.keyedvectors.Vocab at 0x1bbb1472e10>,\n",
       " 'герой': <gensim.models.keyedvectors.Vocab at 0x1bbb1472e48>,\n",
       " 'губа': <gensim.models.keyedvectors.Vocab at 0x1bbb1472e80>,\n",
       " 'видно': <gensim.models.keyedvectors.Vocab at 0x1bbb1472eb8>,\n",
       " 'показываться': <gensim.models.keyedvectors.Vocab at 0x1bbb1472ef0>,\n",
       " 'народный': <gensim.models.keyedvectors.Vocab at 0x1bbb1472f28>,\n",
       " 'бывший': <gensim.models.keyedvectors.Vocab at 0x1bbb1472f60>,\n",
       " 'чистый': <gensim.models.keyedvectors.Vocab at 0x1bbb1472f98>,\n",
       " 'рост': <gensim.models.keyedvectors.Vocab at 0x1bbb1472fd0>,\n",
       " 'домой': <gensim.models.keyedvectors.Vocab at 0x1bbb147a048>,\n",
       " 'исследование': <gensim.models.keyedvectors.Vocab at 0x1bbb147a080>,\n",
       " 'память': <gensim.models.keyedvectors.Vocab at 0x1bbb147a0b8>,\n",
       " 'устанавливать': <gensim.models.keyedvectors.Vocab at 0x1bbb147a0f0>,\n",
       " 'какой-нибудь': <gensim.models.keyedvectors.Vocab at 0x1bbb147a128>,\n",
       " 'поехать': <gensim.models.keyedvectors.Vocab at 0x1bbb147a160>,\n",
       " 'указывать': <gensim.models.keyedvectors.Vocab at 0x1bbb147a198>,\n",
       " 'служить': <gensim.models.keyedvectors.Vocab at 0x1bbb147a1d0>,\n",
       " 'сон': <gensim.models.keyedvectors.Vocab at 0x1bbb147a208>,\n",
       " 'научный': <gensim.models.keyedvectors.Vocab at 0x1bbb147a240>,\n",
       " 'отмечать': <gensim.models.keyedvectors.Vocab at 0x1bbb147a278>,\n",
       " 'войско': <gensim.models.keyedvectors.Vocab at 0x1bbb147a2b0>,\n",
       " 'андрей': <gensim.models.keyedvectors.Vocab at 0x1bbb147a2e8>,\n",
       " 'заставлять': <gensim.models.keyedvectors.Vocab at 0x1bbb147a320>,\n",
       " 'социальный': <gensim.models.keyedvectors.Vocab at 0x1bbb147a358>,\n",
       " 'уметь': <gensim.models.keyedvectors.Vocab at 0x1bbb147a390>,\n",
       " 'касаться': <gensim.models.keyedvectors.Vocab at 0x1bbb147a3c8>,\n",
       " 'факт': <gensim.models.keyedvectors.Vocab at 0x1bbb147a400>,\n",
       " 'министр': <gensim.models.keyedvectors.Vocab at 0x1bbb147a438>,\n",
       " 'производить': <gensim.models.keyedvectors.Vocab at 0x1bbb147a470>,\n",
       " 'собирать': <gensim.models.keyedvectors.Vocab at 0x1bbb147a4a8>,\n",
       " 'большинство': <gensim.models.keyedvectors.Vocab at 0x1bbb147a4e0>,\n",
       " 'красивый': <gensim.models.keyedvectors.Vocab at 0x1bbb147a518>,\n",
       " 'срок': <gensim.models.keyedvectors.Vocab at 0x1bbb147a550>,\n",
       " 'иначе': <gensim.models.keyedvectors.Vocab at 0x1bbb147a588>,\n",
       " 'метод': <gensim.models.keyedvectors.Vocab at 0x1bbb147a5c0>,\n",
       " 'господин': <gensim.models.keyedvectors.Vocab at 0x1bbb147a5f8>,\n",
       " 'личный': <gensim.models.keyedvectors.Vocab at 0x1bbb147a630>,\n",
       " 'двадцать': <gensim.models.keyedvectors.Vocab at 0x1bbb147a668>,\n",
       " 'повторять': <gensim.models.keyedvectors.Vocab at 0x1bbb147a6a0>,\n",
       " 'проект': <gensim.models.keyedvectors.Vocab at 0x1bbb147a6d8>,\n",
       " 'тема': <gensim.models.keyedvectors.Vocab at 0x1bbb147a710>,\n",
       " 'ум': <gensim.models.keyedvectors.Vocab at 0x1bbb147a748>,\n",
       " 'информация': <gensim.models.keyedvectors.Vocab at 0x1bbb147a780>,\n",
       " 'бумага': <gensim.models.keyedvectors.Vocab at 0x1bbb147a7b8>,\n",
       " 'чужой': <gensim.models.keyedvectors.Vocab at 0x1bbb147a7f0>,\n",
       " 'прекрасный': <gensim.models.keyedvectors.Vocab at 0x1bbb147a828>,\n",
       " 'однажды': <gensim.models.keyedvectors.Vocab at 0x1bbb147a860>,\n",
       " 'вроде': <gensim.models.keyedvectors.Vocab at 0x1bbb147a898>,\n",
       " 'участие': <gensim.models.keyedvectors.Vocab at 0x1bbb147a8d0>,\n",
       " 'граница': <gensim.models.keyedvectors.Vocab at 0x1bbb147a908>,\n",
       " 'номер': <gensim.models.keyedvectors.Vocab at 0x1bbb147a940>,\n",
       " 'камень': <gensim.models.keyedvectors.Vocab at 0x1bbb147a978>,\n",
       " 'линия': <gensim.models.keyedvectors.Vocab at 0x1bbb147a9b0>,\n",
       " 'художник': <gensim.models.keyedvectors.Vocab at 0x1bbb147a9e8>,\n",
       " 'вместо': <gensim.models.keyedvectors.Vocab at 0x1bbb147aa20>,\n",
       " 'представитель': <gensim.models.keyedvectors.Vocab at 0x1bbb147aa58>,\n",
       " 'счастие': <gensim.models.keyedvectors.Vocab at 0x1bbb147aa90>,\n",
       " 'соглашаться': <gensim.models.keyedvectors.Vocab at 0x1bbb147aac8>,\n",
       " 'документ': <gensim.models.keyedvectors.Vocab at 0x1bbb147ab00>,\n",
       " 'масса': <gensim.models.keyedvectors.Vocab at 0x1bbb147ab38>,\n",
       " 'дорогой': <gensim.models.keyedvectors.Vocab at 0x1bbb147ab70>,\n",
       " 'журнал': <gensim.models.keyedvectors.Vocab at 0x1bbb147aba8>,\n",
       " 'сцена': <gensim.models.keyedvectors.Vocab at 0x1bbb147abe0>,\n",
       " 'бой': <gensim.models.keyedvectors.Vocab at 0x1bbb147ac18>,\n",
       " 'снег': <gensim.models.keyedvectors.Vocab at 0x1bbb147ac50>,\n",
       " 'интересный': <gensim.models.keyedvectors.Vocab at 0x1bbb147ac88>,\n",
       " 'л': <gensim.models.keyedvectors.Vocab at 0x1bbb147acc0>,\n",
       " 'круг': <gensim.models.keyedvectors.Vocab at 0x1bbb147acf8>,\n",
       " 'купить': <gensim.models.keyedvectors.Vocab at 0x1bbb147ad30>,\n",
       " 'поэт': <gensim.models.keyedvectors.Vocab at 0x1bbb147ad68>,\n",
       " 'весьма': <gensim.models.keyedvectors.Vocab at 0x1bbb147ada0>,\n",
       " 'деревня': <gensim.models.keyedvectors.Vocab at 0x1bbb147add8>,\n",
       " 'грудь': <gensim.models.keyedvectors.Vocab at 0x1bbb147ae10>,\n",
       " 'напоминать': <gensim.models.keyedvectors.Vocab at 0x1bbb147ae48>,\n",
       " 'песня': <gensim.models.keyedvectors.Vocab at 0x1bbb147ae80>,\n",
       " 'наиболее': <gensim.models.keyedvectors.Vocab at 0x1bbb147aeb8>,\n",
       " 'средний': <gensim.models.keyedvectors.Vocab at 0x1bbb147aef0>,\n",
       " 'врач': <gensim.models.keyedvectors.Vocab at 0x1bbb147af28>,\n",
       " 'литература': <gensim.models.keyedvectors.Vocab at 0x1bbb147af60>,\n",
       " 'заявлять': <gensim.models.keyedvectors.Vocab at 0x1bbb147af98>,\n",
       " 'принцип': <gensim.models.keyedvectors.Vocab at 0x1bbb147afd0>,\n",
       " 'директор': <gensim.models.keyedvectors.Vocab at 0x1bbcc130048>,\n",
       " 'волос': <gensim.models.keyedvectors.Vocab at 0x1bbcc130080>,\n",
       " 'отказываться': <gensim.models.keyedvectors.Vocab at 0x1bbcc1300b8>,\n",
       " 'способ': <gensim.models.keyedvectors.Vocab at 0x1bbcc1300f0>,\n",
       " 'нос': <gensim.models.keyedvectors.Vocab at 0x1bbcc130128>,\n",
       " 'политика': <gensim.models.keyedvectors.Vocab at 0x1bbcc130160>,\n",
       " 'экономический': <gensim.models.keyedvectors.Vocab at 0x1bbcc130198>,\n",
       " 'лошадь': <gensim.models.keyedvectors.Vocab at 0x1bbcc1301d0>,\n",
       " 'молчать': <gensim.models.keyedvectors.Vocab at 0x1bbcc130208>,\n",
       " 'кажется': <gensim.models.keyedvectors.Vocab at 0x1bbcc130240>,\n",
       " 'петр': <gensim.models.keyedvectors.Vocab at 0x1bbcc130278>,\n",
       " 'вперед': <gensim.models.keyedvectors.Vocab at 0x1bbcc1302b0>,\n",
       " 'воля': <gensim.models.keyedvectors.Vocab at 0x1bbcc1302e8>,\n",
       " 'устраивать': <gensim.models.keyedvectors.Vocab at 0x1bbcc130320>,\n",
       " 'фильм': <gensim.models.keyedvectors.Vocab at 0x1bbcc130358>,\n",
       " 'фронт': <gensim.models.keyedvectors.Vocab at 0x1bbcc130390>,\n",
       " 'едва': <gensim.models.keyedvectors.Vocab at 0x1bbcc1303c8>,\n",
       " 'размер': <gensim.models.keyedvectors.Vocab at 0x1bbcc130400>,\n",
       " 'серьезный': <gensim.models.keyedvectors.Vocab at 0x1bbcc130438>,\n",
       " 'половина': <gensim.models.keyedvectors.Vocab at 0x1bbcc130470>,\n",
       " 'сюда': <gensim.models.keyedvectors.Vocab at 0x1bbcc1304a8>,\n",
       " 'плохой': <gensim.models.keyedvectors.Vocab at 0x1bbcc1304e0>,\n",
       " 'наверное': <gensim.models.keyedvectors.Vocab at 0x1bbcc130518>,\n",
       " 'обычный': <gensim.models.keyedvectors.Vocab at 0x1bbcc130550>,\n",
       " 'ссср': <gensim.models.keyedvectors.Vocab at 0x1bbcc130588>,\n",
       " 'глубокий': <gensim.models.keyedvectors.Vocab at 0x1bbcc1305c0>,\n",
       " 'прочитывать': <gensim.models.keyedvectors.Vocab at 0x1bbcc1305f8>,\n",
       " 'население': <gensim.models.keyedvectors.Vocab at 0x1bbcc130630>,\n",
       " 'сад': <gensim.models.keyedvectors.Vocab at 0x1bbcc130668>,\n",
       " 'доктор': <gensim.models.keyedvectors.Vocab at 0x1bbcc1306a0>,\n",
       " 'либо': <gensim.models.keyedvectors.Vocab at 0x1bbcc1306d8>,\n",
       " 'предмет': <gensim.models.keyedvectors.Vocab at 0x1bbcc130710>,\n",
       " 'ухо': <gensim.models.keyedvectors.Vocab at 0x1bbcc130748>,\n",
       " 'состоять': <gensim.models.keyedvectors.Vocab at 0x1bbcc130780>,\n",
       " 'успех': <gensim.models.keyedvectors.Vocab at 0x1bbcc1307b8>,\n",
       " 'данные': <gensim.models.keyedvectors.Vocab at 0x1bbcc1307f0>,\n",
       " 'создание': <gensim.models.keyedvectors.Vocab at 0x1bbcc130828>,\n",
       " 'вчера': <gensim.models.keyedvectors.Vocab at 0x1bbcc130860>,\n",
       " 'возвращаться': <gensim.models.keyedvectors.Vocab at 0x1bbcc130898>,\n",
       " 'возможный': <gensim.models.keyedvectors.Vocab at 0x1bbcc1308d0>,\n",
       " 'ибо': <gensim.models.keyedvectors.Vocab at 0x1bbcc130908>,\n",
       " 'собака': <gensim.models.keyedvectors.Vocab at 0x1bbcc130940>,\n",
       " 'мировой': <gensim.models.keyedvectors.Vocab at 0x1bbcc130978>,\n",
       " 'выполнять': <gensim.models.keyedvectors.Vocab at 0x1bbcc1309b0>,\n",
       " 'страх': <gensim.models.keyedvectors.Vocab at 0x1bbcc1309e8>,\n",
       " 'свободный': <gensim.models.keyedvectors.Vocab at 0x1bbcc130a20>,\n",
       " 'остальной': <gensim.models.keyedvectors.Vocab at 0x1bbcc130a58>,\n",
       " 'закрывать': <gensim.models.keyedvectors.Vocab at 0x1bbcc130a90>,\n",
       " 'радость': <gensim.models.keyedvectors.Vocab at 0x1bbcc130ac8>,\n",
       " 'вовсе': <gensim.models.keyedvectors.Vocab at 0x1bbcc130b00>,\n",
       " 'командир': <gensim.models.keyedvectors.Vocab at 0x1bbcc130b38>,\n",
       " 'главное': <gensim.models.keyedvectors.Vocab at 0x1bbcc130b70>,\n",
       " 'образование': <gensim.models.keyedvectors.Vocab at 0x1bbcc130ba8>,\n",
       " 'ясно': <gensim.models.keyedvectors.Vocab at 0x1bbcc130be0>,\n",
       " 'рот': <gensim.models.keyedvectors.Vocab at 0x1bbcc130c18>,\n",
       " 'поступать': <gensim.models.keyedvectors.Vocab at 0x1bbcc130c50>,\n",
       " 'надежда': <gensim.models.keyedvectors.Vocab at 0x1bbcc130c88>,\n",
       " 'обычно': <gensim.models.keyedvectors.Vocab at 0x1bbcc130cc0>,\n",
       " 'рассказ': <gensim.models.keyedvectors.Vocab at 0x1bbcc130cf8>,\n",
       " 'посылать': <gensim.models.keyedvectors.Vocab at 0x1bbcc130d30>,\n",
       " 'обращать': <gensim.models.keyedvectors.Vocab at 0x1bbcc130d68>,\n",
       " 'музыка': <gensim.models.keyedvectors.Vocab at 0x1bbcc130da0>,\n",
       " 'откуда': <gensim.models.keyedvectors.Vocab at 0x1bbcc130dd8>,\n",
       " 'выбирать': <gensim.models.keyedvectors.Vocab at 0x1bbcc130e10>,\n",
       " 'причем': <gensim.models.keyedvectors.Vocab at 0x1bbcc130e48>,\n",
       " 'знание': <gensim.models.keyedvectors.Vocab at 0x1bbcc130e80>,\n",
       " 'зеленый': <gensim.models.keyedvectors.Vocab at 0x1bbcc130eb8>,\n",
       " 'внешний': <gensim.models.keyedvectors.Vocab at 0x1bbcc130ef0>,\n",
       " 'старший': <gensim.models.keyedvectors.Vocab at 0x1bbcc130f28>,\n",
       " 'действовать': <gensim.models.keyedvectors.Vocab at 0x1bbcc130f60>,\n",
       " 'толпа': <gensim.models.keyedvectors.Vocab at 0x1bbcc130f98>,\n",
       " 'несмотря': <gensim.models.keyedvectors.Vocab at 0x1bbcc130fd0>,\n",
       " 'удар': <gensim.models.keyedvectors.Vocab at 0x1bbcc135048>,\n",
       " 'роман': <gensim.models.keyedvectors.Vocab at 0x1bbcc135080>,\n",
       " 'степень': <gensim.models.keyedvectors.Vocab at 0x1bbcc1350b8>,\n",
       " 'близко': <gensim.models.keyedvectors.Vocab at 0x1bbcc1350f0>,\n",
       " 'основание': <gensim.models.keyedvectors.Vocab at 0x1bbcc135128>,\n",
       " 'национальный': <gensim.models.keyedvectors.Vocab at 0x1bbcc135160>,\n",
       " 'изменение': <gensim.models.keyedvectors.Vocab at 0x1bbcc135198>,\n",
       " 'владимир': <gensim.models.keyedvectors.Vocab at 0x1bbcc1351d0>,\n",
       " 'возможно': <gensim.models.keyedvectors.Vocab at 0x1bbcc135208>,\n",
       " 'тонкий': <gensim.models.keyedvectors.Vocab at 0x1bbcc135240>,\n",
       " 'исчезать': <gensim.models.keyedvectors.Vocab at 0x1bbcc135278>,\n",
       " 'поскольку': <gensim.models.keyedvectors.Vocab at 0x1bbcc1352b0>,\n",
       " 'ребята': <gensim.models.keyedvectors.Vocab at 0x1bbcc1352e8>,\n",
       " 'детский': <gensim.models.keyedvectors.Vocab at 0x1bbcc135320>,\n",
       " 'американский': <gensim.models.keyedvectors.Vocab at 0x1bbcc135358>,\n",
       " 'услышать': <gensim.models.keyedvectors.Vocab at 0x1bbcc135390>,\n",
       " 'золотой': <gensim.models.keyedvectors.Vocab at 0x1bbcc1353c8>,\n",
       " 'завтра': <gensim.models.keyedvectors.Vocab at 0x1bbcc135400>,\n",
       " 'враг': <gensim.models.keyedvectors.Vocab at 0x1bbcc135438>,\n",
       " 'петь': <gensim.models.keyedvectors.Vocab at 0x1bbcc135470>,\n",
       " 'столько': <gensim.models.keyedvectors.Vocab at 0x1bbcc1354a8>,\n",
       " 'корабль': <gensim.models.keyedvectors.Vocab at 0x1bbcc1354e0>,\n",
       " 'телефон': <gensim.models.keyedvectors.Vocab at 0x1bbcc135518>,\n",
       " 'желать': <gensim.models.keyedvectors.Vocab at 0x1bbcc135550>,\n",
       " 'объект': <gensim.models.keyedvectors.Vocab at 0x1bbcc135588>,\n",
       " 'хлеб': <gensim.models.keyedvectors.Vocab at 0x1bbcc1355c0>,\n",
       " 'впервые': <gensim.models.keyedvectors.Vocab at 0x1bbcc1355f8>,\n",
       " 'дома': <gensim.models.keyedvectors.Vocab at 0x1bbcc135630>,\n",
       " 'площадь': <gensim.models.keyedvectors.Vocab at 0x1bbcc135668>,\n",
       " 'определенный': <gensim.models.keyedvectors.Vocab at 0x1bbcc1356a0>,\n",
       " 'исторический': <gensim.models.keyedvectors.Vocab at 0x1bbcc1356d8>,\n",
       " 'элемент': <gensim.models.keyedvectors.Vocab at 0x1bbcc135710>,\n",
       " 'достигать': <gensim.models.keyedvectors.Vocab at 0x1bbcc135748>,\n",
       " 'гражданин': <gensim.models.keyedvectors.Vocab at 0x1bbcc135780>,\n",
       " 'произносить': <gensim.models.keyedvectors.Vocab at 0x1bbcc1357b8>,\n",
       " 'признавать': <gensim.models.keyedvectors.Vocab at 0x1bbcc1357f0>,\n",
       " 'желание': <gensim.models.keyedvectors.Vocab at 0x1bbcc135828>,\n",
       " 'повод': <gensim.models.keyedvectors.Vocab at 0x1bbcc135860>,\n",
       " 'немец': <gensim.models.keyedvectors.Vocab at 0x1bbcc135898>,\n",
       " 'лето': <gensim.models.keyedvectors.Vocab at 0x1bbcc1358d0>,\n",
       " 'команда': <gensim.models.keyedvectors.Vocab at 0x1bbcc135908>,\n",
       " 'легкий': <gensim.models.keyedvectors.Vocab at 0x1bbcc135940>,\n",
       " 'святой': <gensim.models.keyedvectors.Vocab at 0x1bbcc135978>,\n",
       " 'сталин': <gensim.models.keyedvectors.Vocab at 0x1bbcc1359b0>,\n",
       " 'станция': <gensim.models.keyedvectors.Vocab at 0x1bbcc1359e8>,\n",
       " 'сложный': <gensim.models.keyedvectors.Vocab at 0x1bbcc135a20>,\n",
       " 'федерация': <gensim.models.keyedvectors.Vocab at 0x1bbcc135a58>,\n",
       " 'подавать': <gensim.models.keyedvectors.Vocab at 0x1bbcc135a90>,\n",
       " 'прошлый': <gensim.models.keyedvectors.Vocab at 0x1bbcc135ac8>,\n",
       " 'самолет': <gensim.models.keyedvectors.Vocab at 0x1bbcc135b00>,\n",
       " 'короткий': <gensim.models.keyedvectors.Vocab at 0x1bbcc135b38>,\n",
       " 'иванович': <gensim.models.keyedvectors.Vocab at 0x1bbcc135b70>,\n",
       " 'выход': <gensim.models.keyedvectors.Vocab at 0x1bbcc135ba8>,\n",
       " 'р': <gensim.models.keyedvectors.Vocab at 0x1bbcc135be0>,\n",
       " 'известно': <gensim.models.keyedvectors.Vocab at 0x1bbcc135c18>,\n",
       " 'мужик': <gensim.models.keyedvectors.Vocab at 0x1bbcc135c50>,\n",
       " 'рассматривать': <gensim.models.keyedvectors.Vocab at 0x1bbcc135c88>,\n",
       " 'царь': <gensim.models.keyedvectors.Vocab at 0x1bbcc135cc0>,\n",
       " 'необходимо': <gensim.models.keyedvectors.Vocab at 0x1bbcc135cf8>,\n",
       " 'немой': <gensim.models.keyedvectors.Vocab at 0x1bbcc135d30>,\n",
       " 'столь': <gensim.models.keyedvectors.Vocab at 0x1bbcc135d68>,\n",
       " 'х': <gensim.models.keyedvectors.Vocab at 0x1bbcc135da0>,\n",
       " 'медленно': <gensim.models.keyedvectors.Vocab at 0x1bbcc135dd8>,\n",
       " 'серый': <gensim.models.keyedvectors.Vocab at 0x1bbcc135e10>,\n",
       " 'боевой': <gensim.models.keyedvectors.Vocab at 0x1bbcc135e48>,\n",
       " 'лист': <gensim.models.keyedvectors.Vocab at 0x1bbcc135e80>,\n",
       " 'содержание': <gensim.models.keyedvectors.Vocab at 0x1bbcc135eb8>,\n",
       " 'ставить': <gensim.models.keyedvectors.Vocab at 0x1bbcc135ef0>,\n",
       " 'название': <gensim.models.keyedvectors.Vocab at 0x1bbcc135f28>,\n",
       " 'дочь': <gensim.models.keyedvectors.Vocab at 0x1bbcc135f60>,\n",
       " 'левый': <gensim.models.keyedvectors.Vocab at 0x1bbcc135f98>,\n",
       " 'князь': <gensim.models.keyedvectors.Vocab at 0x1bbcc135fd0>,\n",
       " 'сестра': <gensim.models.keyedvectors.Vocab at 0x1bbcc13d048>,\n",
       " 'председатель': <gensim.models.keyedvectors.Vocab at 0x1bbcc13d080>,\n",
       " 'хозяйство': <gensim.models.keyedvectors.Vocab at 0x1bbcc13d0b8>,\n",
       " 'кстати': <gensim.models.keyedvectors.Vocab at 0x1bbcc13d0f0>,\n",
       " 'противник': <gensim.models.keyedvectors.Vocab at 0x1bbcc13d128>,\n",
       " 'холодный': <gensim.models.keyedvectors.Vocab at 0x1bbcc13d160>,\n",
       " 'звать': <gensim.models.keyedvectors.Vocab at 0x1bbcc13d198>,\n",
       " 'что-нибудь': <gensim.models.keyedvectors.Vocab at 0x1bbcc13d1d0>,\n",
       " 'позиция': <gensim.models.keyedvectors.Vocab at 0x1bbcc13d208>,\n",
       " 'прямой': <gensim.models.keyedvectors.Vocab at 0x1bbcc13d240>,\n",
       " 'цвет': <gensim.models.keyedvectors.Vocab at 0x1bbcc13d278>,\n",
       " 'участок': <gensim.models.keyedvectors.Vocab at 0x1bbcc13d2b0>,\n",
       " 'международный': <gensim.models.keyedvectors.Vocab at 0x1bbcc13d2e8>,\n",
       " 'зуб': <gensim.models.keyedvectors.Vocab at 0x1bbcc13d320>,\n",
       " 'смеяться': <gensim.models.keyedvectors.Vocab at 0x1bbcc13d358>,\n",
       " 'немецкий': <gensim.models.keyedvectors.Vocab at 0x1bbcc13d390>,\n",
       " 'кабинет': <gensim.models.keyedvectors.Vocab at 0x1bbcc13d3c8>,\n",
       " 'будущее': <gensim.models.keyedvectors.Vocab at 0x1bbcc13d400>,\n",
       " 'обеспечивать': <gensim.models.keyedvectors.Vocab at 0x1bbcc13d438>,\n",
       " 'требование': <gensim.models.keyedvectors.Vocab at 0x1bbcc13d470>,\n",
       " 'миллион': <gensim.models.keyedvectors.Vocab at 0x1bbcc13d4a8>,\n",
       " 'специальный': <gensim.models.keyedvectors.Vocab at 0x1bbcc13d4e0>,\n",
       " 'собрание': <gensim.models.keyedvectors.Vocab at 0x1bbcc13d518>,\n",
       " 'больший': <gensim.models.keyedvectors.Vocab at 0x1bbcc13d550>,\n",
       " 'мелкий': <gensim.models.keyedvectors.Vocab at 0x1bbcc13d588>,\n",
       " 'обнаруживать': <gensim.models.keyedvectors.Vocab at 0x1bbcc13d5c0>,\n",
       " 'зрение': <gensim.models.keyedvectors.Vocab at 0x1bbcc13d5f8>,\n",
       " 'глубина': <gensim.models.keyedvectors.Vocab at 0x1bbcc13d630>,\n",
       " 'чай': <gensim.models.keyedvectors.Vocab at 0x1bbcc13d668>,\n",
       " 'представление': <gensim.models.keyedvectors.Vocab at 0x1bbcc13d6a0>,\n",
       " 'переставать': <gensim.models.keyedvectors.Vocab at 0x1bbcc13d6d8>,\n",
       " 'пара': <gensim.models.keyedvectors.Vocab at 0x1bbcc13d710>,\n",
       " 'впечатление': <gensim.models.keyedvectors.Vocab at 0x1bbcc13d748>,\n",
       " 'высоко': <gensim.models.keyedvectors.Vocab at 0x1bbcc13d780>,\n",
       " 'бить': <gensim.models.keyedvectors.Vocab at 0x1bbcc13d7b8>,\n",
       " 'доходить': <gensim.models.keyedvectors.Vocab at 0x1bbcc13d7f0>,\n",
       " 'петербург': <gensim.models.keyedvectors.Vocab at 0x1bbcc13d828>,\n",
       " 'способный': <gensim.models.keyedvectors.Vocab at 0x1bbcc13d860>,\n",
       " 'пространство': <gensim.models.keyedvectors.Vocab at 0x1bbcc13d898>,\n",
       " 'нравиться': <gensim.models.keyedvectors.Vocab at 0x1bbcc13d8d0>,\n",
       " 'й': <gensim.models.keyedvectors.Vocab at 0x1bbcc13d908>,\n",
       " 'папа': <gensim.models.keyedvectors.Vocab at 0x1bbcc13d940>,\n",
       " 'среда': <gensim.models.keyedvectors.Vocab at 0x1bbcc13d978>,\n",
       " 'структура': <gensim.models.keyedvectors.Vocab at 0x1bbcc13d9b0>,\n",
       " 'явление': <gensim.models.keyedvectors.Vocab at 0x1bbcc13d9e8>,\n",
       " 'пустой': <gensim.models.keyedvectors.Vocab at 0x1bbcc13da20>,\n",
       " 'сквозь': <gensim.models.keyedvectors.Vocab at 0x1bbcc13da58>,\n",
       " 'болезнь': <gensim.models.keyedvectors.Vocab at 0x1bbcc13da90>,\n",
       " 'железный': <gensim.models.keyedvectors.Vocab at 0x1bbcc13dac8>,\n",
       " 'единый': <gensim.models.keyedvectors.Vocab at 0x1bbcc13db00>,\n",
       " 'вновь': <gensim.models.keyedvectors.Vocab at 0x1bbcc13db38>,\n",
       " 'профессор': <gensim.models.keyedvectors.Vocab at 0x1bbcc13db70>,\n",
       " 'автомобиль': <gensim.models.keyedvectors.Vocab at 0x1bbcc13dba8>,\n",
       " 'милый': <gensim.models.keyedvectors.Vocab at 0x1bbcc13dbe0>,\n",
       " 'городской': <gensim.models.keyedvectors.Vocab at 0x1bbcc13dc18>,\n",
       " 'звук': <gensim.models.keyedvectors.Vocab at 0x1bbcc13dc50>,\n",
       " 'волна': <gensim.models.keyedvectors.Vocab at 0x1bbcc13dc88>,\n",
       " 'утверждать': <gensim.models.keyedvectors.Vocab at 0x1bbcc13dcc0>,\n",
       " 'комитет': <gensim.models.keyedvectors.Vocab at 0x1bbcc13dcf8>,\n",
       " 'французский': <gensim.models.keyedvectors.Vocab at 0x1bbcc13dd30>,\n",
       " 'спокойно': <gensim.models.keyedvectors.Vocab at 0x1bbcc13dd68>,\n",
       " 'звезда': <gensim.models.keyedvectors.Vocab at 0x1bbcc13dda0>,\n",
       " 'расти': <gensim.models.keyedvectors.Vocab at 0x1bbcc13ddd8>,\n",
       " 'влияние': <gensim.models.keyedvectors.Vocab at 0x1bbcc13de10>,\n",
       " 'потерять': <gensim.models.keyedvectors.Vocab at 0x1bbcc13de48>,\n",
       " 'никак': <gensim.models.keyedvectors.Vocab at 0x1bbcc13de80>,\n",
       " 'низкий': <gensim.models.keyedvectors.Vocab at 0x1bbcc13deb8>,\n",
       " 'пользоваться': <gensim.models.keyedvectors.Vocab at 0x1bbcc13def0>,\n",
       " 'выпивать': <gensim.models.keyedvectors.Vocab at 0x1bbcc13df28>,\n",
       " 'вспоминать': <gensim.models.keyedvectors.Vocab at 0x1bbcc13df60>,\n",
       " 'недавно': <gensim.models.keyedvectors.Vocab at 0x1bbcc13df98>,\n",
       " 'мимо': <gensim.models.keyedvectors.Vocab at 0x1bbcc13dfd0>,\n",
       " 'существо': <gensim.models.keyedvectors.Vocab at 0x1bbcc141048>,\n",
       " 'цветок': <gensim.models.keyedvectors.Vocab at 0x1bbcc141080>,\n",
       " 'наступать': <gensim.models.keyedvectors.Vocab at 0x1bbcc1410b8>,\n",
       " 'ожидать': <gensim.models.keyedvectors.Vocab at 0x1bbcc1410f0>,\n",
       " 'где-то': <gensim.models.keyedvectors.Vocab at 0x1bbcc141128>,\n",
       " 'шесть': <gensim.models.keyedvectors.Vocab at 0x1bbcc141160>,\n",
       " 'победа': <gensim.models.keyedvectors.Vocab at 0x1bbcc141198>,\n",
       " 'европа': <gensim.models.keyedvectors.Vocab at 0x1bbcc1411d0>,\n",
       " 'иметься': <gensim.models.keyedvectors.Vocab at 0x1bbcc141208>,\n",
       " 'капитан': <gensim.models.keyedvectors.Vocab at 0x1bbcc141240>,\n",
       " 'прощать': <gensim.models.keyedvectors.Vocab at 0x1bbcc141278>,\n",
       " 'банк': <gensim.models.keyedvectors.Vocab at 0x1bbcc1412b0>,\n",
       " 'дальнейший': <gensim.models.keyedvectors.Vocab at 0x1bbcc1412e8>,\n",
       " 'понятие': <gensim.models.keyedvectors.Vocab at 0x1bbcc141320>,\n",
       " 'необходимость': <gensim.models.keyedvectors.Vocab at 0x1bbcc141358>,\n",
       " 'использование': <gensim.models.keyedvectors.Vocab at 0x1bbcc141390>,\n",
       " 'родитель': <gensim.models.keyedvectors.Vocab at 0x1bbcc1413c8>,\n",
       " 'сша': <gensim.models.keyedvectors.Vocab at 0x1bbcc141400>,\n",
       " 'парень': <gensim.models.keyedvectors.Vocab at 0x1bbcc141438>,\n",
       " 'оружие': <gensim.models.keyedvectors.Vocab at 0x1bbcc141470>,\n",
       " 'территория': <gensim.models.keyedvectors.Vocab at 0x1bbcc1414a8>,\n",
       " 'учитель': <gensim.models.keyedvectors.Vocab at 0x1bbcc1414e0>,\n",
       " 'полк': <gensim.models.keyedvectors.Vocab at 0x1bbcc141518>,\n",
       " 'операция': <gensim.models.keyedvectors.Vocab at 0x1bbcc141550>,\n",
       " 'почувствовать': <gensim.models.keyedvectors.Vocab at 0x1bbcc141588>,\n",
       " 'слеза': <gensim.models.keyedvectors.Vocab at 0x1bbcc1415c0>,\n",
       " 'выражение': <gensim.models.keyedvectors.Vocab at 0x1bbcc1415f8>,\n",
       " 'особенность': <gensim.models.keyedvectors.Vocab at 0x1bbcc141630>,\n",
       " 'знаменитый': <gensim.models.keyedvectors.Vocab at 0x1bbcc141668>,\n",
       " 'носить': <gensim.models.keyedvectors.Vocab at 0x1bbcc1416a0>,\n",
       " 'надеяться': <gensim.models.keyedvectors.Vocab at 0x1bbcc1416d8>,\n",
       " 'приглашать': <gensim.models.keyedvectors.Vocab at 0x1bbcc141710>,\n",
       " 'называться': <gensim.models.keyedvectors.Vocab at 0x1bbcc141748>,\n",
       " 'здание': <gensim.models.keyedvectors.Vocab at 0x1bbcc141780>,\n",
       " 'отправляться': <gensim.models.keyedvectors.Vocab at 0x1bbcc1417b8>,\n",
       " 'спектакль': <gensim.models.keyedvectors.Vocab at 0x1bbcc1417f0>,\n",
       " 'родной': <gensim.models.keyedvectors.Vocab at 0x1bbcc141828>,\n",
       " 'специалист': <gensim.models.keyedvectors.Vocab at 0x1bbcc141860>,\n",
       " 'карман': <gensim.models.keyedvectors.Vocab at 0x1bbcc141898>,\n",
       " 'нести': <gensim.models.keyedvectors.Vocab at 0x1bbcc1418d0>,\n",
       " 'магазин': <gensim.models.keyedvectors.Vocab at 0x1bbcc141908>,\n",
       " 'направлять': <gensim.models.keyedvectors.Vocab at 0x1bbcc141940>,\n",
       " 'техника': <gensim.models.keyedvectors.Vocab at 0x1bbcc141978>,\n",
       " 'одновременно': <gensim.models.keyedvectors.Vocab at 0x1bbcc1419b0>,\n",
       " 'поезд': <gensim.models.keyedvectors.Vocab at 0x1bbcc1419e8>,\n",
       " 'ложиться': <gensim.models.keyedvectors.Vocab at 0x1bbcc141a20>,\n",
       " 'слава': <gensim.models.keyedvectors.Vocab at 0x1bbcc141a58>,\n",
       " 'личность': <gensim.models.keyedvectors.Vocab at 0x1bbcc141a90>,\n",
       " 'многие': <gensim.models.keyedvectors.Vocab at 0x1bbcc141ac8>,\n",
       " 'прежний': <gensim.models.keyedvectors.Vocab at 0x1bbcc141b00>,\n",
       " 'учиться': <gensim.models.keyedvectors.Vocab at 0x1bbcc141b38>,\n",
       " 'принадлежать': <gensim.models.keyedvectors.Vocab at 0x1bbcc141b70>,\n",
       " 'возраст': <gensim.models.keyedvectors.Vocab at 0x1bbcc141ba8>,\n",
       " 'дядя': <gensim.models.keyedvectors.Vocab at 0x1bbcc141be0>,\n",
       " 'удивляться': <gensim.models.keyedvectors.Vocab at 0x1bbcc141c18>,\n",
       " 'десяток': <gensim.models.keyedvectors.Vocab at 0x1bbcc141c50>,\n",
       " 'комиссия': <gensim.models.keyedvectors.Vocab at 0x1bbcc141c88>,\n",
       " 'отсутствие': <gensim.models.keyedvectors.Vocab at 0x1bbcc141cc0>,\n",
       " 'зима': <gensim.models.keyedvectors.Vocab at 0x1bbcc141cf8>,\n",
       " 'веселый': <gensim.models.keyedvectors.Vocab at 0x1bbcc141d30>,\n",
       " 'вскоре': <gensim.models.keyedvectors.Vocab at 0x1bbcc141d68>,\n",
       " 'колено': <gensim.models.keyedvectors.Vocab at 0x1bbcc141da0>,\n",
       " 'реальный': <gensim.models.keyedvectors.Vocab at 0x1bbcc141dd8>,\n",
       " 'теория': <gensim.models.keyedvectors.Vocab at 0x1bbcc141e10>,\n",
       " 'добавлять': <gensim.models.keyedvectors.Vocab at 0x1bbcc141e48>,\n",
       " 'счастливый': <gensim.models.keyedvectors.Vocab at 0x1bbcc141e80>,\n",
       " 'защита': <gensim.models.keyedvectors.Vocab at 0x1bbcc141eb8>,\n",
       " 'видимо': <gensim.models.keyedvectors.Vocab at 0x1bbcc141ef0>,\n",
       " 'предложение': <gensim.models.keyedvectors.Vocab at 0x1bbcc141f28>,\n",
       " 'зато': <gensim.models.keyedvectors.Vocab at 0x1bbcc141f60>,\n",
       " 'энергия': <gensim.models.keyedvectors.Vocab at 0x1bbcc141f98>,\n",
       " 'кончаться': <gensim.models.keyedvectors.Vocab at 0x1bbcc141fd0>,\n",
       " 'поддерживать': <gensim.models.keyedvectors.Vocab at 0x1bbcc146048>,\n",
       " 'студент': <gensim.models.keyedvectors.Vocab at 0x1bbcc146080>,\n",
       " 'доставать': <gensim.models.keyedvectors.Vocab at 0x1bbcc1460b8>,\n",
       " 'продукт': <gensim.models.keyedvectors.Vocab at 0x1bbcc1460f0>,\n",
       " 'борис': <gensim.models.keyedvectors.Vocab at 0x1bbcc146128>,\n",
       " 'значительный': <gensim.models.keyedvectors.Vocab at 0x1bbcc146160>,\n",
       " 'высота': <gensim.models.keyedvectors.Vocab at 0x1bbcc146198>,\n",
       " 'поверхность': <gensim.models.keyedvectors.Vocab at 0x1bbcc1461d0>,\n",
       " 'плакать': <gensim.models.keyedvectors.Vocab at 0x1bbcc146208>,\n",
       " 'предел': <gensim.models.keyedvectors.Vocab at 0x1bbcc146240>,\n",
       " 'черт': <gensim.models.keyedvectors.Vocab at 0x1bbcc146278>,\n",
       " 'попросить': <gensim.models.keyedvectors.Vocab at 0x1bbcc1462b0>,\n",
       " 'английский': <gensim.models.keyedvectors.Vocab at 0x1bbcc1462e8>,\n",
       " 'обстоятельство': <gensim.models.keyedvectors.Vocab at 0x1bbcc146320>,\n",
       " 'почему-то': <gensim.models.keyedvectors.Vocab at 0x1bbcc146358>,\n",
       " 'продавать': <gensim.models.keyedvectors.Vocab at 0x1bbcc146390>,\n",
       " 'источник': <gensim.models.keyedvectors.Vocab at 0x1bbcc1463c8>,\n",
       " 'спасать': <gensim.models.keyedvectors.Vocab at 0x1bbcc146400>,\n",
       " 'руководитель': <gensim.models.keyedvectors.Vocab at 0x1bbcc146438>,\n",
       " 'птица': <gensim.models.keyedvectors.Vocab at 0x1bbcc146470>,\n",
       " 'выпускать': <gensim.models.keyedvectors.Vocab at 0x1bbcc1464a8>,\n",
       " 'совершать': <gensim.models.keyedvectors.Vocab at 0x1bbcc1464e0>,\n",
       " 'прием': <gensim.models.keyedvectors.Vocab at 0x1bbcc146518>,\n",
       " 'тень': <gensim.models.keyedvectors.Vocab at 0x1bbcc146550>,\n",
       " 'открытый': <gensim.models.keyedvectors.Vocab at 0x1bbcc146588>,\n",
       " 'упасть': <gensim.models.keyedvectors.Vocab at 0x1bbcc1465c0>,\n",
       " 'сто': <gensim.models.keyedvectors.Vocab at 0x1bbcc1465f8>,\n",
       " 'сохранять': <gensim.models.keyedvectors.Vocab at 0x1bbcc146630>,\n",
       " 'духовный': <gensim.models.keyedvectors.Vocab at 0x1bbcc146668>,\n",
       " 'долгий': <gensim.models.keyedvectors.Vocab at 0x1bbcc1466a0>,\n",
       " 'объявлять': <gensim.models.keyedvectors.Vocab at 0x1bbcc1466d8>,\n",
       " 'стекло': <gensim.models.keyedvectors.Vocab at 0x1bbcc146710>,\n",
       " 'возле': <gensim.models.keyedvectors.Vocab at 0x1bbcc146748>,\n",
       " 'тихий': <gensim.models.keyedvectors.Vocab at 0x1bbcc146780>,\n",
       " 'предполагать': <gensim.models.keyedvectors.Vocab at 0x1bbcc1467b8>,\n",
       " 'прийти': <gensim.models.keyedvectors.Vocab at 0x1bbcc1467f0>,\n",
       " 'бросаться': <gensim.models.keyedvectors.Vocab at 0x1bbcc146828>,\n",
       " 'договор': <gensim.models.keyedvectors.Vocab at 0x1bbcc146860>,\n",
       " 'улыбка': <gensim.models.keyedvectors.Vocab at 0x1bbcc146898>,\n",
       " 'читатель': <gensim.models.keyedvectors.Vocab at 0x1bbcc1468d0>,\n",
       " 'руководство': <gensim.models.keyedvectors.Vocab at 0x1bbcc146908>,\n",
       " 'метр': <gensim.models.keyedvectors.Vocab at 0x1bbcc146940>,\n",
       " 'хватать': <gensim.models.keyedvectors.Vocab at 0x1bbcc146978>,\n",
       " 'древний': <gensim.models.keyedvectors.Vocab at 0x1bbcc1469b0>,\n",
       " 'гораздо': <gensim.models.keyedvectors.Vocab at 0x1bbcc1469e8>,\n",
       " 'остров': <gensim.models.keyedvectors.Vocab at 0x1bbcc146a20>,\n",
       " 'оценка': <gensim.models.keyedvectors.Vocab at 0x1bbcc146a58>,\n",
       " 'михаил': <gensim.models.keyedvectors.Vocab at 0x1bbcc146a90>,\n",
       " 'погибать': <gensim.models.keyedvectors.Vocab at 0x1bbcc146ac8>,\n",
       " 'допускать': <gensim.models.keyedvectors.Vocab at 0x1bbcc146b00>,\n",
       " 'строительство': <gensim.models.keyedvectors.Vocab at 0x1bbcc146b38>,\n",
       " 'федеральный': <gensim.models.keyedvectors.Vocab at 0x1bbcc146b70>,\n",
       " 'вниз': <gensim.models.keyedvectors.Vocab at 0x1bbcc146ba8>,\n",
       " 'центральный': <gensim.models.keyedvectors.Vocab at 0x1bbcc146be0>,\n",
       " 'построить': <gensim.models.keyedvectors.Vocab at 0x1bbcc146c18>,\n",
       " 'синий': <gensim.models.keyedvectors.Vocab at 0x1bbcc146c50>,\n",
       " 'вещество': <gensim.models.keyedvectors.Vocab at 0x1bbcc146c88>,\n",
       " 'гражданский': <gensim.models.keyedvectors.Vocab at 0x1bbcc146cc0>,\n",
       " 'вздыхать': <gensim.models.keyedvectors.Vocab at 0x1bbcc146cf8>,\n",
       " 'крайний': <gensim.models.keyedvectors.Vocab at 0x1bbcc146d30>,\n",
       " 'считаться': <gensim.models.keyedvectors.Vocab at 0x1bbcc146d68>,\n",
       " 'западный': <gensim.models.keyedvectors.Vocab at 0x1bbcc146da0>,\n",
       " 'ясный': <gensim.models.keyedvectors.Vocab at 0x1bbcc146dd8>,\n",
       " 'объем': <gensim.models.keyedvectors.Vocab at 0x1bbcc146e10>,\n",
       " 'фигура': <gensim.models.keyedvectors.Vocab at 0x1bbcc146e48>,\n",
       " 'фамилия': <gensim.models.keyedvectors.Vocab at 0x1bbcc146e80>,\n",
       " 'фирма': <gensim.models.keyedvectors.Vocab at 0x1bbcc146eb8>,\n",
       " 'текст': <gensim.models.keyedvectors.Vocab at 0x1bbcc146ef0>,\n",
       " 'участник': <gensim.models.keyedvectors.Vocab at 0x1bbcc146f28>,\n",
       " 'желтый': <gensim.models.keyedvectors.Vocab at 0x1bbcc146f60>,\n",
       " 'республика': <gensim.models.keyedvectors.Vocab at 0x1bbcc146f98>,\n",
       " 'морской': <gensim.models.keyedvectors.Vocab at 0x1bbcc146fd0>,\n",
       " 'черта': <gensim.models.keyedvectors.Vocab at 0x1bbcc14d048>,\n",
       " 'пункт': <gensim.models.keyedvectors.Vocab at 0x1bbcc14d080>,\n",
       " 'испытывать': <gensim.models.keyedvectors.Vocab at 0x1bbcc14d0b8>,\n",
       " 'анализ': <gensim.models.keyedvectors.Vocab at 0x1bbcc14d0f0>,\n",
       " 'павел': <gensim.models.keyedvectors.Vocab at 0x1bbcc14d128>,\n",
       " 'дума': <gensim.models.keyedvectors.Vocab at 0x1bbcc14d160>,\n",
       " 'горячий': <gensim.models.keyedvectors.Vocab at 0x1bbcc14d198>,\n",
       " 'технический': <gensim.models.keyedvectors.Vocab at 0x1bbcc14d1d0>,\n",
       " 'работник': <gensim.models.keyedvectors.Vocab at 0x1bbcc14d208>,\n",
       " 'очевидно': <gensim.models.keyedvectors.Vocab at 0x1bbcc14d240>,\n",
       " 'карта': <gensim.models.keyedvectors.Vocab at 0x1bbcc14d278>,\n",
       " 'животное': <gensim.models.keyedvectors.Vocab at 0x1bbcc14d2b0>,\n",
       " 'см': <gensim.models.keyedvectors.Vocab at 0x1bbcc14d2e8>,\n",
       " 'ленин': <gensim.models.keyedvectors.Vocab at 0x1bbcc14d320>,\n",
       " 'богатый': <gensim.models.keyedvectors.Vocab at 0x1bbcc14d358>,\n",
       " 'ужас': <gensim.models.keyedvectors.Vocab at 0x1bbcc14d390>,\n",
       " 'процент': <gensim.models.keyedvectors.Vocab at 0x1bbcc14d3c8>,\n",
       " 'праздник': <gensim.models.keyedvectors.Vocab at 0x1bbcc14d400>,\n",
       " 'постоянный': <gensim.models.keyedvectors.Vocab at 0x1bbcc14d438>,\n",
       " 'будущий': <gensim.models.keyedvectors.Vocab at 0x1bbcc14d470>,\n",
       " 'весна': <gensim.models.keyedvectors.Vocab at 0x1bbcc14d4a8>,\n",
       " 'попытка': <gensim.models.keyedvectors.Vocab at 0x1bbcc14d4e0>,\n",
       " 'алексей': <gensim.models.keyedvectors.Vocab at 0x1bbcc14d518>,\n",
       " ...}"
      ]
     },
     "execution_count": 5,
     "metadata": {},
     "output_type": "execute_result"
    }
   ],
   "source": [
    "model_word2vec = gensim.models.KeyedVectors.load_word2vec_format(\n",
    "    path_to_ruscorpora,\n",
    "    binary=True\n",
    ")\n",
    "model_word2vec.wv.vocab"
   ]
  },
  {
   "cell_type": "markdown",
   "metadata": {},
   "source": [
    "#### Посмотрим, как с ней обращаться"
   ]
  },
  {
   "cell_type": "markdown",
   "metadata": {},
   "source": [
    "Можно посмотреть наиболее похожие на конкретное слово слова. Попробуйте свойства векторов word2vec: и подумайте какие слова нужно послать на вход, чтобы получить на выходе слова \"школа\",  \"машинное\", \"обучение\"."
   ]
  },
  {
   "cell_type": "code",
   "execution_count": 6,
   "metadata": {
    "ExecuteTime": {
     "end_time": "2019-04-14T15:03:58.399470Z",
     "start_time": "2019-04-14T15:03:57.356321Z"
    }
   },
   "outputs": [
    {
     "name": "stderr",
     "output_type": "stream",
     "text": [
      "2019-04-21 19:51:09,769 : INFO : precomputing L2-norms of word weight vectors\n"
     ]
    },
    {
     "data": {
      "text/plain": [
       "[('судно', 0.46701744198799133),\n",
       " ('крейсер', 0.3743194341659546),\n",
       " ('пароход', 0.33206048607826233)]"
      ]
     },
     "execution_count": 6,
     "metadata": {},
     "output_type": "execute_result"
    }
   ],
   "source": [
    "model_word2vec.most_similar(positive=['корабль'],\n",
    "                            negative=['парус'],\n",
    "                            topn=3)"
   ]
  },
  {
   "cell_type": "code",
   "execution_count": 14,
   "metadata": {
    "ExecuteTime": {
     "end_time": "2019-04-14T15:03:59.361665Z",
     "start_time": "2019-04-14T15:03:59.319135Z"
    }
   },
   "outputs": [
    {
     "data": {
      "text/plain": [
       "[('самолет', 0.5802854299545288),\n",
       " ('судно', 0.5336376428604126),\n",
       " ('дирижабль', 0.5083059072494507)]"
      ]
     },
     "execution_count": 14,
     "metadata": {},
     "output_type": "execute_result"
    }
   ],
   "source": [
    "model_word2vec.most_similar(positive=['корабль', 'летать'],\n",
    "                            negative=['плавать'],\n",
    "                            topn=3)"
   ]
  },
  {
   "cell_type": "code",
   "execution_count": 15,
   "metadata": {
    "ExecuteTime": {
     "end_time": "2019-04-14T15:04:00.007662Z",
     "start_time": "2019-04-14T15:03:59.966543Z"
    }
   },
   "outputs": [
    {
     "data": {
      "text/plain": [
       "[('горняк', 0.3543156385421753),\n",
       " ('ударник', 0.33688703179359436),\n",
       " ('металлург', 0.3220180869102478)]"
      ]
     },
     "execution_count": 15,
     "metadata": {},
     "output_type": "execute_result"
    }
   ],
   "source": [
    "model_word2vec.most_similar(positive=['шахтер'],\n",
    "                            negative=['грязь'],\n",
    "                            topn=3)"
   ]
  },
  {
   "cell_type": "code",
   "execution_count": 16,
   "metadata": {
    "ExecuteTime": {
     "end_time": "2019-04-14T15:04:00.404024Z",
     "start_time": "2019-04-14T15:04:00.358100Z"
    }
   },
   "outputs": [
    {
     "data": {
      "text/plain": [
       "[('мрак', 0.4193800687789917),\n",
       " ('догмат', 0.38442569971084595),\n",
       " ('философия', 0.3840946555137634)]"
      ]
     },
     "execution_count": 16,
     "metadata": {},
     "output_type": "execute_result"
    }
   ],
   "source": [
    "model_word2vec.most_similar(positive=['учение', 'тьма'],\n",
    "                            negative=['свет'],\n",
    "                            topn=3)"
   ]
  },
  {
   "cell_type": "markdown",
   "metadata": {},
   "source": [
    "Еще есть функция, которая выводит лишнее слово в строке. Попробуйте придумать пример, с которым word2vec не справится."
   ]
  },
  {
   "cell_type": "code",
   "execution_count": 17,
   "metadata": {
    "ExecuteTime": {
     "end_time": "2019-04-14T15:04:19.569167Z",
     "start_time": "2019-04-14T15:04:19.561422Z"
    }
   },
   "outputs": [
    {
     "data": {
      "text/plain": [
       "'компот'"
      ]
     },
     "execution_count": 17,
     "metadata": {},
     "output_type": "execute_result"
    }
   ],
   "source": [
    "model_word2vec.doesnt_match(\"коньяк компот водка пиво\".split())"
   ]
  },
  {
   "cell_type": "markdown",
   "metadata": {},
   "source": [
    "Функция, которая выводит сходство между словами.  С ее помощью можно понимать значение слова нефть."
   ]
  },
  {
   "cell_type": "code",
   "execution_count": 23,
   "metadata": {},
   "outputs": [
    {
     "name": "stdout",
     "output_type": "stream",
     "text": [
      "0.4017846\n",
      "0.24677068\n",
      "0.08598833\n",
      "0.029723393\n",
      "0.014373137\n"
     ]
    }
   ],
   "source": [
    "print(model_word2vec.similarity('нефть', 'газ'))\n",
    "print(model_word2vec.similarity('нефть', 'вода'))\n",
    "print(model_word2vec.similarity('нефть', 'водка'))\n",
    "print(model_word2vec.similarity('нефть', 'духи'))\n",
    "print(model_word2vec.similarity('нефть', 'компот'))"
   ]
  },
  {
   "cell_type": "markdown",
   "metadata": {},
   "source": [
    "Или смотреть, где в России больше нефти."
   ]
  },
  {
   "cell_type": "code",
   "execution_count": 24,
   "metadata": {},
   "outputs": [
    {
     "name": "stdout",
     "output_type": "stream",
     "text": [
      "0.10231814\n",
      "0.0374594\n",
      "0.0076552005\n",
      "0.0043799127\n",
      "0.086305186\n"
     ]
    }
   ],
   "source": [
    "print(model_word2vec.similarity('нефть', 'чечня'))\n",
    "print(model_word2vec.similarity('нефть', 'якутск'))\n",
    "print(model_word2vec.similarity('нефть', 'москва'))\n",
    "print(model_word2vec.similarity('нефть', 'саратов'))\n",
    "print(model_word2vec.similarity('нефть', 'сибирь'))"
   ]
  },
  {
   "cell_type": "markdown",
   "metadata": {},
   "source": [
    "### Пункт 0\n",
    "Допишите своих интересных примеров, характеризующих word2vec, попробуйте обосновать полученные результаты."
   ]
  },
  {
   "cell_type": "markdown",
   "metadata": {},
   "source": [
    " Второй ответ выглядит разумным)"
   ]
  },
  {
   "cell_type": "code",
   "execution_count": 36,
   "metadata": {},
   "outputs": [
    {
     "data": {
      "text/plain": [
       "[('вечер', 0.5187423229217529),\n",
       " ('утро', 0.39263731241226196),\n",
       " ('подпиточка', 0.3720931112766266)]"
      ]
     },
     "execution_count": 36,
     "metadata": {},
     "output_type": "execute_result"
    }
   ],
   "source": [
    "model_word2vec.most_similar(positive=['ночь'],\n",
    "                            negative=['тьма'],\n",
    "                            topn=3)"
   ]
  },
  {
   "cell_type": "markdown",
   "metadata": {},
   "source": [
    "Неправильно выделяет лишнее слово. Возможно, обращает внимание на то, что москва и париж - столицы "
   ]
  },
  {
   "cell_type": "code",
   "execution_count": 25,
   "metadata": {
    "ExecuteTime": {
     "end_time": "2019-04-14T15:05:19.270564Z",
     "start_time": "2019-04-14T15:05:19.267119Z"
    }
   },
   "outputs": [
    {
     "data": {
      "text/plain": [
       "'сочи'"
      ]
     },
     "execution_count": 25,
     "metadata": {},
     "output_type": "execute_result"
    }
   ],
   "source": [
    "model_word2vec.doesnt_match(\"сочи москва париж казань санкт-петербург\".split())"
   ]
  },
  {
   "cell_type": "markdown",
   "metadata": {},
   "source": [
    "Забавно, что связи между интеллектом и космосом больше чем между интеллектом и человеком. Связь с компьютором, наверно, можно объяснить частотой употребления связки \"искуственный интеллект\" и \"компьютер\""
   ]
  },
  {
   "cell_type": "code",
   "execution_count": 37,
   "metadata": {},
   "outputs": [
    {
     "name": "stdout",
     "output_type": "stream",
     "text": [
      "0.082524106\n",
      "0.021205489\n",
      "0.037591472\n",
      "0.19227731\n",
      "0.09695639\n"
     ]
    }
   ],
   "source": [
    "print(model_word2vec.similarity('интеллект', 'человек'))\n",
    "print(model_word2vec.similarity('интеллект', 'собака'))\n",
    "print(model_word2vec.similarity('интеллект', 'кошка'))\n",
    "print(model_word2vec.similarity('интеллект', 'компьютер'))\n",
    "print(model_word2vec.similarity('интеллект', 'космос'))"
   ]
  },
  {
   "cell_type": "markdown",
   "metadata": {},
   "source": [
    "#### Теперь давайте обучим собственную модель\n",
    "В качестве обучающего корпуса возьмем новости по 20 темам."
   ]
  },
  {
   "cell_type": "code",
   "execution_count": 4,
   "metadata": {
    "ExecuteTime": {
     "end_time": "2019-04-14T15:05:28.604520Z",
     "start_time": "2019-04-14T15:05:27.941053Z"
    }
   },
   "outputs": [
    {
     "name": "stdout",
     "output_type": "stream",
     "text": [
      "['alt.atheism', 'comp.graphics', 'comp.os.ms-windows.misc', 'comp.sys.ibm.pc.hardware', 'comp.sys.mac.hardware', 'comp.windows.x', 'misc.forsale', 'rec.autos', 'rec.motorcycles', 'rec.sport.baseball', 'rec.sport.hockey', 'sci.crypt', 'sci.electronics', 'sci.med', 'sci.space', 'soc.religion.christian', 'talk.politics.guns', 'talk.politics.mideast', 'talk.politics.misc', 'talk.religion.misc']  - 20 возможных тем\n"
     ]
    },
    {
     "data": {
      "text/plain": [
       "['From:',\n",
       " 'erik@cheshire.oxy.edu',\n",
       " '(Erik',\n",
       " 'Adams)',\n",
       " 'Subject:',\n",
       " 'HELP!!',\n",
       " 'My',\n",
       " 'Macintosh',\n",
       " '\"luggable\"',\n",
       " 'has',\n",
       " 'lines',\n",
       " 'on',\n",
       " 'its',\n",
       " 'screen!',\n",
       " 'Organization:',\n",
       " 'Occidental',\n",
       " 'College,',\n",
       " 'Los',\n",
       " 'Angeles,',\n",
       " 'CA',\n",
       " '90041',\n",
       " 'USA.',\n",
       " 'Distribution:',\n",
       " 'comp',\n",
       " 'Lines:',\n",
       " '20',\n",
       " 'Okay,',\n",
       " 'I',\n",
       " \"don't\",\n",
       " 'use',\n",
       " 'it',\n",
       " 'very',\n",
       " 'much,',\n",
       " 'but',\n",
       " 'I',\n",
       " 'would',\n",
       " 'like',\n",
       " 'for',\n",
       " 'it',\n",
       " 'to',\n",
       " 'keep',\n",
       " 'working',\n",
       " 'correctly,',\n",
       " 'at',\n",
       " 'least',\n",
       " 'as',\n",
       " 'long',\n",
       " 'as',\n",
       " 'Apple',\n",
       " 'continues',\n",
       " 'to',\n",
       " 'make',\n",
       " 'System',\n",
       " 'software',\n",
       " 'that',\n",
       " 'will',\n",
       " 'run',\n",
       " 'on',\n",
       " 'it,',\n",
       " 'if',\n",
       " 'slowly',\n",
       " ':-)',\n",
       " 'Here',\n",
       " 'is',\n",
       " 'the',\n",
       " 'problem:',\n",
       " 'When',\n",
       " 'the',\n",
       " 'screen',\n",
       " 'is',\n",
       " 'tilted',\n",
       " 'too',\n",
       " 'far',\n",
       " 'back,',\n",
       " 'vertical',\n",
       " 'lines',\n",
       " 'appear',\n",
       " 'on',\n",
       " 'the',\n",
       " 'screen.',\n",
       " 'They',\n",
       " 'are',\n",
       " 'every',\n",
       " '10',\n",
       " 'pixels',\n",
       " 'or',\n",
       " 'so,',\n",
       " 'and',\n",
       " 'seem',\n",
       " 'to',\n",
       " 'be',\n",
       " 'affected',\n",
       " 'somewhat',\n",
       " 'by',\n",
       " 'opening',\n",
       " 'windows',\n",
       " 'and',\n",
       " 'pulling',\n",
       " 'down',\n",
       " 'menus.',\n",
       " 'It',\n",
       " 'looks',\n",
       " 'to',\n",
       " 'a',\n",
       " 'semi-technical',\n",
       " 'person',\n",
       " 'like',\n",
       " 'there',\n",
       " 'is',\n",
       " 'a',\n",
       " 'loose',\n",
       " 'connection',\n",
       " 'between',\n",
       " 'the',\n",
       " 'screen',\n",
       " 'and',\n",
       " 'the',\n",
       " 'rest',\n",
       " 'of',\n",
       " 'the',\n",
       " 'computer.',\n",
       " 'I',\n",
       " 'am',\n",
       " 'open',\n",
       " 'to',\n",
       " 'suggestions',\n",
       " 'that',\n",
       " 'do',\n",
       " 'not',\n",
       " 'involve',\n",
       " 'buying',\n",
       " 'a',\n",
       " 'new',\n",
       " 'computer,',\n",
       " 'or',\n",
       " 'taking',\n",
       " 'this',\n",
       " 'one',\n",
       " 'to',\n",
       " 'the',\n",
       " 'shop.',\n",
       " 'I',\n",
       " 'would',\n",
       " 'also',\n",
       " 'like',\n",
       " 'to',\n",
       " 'not',\n",
       " 'have',\n",
       " 'to',\n",
       " 'buy',\n",
       " 'one',\n",
       " 'of',\n",
       " 'Larry',\n",
       " \"Pina's\",\n",
       " 'books.',\n",
       " 'I',\n",
       " 'like',\n",
       " 'Larry,',\n",
       " 'but',\n",
       " \"I'm\",\n",
       " 'not',\n",
       " 'sure',\n",
       " 'I',\n",
       " 'feel',\n",
       " 'strongly',\n",
       " 'enough',\n",
       " 'about',\n",
       " 'the',\n",
       " 'computer',\n",
       " 'to',\n",
       " 'buy',\n",
       " 'a',\n",
       " 'service',\n",
       " 'manual',\n",
       " 'for',\n",
       " 'it.',\n",
       " 'On',\n",
       " 'a',\n",
       " 'related',\n",
       " 'note:',\n",
       " 'what',\n",
       " 'does',\n",
       " 'the',\n",
       " 'monitor',\n",
       " 'connector',\n",
       " 'connect',\n",
       " 'to?',\n",
       " 'Erik']"
      ]
     },
     "execution_count": 4,
     "metadata": {},
     "output_type": "execute_result"
    }
   ],
   "source": [
    "train_all = fetch_20newsgroups(subset='train')\n",
    "print(train_all.target_names, \" - 20 возможных тем\")\n",
    "\n",
    "dataset = fetch_20newsgroups(\n",
    "    subset='train', \n",
    "    categories=['comp.sys.mac.hardware', 'soc.religion.christian', 'rec.sport.hockey'])\n",
    "\n",
    "dataset.data[0].split()"
   ]
  },
  {
   "cell_type": "markdown",
   "metadata": {},
   "source": [
    "### Пункт 1\n",
    "\n",
    "Предобработаем эти новости. Выкинем цифры, знаки пунктуации, переведем в нижний регистр, разобьем на слова.\n",
    "\n",
    "Нормализуйте слова, например с помощью модуля nltk (или используйте любой другой способ на ваш выбор)."
   ]
  },
  {
   "cell_type": "code",
   "execution_count": 5,
   "metadata": {
    "ExecuteTime": {
     "end_time": "2019-04-14T15:08:42.646635Z",
     "start_time": "2019-04-14T15:08:42.642724Z"
    }
   },
   "outputs": [],
   "source": [
    "def normalize(raw_text):\n",
    "    preprocessed_text = raw_text.lower()\n",
    "    preprocessed_text = preprocessed_text.translate(str.maketrans('', '', string.punctuation))\n",
    "    preprocessed_text = re.sub(r'\\d+', '', preprocessed_text)\n",
    "    preprocessed_text = nltk.word_tokenize(preprocessed_text)\n",
    "    \n",
    "    #stemmer= PorterStemmer()\n",
    "    #stems = []\n",
    "    #for word in preprocessed_text:\n",
    "    #    stem = stemmer.stem(word)\n",
    "    #    stems.append(stem)\n",
    "    \n",
    "    # кажется, что это даёт лучший результат, ибо в случае со стемингом Los от Los Angeles превращается в Lo\n",
    "    lemmatizer=WordNetLemmatizer()\n",
    "    stems = []\n",
    "    for word in preprocessed_text:\n",
    "        stem = lemmatizer.lemmatize(word)\n",
    "        stems.append(stem)\n",
    "    return stems"
   ]
  },
  {
   "cell_type": "code",
   "execution_count": 6,
   "metadata": {
    "ExecuteTime": {
     "end_time": "2019-04-14T15:08:43.264213Z",
     "start_time": "2019-04-14T15:08:43.253424Z"
    }
   },
   "outputs": [
    {
     "name": "stderr",
     "output_type": "stream",
     "text": [
      "100%|█████████████████████████████████████████████████████████████████████████████| 1777/1777 [00:12<00:00, 145.29it/s]\n"
     ]
    }
   ],
   "source": [
    "data_normalized = [normalize(news) for news in tqdm(dataset.data)]"
   ]
  },
  {
   "cell_type": "markdown",
   "metadata": {},
   "source": [
    "Теперь обучающий корпус готов."
   ]
  },
  {
   "cell_type": "code",
   "execution_count": 30,
   "metadata": {
    "ExecuteTime": {
     "end_time": "2019-04-14T15:08:59.774601Z",
     "start_time": "2019-04-14T15:08:54.996030Z"
    },
    "collapsed": true
   },
   "outputs": [
    {
     "name": "stderr",
     "output_type": "stream",
     "text": [
      "2019-04-21 20:21:18,923 : INFO : collecting all words and their counts\n",
      "2019-04-21 20:21:18,927 : INFO : PROGRESS: at sentence #0, processed 0 words, keeping 0 word types\n",
      "2019-04-21 20:21:19,087 : INFO : collected 24142 word types from a corpus of 467827 raw words and 1777 sentences\n",
      "2019-04-21 20:21:19,093 : INFO : Loading a fresh vocabulary\n",
      "2019-04-21 20:21:19,186 : INFO : effective_min_count=1 retains 24142 unique words (100% of original 24142, drops 0)\n",
      "2019-04-21 20:21:19,188 : INFO : effective_min_count=1 leaves 467827 word corpus (100% of original 467827, drops 0)\n",
      "2019-04-21 20:21:19,304 : INFO : deleting the raw counts dictionary of 24142 items\n",
      "2019-04-21 20:21:19,307 : INFO : sample=0.001 downsamples 46 most-common words\n",
      "2019-04-21 20:21:19,310 : INFO : downsampling leaves estimated 368933 word corpus (78.9% of prior 467827)\n",
      "2019-04-21 20:21:19,429 : INFO : estimated required memory for 24142 words and 100 dimensions: 31384600 bytes\n",
      "2019-04-21 20:21:19,431 : INFO : resetting layer weights\n",
      "2019-04-21 20:21:19,845 : INFO : training model with 3 workers on 24142 vocabulary and 100 features, using sg=0 hs=0 sample=0.001 negative=5 window=5\n",
      "2019-04-21 20:21:29,845 : INFO : EPOCH 1 - PROGRESS: at 1.97% examples, 607 words/s, in_qsize 6, out_qsize 0\n",
      "2019-04-21 20:21:32,807 : INFO : EPOCH 1 - PROGRESS: at 3.26% examples, 1073 words/s, in_qsize 6, out_qsize 0\n",
      "2019-04-21 20:21:41,968 : INFO : EPOCH 1 - PROGRESS: at 8.10% examples, 1315 words/s, in_qsize 5, out_qsize 0\n"
     ]
    },
    {
     "ename": "KeyboardInterrupt",
     "evalue": "",
     "output_type": "error",
     "traceback": [
      "\u001b[1;31m---------------------------------------------------------------------------\u001b[0m",
      "\u001b[1;31mKeyboardInterrupt\u001b[0m                         Traceback (most recent call last)",
      "\u001b[1;32m<ipython-input-30-291f87462500>\u001b[0m in \u001b[0;36m<module>\u001b[1;34m\u001b[0m\n\u001b[0;32m      1\u001b[0m \u001b[0msentences\u001b[0m \u001b[1;33m=\u001b[0m \u001b[0mdata_normalized\u001b[0m\u001b[1;33m\u001b[0m\u001b[0m\n\u001b[1;32m----> 2\u001b[1;33m \u001b[0mmodel\u001b[0m \u001b[1;33m=\u001b[0m \u001b[0mgensim\u001b[0m\u001b[1;33m.\u001b[0m\u001b[0mmodels\u001b[0m\u001b[1;33m.\u001b[0m\u001b[0mWord2Vec\u001b[0m\u001b[1;33m(\u001b[0m\u001b[0msentences\u001b[0m\u001b[1;33m,\u001b[0m \u001b[0mmin_count\u001b[0m\u001b[1;33m=\u001b[0m\u001b[1;36m1\u001b[0m\u001b[1;33m)\u001b[0m\u001b[1;33m\u001b[0m\u001b[0m\n\u001b[0m",
      "\u001b[1;32m~\\AppData\\Roaming\\Python\\Python36\\site-packages\\gensim\\models\\word2vec.py\u001b[0m in \u001b[0;36m__init__\u001b[1;34m(self, sentences, corpus_file, size, alpha, window, min_count, max_vocab_size, sample, seed, workers, min_alpha, sg, hs, negative, ns_exponent, cbow_mean, hashfxn, iter, null_word, trim_rule, sorted_vocab, batch_words, compute_loss, callbacks, max_final_vocab)\u001b[0m\n\u001b[0;32m    781\u001b[0m             \u001b[0mcallbacks\u001b[0m\u001b[1;33m=\u001b[0m\u001b[0mcallbacks\u001b[0m\u001b[1;33m,\u001b[0m \u001b[0mbatch_words\u001b[0m\u001b[1;33m=\u001b[0m\u001b[0mbatch_words\u001b[0m\u001b[1;33m,\u001b[0m \u001b[0mtrim_rule\u001b[0m\u001b[1;33m=\u001b[0m\u001b[0mtrim_rule\u001b[0m\u001b[1;33m,\u001b[0m \u001b[0msg\u001b[0m\u001b[1;33m=\u001b[0m\u001b[0msg\u001b[0m\u001b[1;33m,\u001b[0m \u001b[0malpha\u001b[0m\u001b[1;33m=\u001b[0m\u001b[0malpha\u001b[0m\u001b[1;33m,\u001b[0m \u001b[0mwindow\u001b[0m\u001b[1;33m=\u001b[0m\u001b[0mwindow\u001b[0m\u001b[1;33m,\u001b[0m\u001b[1;33m\u001b[0m\u001b[0m\n\u001b[0;32m    782\u001b[0m             \u001b[0mseed\u001b[0m\u001b[1;33m=\u001b[0m\u001b[0mseed\u001b[0m\u001b[1;33m,\u001b[0m \u001b[0mhs\u001b[0m\u001b[1;33m=\u001b[0m\u001b[0mhs\u001b[0m\u001b[1;33m,\u001b[0m \u001b[0mnegative\u001b[0m\u001b[1;33m=\u001b[0m\u001b[0mnegative\u001b[0m\u001b[1;33m,\u001b[0m \u001b[0mcbow_mean\u001b[0m\u001b[1;33m=\u001b[0m\u001b[0mcbow_mean\u001b[0m\u001b[1;33m,\u001b[0m \u001b[0mmin_alpha\u001b[0m\u001b[1;33m=\u001b[0m\u001b[0mmin_alpha\u001b[0m\u001b[1;33m,\u001b[0m \u001b[0mcompute_loss\u001b[0m\u001b[1;33m=\u001b[0m\u001b[0mcompute_loss\u001b[0m\u001b[1;33m,\u001b[0m\u001b[1;33m\u001b[0m\u001b[0m\n\u001b[1;32m--> 783\u001b[1;33m             fast_version=FAST_VERSION)\n\u001b[0m\u001b[0;32m    784\u001b[0m \u001b[1;33m\u001b[0m\u001b[0m\n\u001b[0;32m    785\u001b[0m     def _do_train_epoch(self, corpus_file, thread_id, offset, cython_vocab, thread_private_mem, cur_epoch,\n",
      "\u001b[1;32m~\\AppData\\Roaming\\Python\\Python36\\site-packages\\gensim\\models\\base_any2vec.py\u001b[0m in \u001b[0;36m__init__\u001b[1;34m(self, sentences, corpus_file, workers, vector_size, epochs, callbacks, batch_words, trim_rule, sg, alpha, window, seed, hs, negative, ns_exponent, cbow_mean, min_alpha, compute_loss, fast_version, **kwargs)\u001b[0m\n\u001b[0;32m    761\u001b[0m                 \u001b[0msentences\u001b[0m\u001b[1;33m=\u001b[0m\u001b[0msentences\u001b[0m\u001b[1;33m,\u001b[0m \u001b[0mcorpus_file\u001b[0m\u001b[1;33m=\u001b[0m\u001b[0mcorpus_file\u001b[0m\u001b[1;33m,\u001b[0m \u001b[0mtotal_examples\u001b[0m\u001b[1;33m=\u001b[0m\u001b[0mself\u001b[0m\u001b[1;33m.\u001b[0m\u001b[0mcorpus_count\u001b[0m\u001b[1;33m,\u001b[0m\u001b[1;33m\u001b[0m\u001b[0m\n\u001b[0;32m    762\u001b[0m                 \u001b[0mtotal_words\u001b[0m\u001b[1;33m=\u001b[0m\u001b[0mself\u001b[0m\u001b[1;33m.\u001b[0m\u001b[0mcorpus_total_words\u001b[0m\u001b[1;33m,\u001b[0m \u001b[0mepochs\u001b[0m\u001b[1;33m=\u001b[0m\u001b[0mself\u001b[0m\u001b[1;33m.\u001b[0m\u001b[0mepochs\u001b[0m\u001b[1;33m,\u001b[0m \u001b[0mstart_alpha\u001b[0m\u001b[1;33m=\u001b[0m\u001b[0mself\u001b[0m\u001b[1;33m.\u001b[0m\u001b[0malpha\u001b[0m\u001b[1;33m,\u001b[0m\u001b[1;33m\u001b[0m\u001b[0m\n\u001b[1;32m--> 763\u001b[1;33m                 end_alpha=self.min_alpha, compute_loss=compute_loss)\n\u001b[0m\u001b[0;32m    764\u001b[0m         \u001b[1;32melse\u001b[0m\u001b[1;33m:\u001b[0m\u001b[1;33m\u001b[0m\u001b[0m\n\u001b[0;32m    765\u001b[0m             \u001b[1;32mif\u001b[0m \u001b[0mtrim_rule\u001b[0m \u001b[1;32mis\u001b[0m \u001b[1;32mnot\u001b[0m \u001b[1;32mNone\u001b[0m\u001b[1;33m:\u001b[0m\u001b[1;33m\u001b[0m\u001b[0m\n",
      "\u001b[1;32m~\\AppData\\Roaming\\Python\\Python36\\site-packages\\gensim\\models\\word2vec.py\u001b[0m in \u001b[0;36mtrain\u001b[1;34m(self, sentences, corpus_file, total_examples, total_words, epochs, start_alpha, end_alpha, word_count, queue_factor, report_delay, compute_loss, callbacks)\u001b[0m\n\u001b[0;32m    908\u001b[0m             \u001b[0msentences\u001b[0m\u001b[1;33m=\u001b[0m\u001b[0msentences\u001b[0m\u001b[1;33m,\u001b[0m \u001b[0mcorpus_file\u001b[0m\u001b[1;33m=\u001b[0m\u001b[0mcorpus_file\u001b[0m\u001b[1;33m,\u001b[0m \u001b[0mtotal_examples\u001b[0m\u001b[1;33m=\u001b[0m\u001b[0mtotal_examples\u001b[0m\u001b[1;33m,\u001b[0m \u001b[0mtotal_words\u001b[0m\u001b[1;33m=\u001b[0m\u001b[0mtotal_words\u001b[0m\u001b[1;33m,\u001b[0m\u001b[1;33m\u001b[0m\u001b[0m\n\u001b[0;32m    909\u001b[0m             \u001b[0mepochs\u001b[0m\u001b[1;33m=\u001b[0m\u001b[0mepochs\u001b[0m\u001b[1;33m,\u001b[0m \u001b[0mstart_alpha\u001b[0m\u001b[1;33m=\u001b[0m\u001b[0mstart_alpha\u001b[0m\u001b[1;33m,\u001b[0m \u001b[0mend_alpha\u001b[0m\u001b[1;33m=\u001b[0m\u001b[0mend_alpha\u001b[0m\u001b[1;33m,\u001b[0m \u001b[0mword_count\u001b[0m\u001b[1;33m=\u001b[0m\u001b[0mword_count\u001b[0m\u001b[1;33m,\u001b[0m\u001b[1;33m\u001b[0m\u001b[0m\n\u001b[1;32m--> 910\u001b[1;33m             queue_factor=queue_factor, report_delay=report_delay, compute_loss=compute_loss, callbacks=callbacks)\n\u001b[0m\u001b[0;32m    911\u001b[0m \u001b[1;33m\u001b[0m\u001b[0m\n\u001b[0;32m    912\u001b[0m     \u001b[1;32mdef\u001b[0m \u001b[0mscore\u001b[0m\u001b[1;33m(\u001b[0m\u001b[0mself\u001b[0m\u001b[1;33m,\u001b[0m \u001b[0msentences\u001b[0m\u001b[1;33m,\u001b[0m \u001b[0mtotal_sentences\u001b[0m\u001b[1;33m=\u001b[0m\u001b[0mint\u001b[0m\u001b[1;33m(\u001b[0m\u001b[1;36m1e6\u001b[0m\u001b[1;33m)\u001b[0m\u001b[1;33m,\u001b[0m \u001b[0mchunksize\u001b[0m\u001b[1;33m=\u001b[0m\u001b[1;36m100\u001b[0m\u001b[1;33m,\u001b[0m \u001b[0mqueue_factor\u001b[0m\u001b[1;33m=\u001b[0m\u001b[1;36m2\u001b[0m\u001b[1;33m,\u001b[0m \u001b[0mreport_delay\u001b[0m\u001b[1;33m=\u001b[0m\u001b[1;36m1\u001b[0m\u001b[1;33m)\u001b[0m\u001b[1;33m:\u001b[0m\u001b[1;33m\u001b[0m\u001b[0m\n",
      "\u001b[1;32m~\\AppData\\Roaming\\Python\\Python36\\site-packages\\gensim\\models\\base_any2vec.py\u001b[0m in \u001b[0;36mtrain\u001b[1;34m(self, sentences, corpus_file, total_examples, total_words, epochs, start_alpha, end_alpha, word_count, queue_factor, report_delay, compute_loss, callbacks, **kwargs)\u001b[0m\n\u001b[0;32m   1079\u001b[0m             \u001b[0mtotal_words\u001b[0m\u001b[1;33m=\u001b[0m\u001b[0mtotal_words\u001b[0m\u001b[1;33m,\u001b[0m \u001b[0mepochs\u001b[0m\u001b[1;33m=\u001b[0m\u001b[0mepochs\u001b[0m\u001b[1;33m,\u001b[0m \u001b[0mstart_alpha\u001b[0m\u001b[1;33m=\u001b[0m\u001b[0mstart_alpha\u001b[0m\u001b[1;33m,\u001b[0m \u001b[0mend_alpha\u001b[0m\u001b[1;33m=\u001b[0m\u001b[0mend_alpha\u001b[0m\u001b[1;33m,\u001b[0m \u001b[0mword_count\u001b[0m\u001b[1;33m=\u001b[0m\u001b[0mword_count\u001b[0m\u001b[1;33m,\u001b[0m\u001b[1;33m\u001b[0m\u001b[0m\n\u001b[0;32m   1080\u001b[0m             \u001b[0mqueue_factor\u001b[0m\u001b[1;33m=\u001b[0m\u001b[0mqueue_factor\u001b[0m\u001b[1;33m,\u001b[0m \u001b[0mreport_delay\u001b[0m\u001b[1;33m=\u001b[0m\u001b[0mreport_delay\u001b[0m\u001b[1;33m,\u001b[0m \u001b[0mcompute_loss\u001b[0m\u001b[1;33m=\u001b[0m\u001b[0mcompute_loss\u001b[0m\u001b[1;33m,\u001b[0m \u001b[0mcallbacks\u001b[0m\u001b[1;33m=\u001b[0m\u001b[0mcallbacks\u001b[0m\u001b[1;33m,\u001b[0m\u001b[1;33m\u001b[0m\u001b[0m\n\u001b[1;32m-> 1081\u001b[1;33m             **kwargs)\n\u001b[0m\u001b[0;32m   1082\u001b[0m \u001b[1;33m\u001b[0m\u001b[0m\n\u001b[0;32m   1083\u001b[0m     \u001b[1;32mdef\u001b[0m \u001b[0m_get_job_params\u001b[0m\u001b[1;33m(\u001b[0m\u001b[0mself\u001b[0m\u001b[1;33m,\u001b[0m \u001b[0mcur_epoch\u001b[0m\u001b[1;33m)\u001b[0m\u001b[1;33m:\u001b[0m\u001b[1;33m\u001b[0m\u001b[0m\n",
      "\u001b[1;32m~\\AppData\\Roaming\\Python\\Python36\\site-packages\\gensim\\models\\base_any2vec.py\u001b[0m in \u001b[0;36mtrain\u001b[1;34m(self, data_iterable, corpus_file, epochs, total_examples, total_words, queue_factor, report_delay, callbacks, **kwargs)\u001b[0m\n\u001b[0;32m    551\u001b[0m                 trained_word_count_epoch, raw_word_count_epoch, job_tally_epoch = self._train_epoch(\n\u001b[0;32m    552\u001b[0m                     \u001b[0mdata_iterable\u001b[0m\u001b[1;33m,\u001b[0m \u001b[0mcur_epoch\u001b[0m\u001b[1;33m=\u001b[0m\u001b[0mcur_epoch\u001b[0m\u001b[1;33m,\u001b[0m \u001b[0mtotal_examples\u001b[0m\u001b[1;33m=\u001b[0m\u001b[0mtotal_examples\u001b[0m\u001b[1;33m,\u001b[0m\u001b[1;33m\u001b[0m\u001b[0m\n\u001b[1;32m--> 553\u001b[1;33m                     total_words=total_words, queue_factor=queue_factor, report_delay=report_delay)\n\u001b[0m\u001b[0;32m    554\u001b[0m             \u001b[1;32melse\u001b[0m\u001b[1;33m:\u001b[0m\u001b[1;33m\u001b[0m\u001b[0m\n\u001b[0;32m    555\u001b[0m                 trained_word_count_epoch, raw_word_count_epoch, job_tally_epoch = self._train_epoch_corpusfile(\n",
      "\u001b[1;32m~\\AppData\\Roaming\\Python\\Python36\\site-packages\\gensim\\models\\base_any2vec.py\u001b[0m in \u001b[0;36m_train_epoch\u001b[1;34m(self, data_iterable, cur_epoch, total_examples, total_words, queue_factor, report_delay)\u001b[0m\n\u001b[0;32m    487\u001b[0m         trained_word_count, raw_word_count, job_tally = self._log_epoch_progress(\n\u001b[0;32m    488\u001b[0m             \u001b[0mprogress_queue\u001b[0m\u001b[1;33m,\u001b[0m \u001b[0mjob_queue\u001b[0m\u001b[1;33m,\u001b[0m \u001b[0mcur_epoch\u001b[0m\u001b[1;33m=\u001b[0m\u001b[0mcur_epoch\u001b[0m\u001b[1;33m,\u001b[0m \u001b[0mtotal_examples\u001b[0m\u001b[1;33m=\u001b[0m\u001b[0mtotal_examples\u001b[0m\u001b[1;33m,\u001b[0m \u001b[0mtotal_words\u001b[0m\u001b[1;33m=\u001b[0m\u001b[0mtotal_words\u001b[0m\u001b[1;33m,\u001b[0m\u001b[1;33m\u001b[0m\u001b[0m\n\u001b[1;32m--> 489\u001b[1;33m             report_delay=report_delay, is_corpus_file_mode=False)\n\u001b[0m\u001b[0;32m    490\u001b[0m \u001b[1;33m\u001b[0m\u001b[0m\n\u001b[0;32m    491\u001b[0m         \u001b[1;32mreturn\u001b[0m \u001b[0mtrained_word_count\u001b[0m\u001b[1;33m,\u001b[0m \u001b[0mraw_word_count\u001b[0m\u001b[1;33m,\u001b[0m \u001b[0mjob_tally\u001b[0m\u001b[1;33m\u001b[0m\u001b[0m\n",
      "\u001b[1;32m~\\AppData\\Roaming\\Python\\Python36\\site-packages\\gensim\\models\\base_any2vec.py\u001b[0m in \u001b[0;36m_log_epoch_progress\u001b[1;34m(self, progress_queue, job_queue, cur_epoch, total_examples, total_words, report_delay, is_corpus_file_mode)\u001b[0m\n\u001b[0;32m    344\u001b[0m \u001b[1;33m\u001b[0m\u001b[0m\n\u001b[0;32m    345\u001b[0m         \u001b[1;32mwhile\u001b[0m \u001b[0munfinished_worker_count\u001b[0m \u001b[1;33m>\u001b[0m \u001b[1;36m0\u001b[0m\u001b[1;33m:\u001b[0m\u001b[1;33m\u001b[0m\u001b[0m\n\u001b[1;32m--> 346\u001b[1;33m             \u001b[0mreport\u001b[0m \u001b[1;33m=\u001b[0m \u001b[0mprogress_queue\u001b[0m\u001b[1;33m.\u001b[0m\u001b[0mget\u001b[0m\u001b[1;33m(\u001b[0m\u001b[1;33m)\u001b[0m  \u001b[1;31m# blocks if workers too slow\u001b[0m\u001b[1;33m\u001b[0m\u001b[0m\n\u001b[0m\u001b[0;32m    347\u001b[0m             \u001b[1;32mif\u001b[0m \u001b[0mreport\u001b[0m \u001b[1;32mis\u001b[0m \u001b[1;32mNone\u001b[0m\u001b[1;33m:\u001b[0m  \u001b[1;31m# a thread reporting that it finished\u001b[0m\u001b[1;33m\u001b[0m\u001b[0m\n\u001b[0;32m    348\u001b[0m                 \u001b[0munfinished_worker_count\u001b[0m \u001b[1;33m-=\u001b[0m \u001b[1;36m1\u001b[0m\u001b[1;33m\u001b[0m\u001b[0m\n",
      "\u001b[1;32m~\\Anaconda3\\lib\\queue.py\u001b[0m in \u001b[0;36mget\u001b[1;34m(self, block, timeout)\u001b[0m\n\u001b[0;32m    162\u001b[0m             \u001b[1;32melif\u001b[0m \u001b[0mtimeout\u001b[0m \u001b[1;32mis\u001b[0m \u001b[1;32mNone\u001b[0m\u001b[1;33m:\u001b[0m\u001b[1;33m\u001b[0m\u001b[0m\n\u001b[0;32m    163\u001b[0m                 \u001b[1;32mwhile\u001b[0m \u001b[1;32mnot\u001b[0m \u001b[0mself\u001b[0m\u001b[1;33m.\u001b[0m\u001b[0m_qsize\u001b[0m\u001b[1;33m(\u001b[0m\u001b[1;33m)\u001b[0m\u001b[1;33m:\u001b[0m\u001b[1;33m\u001b[0m\u001b[0m\n\u001b[1;32m--> 164\u001b[1;33m                     \u001b[0mself\u001b[0m\u001b[1;33m.\u001b[0m\u001b[0mnot_empty\u001b[0m\u001b[1;33m.\u001b[0m\u001b[0mwait\u001b[0m\u001b[1;33m(\u001b[0m\u001b[1;33m)\u001b[0m\u001b[1;33m\u001b[0m\u001b[0m\n\u001b[0m\u001b[0;32m    165\u001b[0m             \u001b[1;32melif\u001b[0m \u001b[0mtimeout\u001b[0m \u001b[1;33m<\u001b[0m \u001b[1;36m0\u001b[0m\u001b[1;33m:\u001b[0m\u001b[1;33m\u001b[0m\u001b[0m\n\u001b[0;32m    166\u001b[0m                 \u001b[1;32mraise\u001b[0m \u001b[0mValueError\u001b[0m\u001b[1;33m(\u001b[0m\u001b[1;34m\"'timeout' must be a non-negative number\"\u001b[0m\u001b[1;33m)\u001b[0m\u001b[1;33m\u001b[0m\u001b[0m\n",
      "\u001b[1;32m~\\Anaconda3\\lib\\threading.py\u001b[0m in \u001b[0;36mwait\u001b[1;34m(self, timeout)\u001b[0m\n\u001b[0;32m    293\u001b[0m         \u001b[1;32mtry\u001b[0m\u001b[1;33m:\u001b[0m    \u001b[1;31m# restore state no matter what (e.g., KeyboardInterrupt)\u001b[0m\u001b[1;33m\u001b[0m\u001b[0m\n\u001b[0;32m    294\u001b[0m             \u001b[1;32mif\u001b[0m \u001b[0mtimeout\u001b[0m \u001b[1;32mis\u001b[0m \u001b[1;32mNone\u001b[0m\u001b[1;33m:\u001b[0m\u001b[1;33m\u001b[0m\u001b[0m\n\u001b[1;32m--> 295\u001b[1;33m                 \u001b[0mwaiter\u001b[0m\u001b[1;33m.\u001b[0m\u001b[0macquire\u001b[0m\u001b[1;33m(\u001b[0m\u001b[1;33m)\u001b[0m\u001b[1;33m\u001b[0m\u001b[0m\n\u001b[0m\u001b[0;32m    296\u001b[0m                 \u001b[0mgotit\u001b[0m \u001b[1;33m=\u001b[0m \u001b[1;32mTrue\u001b[0m\u001b[1;33m\u001b[0m\u001b[0m\n\u001b[0;32m    297\u001b[0m             \u001b[1;32melse\u001b[0m\u001b[1;33m:\u001b[0m\u001b[1;33m\u001b[0m\u001b[0m\n",
      "\u001b[1;31mKeyboardInterrupt\u001b[0m: "
     ]
    }
   ],
   "source": [
    "sentences = data_normalized\n",
    "model = gensim.models.Word2Vec(sentences, min_count=1)"
   ]
  },
  {
   "cell_type": "code",
   "execution_count": 130,
   "metadata": {
    "ExecuteTime": {
     "end_time": "2019-04-14T15:11:25.147119Z",
     "start_time": "2019-04-14T15:11:06.040313Z"
    },
    "collapsed": true
   },
   "outputs": [
    {
     "name": "stderr",
     "output_type": "stream",
     "text": [
      "2019-04-18 19:57:34,841 : INFO : collecting all words and their counts\n",
      "2019-04-18 19:57:34,844 : INFO : PROGRESS: at sentence #0, processed 0 words, keeping 0 word types\n",
      "2019-04-18 19:57:35,039 : INFO : collected 24142 word types from a corpus of 467827 raw words and 1777 sentences\n",
      "2019-04-18 19:57:35,042 : INFO : Loading a fresh vocabulary\n",
      "2019-04-18 19:57:35,106 : INFO : effective_min_count=5 retains 6776 unique words (28% of original 24142, drops 17366)\n",
      "2019-04-18 19:57:35,109 : INFO : effective_min_count=5 leaves 438436 word corpus (93% of original 467827, drops 29391)\n",
      "2019-04-18 19:57:35,176 : INFO : deleting the raw counts dictionary of 24142 items\n",
      "2019-04-18 19:57:35,180 : INFO : sample=0.001 downsamples 49 most-common words\n",
      "2019-04-18 19:57:35,183 : INFO : downsampling leaves estimated 336285 word corpus (76.7% of prior 438436)\n",
      "2019-04-18 19:57:35,251 : INFO : estimated required memory for 6776 words and 100 dimensions: 8808800 bytes\n",
      "2019-04-18 19:57:35,257 : INFO : resetting layer weights\n",
      "2019-04-18 19:57:35,435 : INFO : training model with 3 workers on 6776 vocabulary and 100 features, using sg=0 hs=0 sample=0.001 negative=5 window=5\n",
      "2019-04-18 19:57:47,524 : INFO : EPOCH 1 - PROGRESS: at 1.97% examples, 463 words/s, in_qsize 6, out_qsize 0\n",
      "2019-04-18 19:57:50,289 : INFO : EPOCH 1 - PROGRESS: at 3.26% examples, 840 words/s, in_qsize 6, out_qsize 0\n",
      "2019-04-18 19:58:02,264 : INFO : EPOCH 1 - PROGRESS: at 8.10% examples, 978 words/s, in_qsize 5, out_qsize 0\n",
      "2019-04-18 19:58:05,524 : INFO : EPOCH 1 - PROGRESS: at 9.90% examples, 1102 words/s, in_qsize 6, out_qsize 0\n",
      "2019-04-18 19:58:17,418 : INFO : EPOCH 1 - PROGRESS: at 13.17% examples, 1122 words/s, in_qsize 5, out_qsize 0\n",
      "2019-04-18 19:58:20,659 : INFO : EPOCH 1 - PROGRESS: at 15.53% examples, 1201 words/s, in_qsize 5, out_qsize 0\n",
      "2019-04-18 19:58:21,693 : INFO : EPOCH 1 - PROGRESS: at 17.39% examples, 1326 words/s, in_qsize 5, out_qsize 0\n",
      "2019-04-18 19:58:32,879 : INFO : EPOCH 1 - PROGRESS: at 19.86% examples, 1191 words/s, in_qsize 5, out_qsize 0\n",
      "2019-04-18 19:58:35,735 : INFO : EPOCH 1 - PROGRESS: at 21.78% examples, 1242 words/s, in_qsize 5, out_qsize 0\n",
      "2019-04-18 19:58:47,863 : INFO : EPOCH 1 - PROGRESS: at 25.44% examples, 1228 words/s, in_qsize 5, out_qsize 0\n",
      "2019-04-18 19:58:50,583 : INFO : EPOCH 1 - PROGRESS: at 27.86% examples, 1276 words/s, in_qsize 5, out_qsize 0\n",
      "2019-04-18 19:59:03,724 : INFO : EPOCH 1 - PROGRESS: at 32.81% examples, 1247 words/s, in_qsize 5, out_qsize 0\n",
      "2019-04-18 19:59:06,794 : INFO : EPOCH 1 - PROGRESS: at 34.72% examples, 1280 words/s, in_qsize 5, out_qsize 0\n",
      "2019-04-18 19:59:08,357 : INFO : EPOCH 1 - PROGRESS: at 36.52% examples, 1332 words/s, in_qsize 6, out_qsize 0\n",
      "2019-04-18 19:59:22,602 : INFO : EPOCH 1 - PROGRESS: at 38.38% examples, 1219 words/s, in_qsize 5, out_qsize 0\n",
      "2019-04-18 19:59:27,289 : INFO : EPOCH 1 - PROGRESS: at 40.52% examples, 1233 words/s, in_qsize 5, out_qsize 0\n",
      "2019-04-18 19:59:28,774 : INFO : EPOCH 1 - PROGRESS: at 42.77% examples, 1280 words/s, in_qsize 5, out_qsize 0\n",
      "2019-04-18 19:59:38,873 : INFO : EPOCH 1 - PROGRESS: at 44.46% examples, 1230 words/s, in_qsize 6, out_qsize 0\n",
      "2019-04-18 19:59:43,133 : INFO : EPOCH 1 - PROGRESS: at 46.54% examples, 1244 words/s, in_qsize 5, out_qsize 0\n",
      "2019-04-18 19:59:44,405 : INFO : EPOCH 1 - PROGRESS: at 49.47% examples, 1286 words/s, in_qsize 6, out_qsize 0\n",
      "2019-04-18 19:59:57,880 : INFO : EPOCH 1 - PROGRESS: at 51.72% examples, 1215 words/s, in_qsize 5, out_qsize 0\n",
      "2019-04-18 20:00:03,011 : INFO : EPOCH 1 - PROGRESS: at 53.85% examples, 1222 words/s, in_qsize 5, out_qsize 0\n",
      "2019-04-18 20:00:04,221 : INFO : EPOCH 1 - PROGRESS: at 56.22% examples, 1260 words/s, in_qsize 6, out_qsize 0\n",
      "2019-04-18 20:00:17,545 : INFO : EPOCH 1 - PROGRESS: at 58.24% examples, 1200 words/s, in_qsize 5, out_qsize 0\n",
      "2019-04-18 20:00:21,108 : INFO : EPOCH 1 - PROGRESS: at 60.61% examples, 1215 words/s, in_qsize 5, out_qsize 0\n",
      "2019-04-18 20:00:23,280 : INFO : EPOCH 1 - PROGRESS: at 62.58% examples, 1241 words/s, in_qsize 5, out_qsize 0\n",
      "2019-04-18 20:00:36,976 : INFO : EPOCH 1 - PROGRESS: at 63.82% examples, 1188 words/s, in_qsize 6, out_qsize 0\n",
      "2019-04-18 20:00:39,544 : INFO : EPOCH 1 - PROGRESS: at 65.90% examples, 1209 words/s, in_qsize 6, out_qsize 0\n",
      "2019-04-18 20:00:41,376 : INFO : EPOCH 1 - PROGRESS: at 66.63% examples, 1206 words/s, in_qsize 5, out_qsize 0\n",
      "2019-04-18 20:00:42,757 : INFO : EPOCH 1 - PROGRESS: at 67.53% examples, 1236 words/s, in_qsize 5, out_qsize 0\n",
      "2019-04-18 20:00:59,009 : INFO : EPOCH 1 - PROGRESS: at 67.75% examples, 1174 words/s, in_qsize 5, out_qsize 0\n",
      "2019-04-18 20:01:00,268 : INFO : EPOCH 1 - PROGRESS: at 70.12% examples, 1200 words/s, in_qsize 5, out_qsize 0\n",
      "2019-04-18 20:01:01,626 : INFO : EPOCH 1 - PROGRESS: at 72.71% examples, 1226 words/s, in_qsize 5, out_qsize 0\n",
      "2019-04-18 20:01:18,306 : INFO : EPOCH 1 - PROGRESS: at 75.35% examples, 1166 words/s, in_qsize 6, out_qsize 0\n",
      "2019-04-18 20:01:22,023 : INFO : EPOCH 1 - PROGRESS: at 80.42% examples, 1210 words/s, in_qsize 5, out_qsize 0\n",
      "2019-04-18 20:01:40,689 : INFO : EPOCH 1 - PROGRESS: at 83.06% examples, 1145 words/s, in_qsize 5, out_qsize 0\n",
      "2019-04-18 20:01:43,039 : INFO : EPOCH 1 - PROGRESS: at 85.37% examples, 1163 words/s, in_qsize 5, out_qsize 0\n",
      "2019-04-18 20:02:03,466 : INFO : EPOCH 1 - PROGRESS: at 89.36% examples, 1126 words/s, in_qsize 5, out_qsize 0\n",
      "2019-04-18 20:02:05,344 : INFO : EPOCH 1 - PROGRESS: at 91.67% examples, 1143 words/s, in_qsize 5, out_qsize 0\n",
      "2019-04-18 20:02:20,091 : INFO : EPOCH 1 - PROGRESS: at 95.72% examples, 1132 words/s, in_qsize 3, out_qsize 0\n",
      "2019-04-18 20:02:21,416 : INFO : EPOCH 1 - PROGRESS: at 95.89% examples, 1128 words/s, in_qsize 2, out_qsize 1\n",
      "2019-04-18 20:02:21,424 : INFO : worker thread finished; awaiting finish of 2 more threads\n",
      "2019-04-18 20:02:23,102 : INFO : EPOCH 1 - PROGRESS: at 97.86% examples, 1146 words/s, in_qsize 1, out_qsize 1\n",
      "2019-04-18 20:02:23,106 : INFO : worker thread finished; awaiting finish of 1 more threads\n",
      "2019-04-18 20:02:23,635 : INFO : worker thread finished; awaiting finish of 0 more threads\n",
      "2019-04-18 20:02:23,638 : INFO : EPOCH - 1 : training on 467827 raw words (336815 effective words) took 288.2s, 1169 effective words/s\n",
      "2019-04-18 20:02:39,936 : INFO : EPOCH 2 - PROGRESS: at 1.97% examples, 341 words/s, in_qsize 6, out_qsize 0\n",
      "2019-04-18 20:02:43,413 : INFO : EPOCH 2 - PROGRESS: at 4.67% examples, 635 words/s, in_qsize 6, out_qsize 0\n",
      "2019-04-18 20:02:57,594 : INFO : EPOCH 2 - PROGRESS: at 8.10% examples, 767 words/s, in_qsize 5, out_qsize 0\n",
      "2019-04-18 20:03:01,590 : INFO : EPOCH 2 - PROGRESS: at 9.90% examples, 868 words/s, in_qsize 5, out_qsize 0\n",
      "2019-04-18 20:03:16,098 : INFO : EPOCH 2 - PROGRESS: at 13.17% examples, 893 words/s, in_qsize 6, out_qsize 0\n",
      "2019-04-18 20:03:20,353 : INFO : EPOCH 2 - PROGRESS: at 15.03% examples, 949 words/s, in_qsize 5, out_qsize 0\n",
      "2019-04-18 20:03:35,922 : INFO : EPOCH 2 - PROGRESS: at 19.86% examples, 943 words/s, in_qsize 5, out_qsize 0\n",
      "2019-04-18 20:03:39,128 : INFO : EPOCH 2 - PROGRESS: at 21.78% examples, 987 words/s, in_qsize 6, out_qsize 0\n",
      "2019-04-18 20:03:58,220 : INFO : EPOCH 2 - PROGRESS: at 25.44% examples, 936 words/s, in_qsize 5, out_qsize 0\n",
      "2019-04-18 20:04:01,975 : INFO : EPOCH 2 - PROGRESS: at 27.86% examples, 971 words/s, in_qsize 5, out_qsize 0\n",
      "2019-04-18 20:04:03,698 : INFO : EPOCH 2 - PROGRESS: at 30.56% examples, 1028 words/s, in_qsize 5, out_qsize 0\n",
      "2019-04-18 20:04:21,622 : INFO : EPOCH 2 - PROGRESS: at 32.81% examples, 930 words/s, in_qsize 5, out_qsize 0\n",
      "2019-04-18 20:04:24,184 : INFO : EPOCH 2 - PROGRESS: at 34.72% examples, 967 words/s, in_qsize 6, out_qsize 0\n",
      "2019-04-18 20:04:25,337 : INFO : EPOCH 2 - PROGRESS: at 36.52% examples, 1014 words/s, in_qsize 5, out_qsize 0\n",
      "2019-04-18 20:04:39,412 : INFO : EPOCH 2 - PROGRESS: at 38.38% examples, 959 words/s, in_qsize 6, out_qsize 0\n",
      "2019-04-18 20:04:43,509 : INFO : EPOCH 2 - PROGRESS: at 40.52% examples, 983 words/s, in_qsize 5, out_qsize 0\n",
      "2019-04-18 20:04:57,143 : INFO : EPOCH 2 - PROGRESS: at 44.46% examples, 986 words/s, in_qsize 5, out_qsize 0\n",
      "2019-04-18 20:05:01,880 : INFO : EPOCH 2 - PROGRESS: at 46.54% examples, 1001 words/s, in_qsize 5, out_qsize 0\n",
      "2019-04-18 20:05:02,959 : INFO : EPOCH 2 - PROGRESS: at 49.47% examples, 1038 words/s, in_qsize 6, out_qsize 0\n",
      "2019-04-18 20:05:16,984 : INFO : EPOCH 2 - PROGRESS: at 51.72% examples, 996 words/s, in_qsize 6, out_qsize 0\n",
      "2019-04-18 20:05:21,088 : INFO : EPOCH 2 - PROGRESS: at 53.85% examples, 1013 words/s, in_qsize 5, out_qsize 0\n",
      "2019-04-18 20:05:22,111 : INFO : EPOCH 2 - PROGRESS: at 56.22% examples, 1047 words/s, in_qsize 5, out_qsize 0\n",
      "2019-04-18 20:05:35,066 : INFO : EPOCH 2 - PROGRESS: at 58.24% examples, 1014 words/s, in_qsize 5, out_qsize 0\n",
      "2019-04-18 20:05:38,059 : INFO : EPOCH 2 - PROGRESS: at 60.61% examples, 1033 words/s, in_qsize 5, out_qsize 0\n",
      "2019-04-18 20:05:39,964 : INFO : EPOCH 2 - PROGRESS: at 62.58% examples, 1059 words/s, in_qsize 6, out_qsize 0\n",
      "2019-04-18 20:05:53,646 : INFO : EPOCH 2 - PROGRESS: at 63.82% examples, 1024 words/s, in_qsize 5, out_qsize 0\n",
      "2019-04-18 20:05:56,412 : INFO : EPOCH 2 - PROGRESS: at 65.90% examples, 1044 words/s, in_qsize 6, out_qsize 0\n",
      "2019-04-18 20:05:59,155 : INFO : EPOCH 2 - PROGRESS: at 66.63% examples, 1038 words/s, in_qsize 6, out_qsize 0\n",
      "2019-04-18 20:06:21,405 : INFO : EPOCH 2 - PROGRESS: at 67.75% examples, 1003 words/s, in_qsize 6, out_qsize 0\n",
      "2019-04-18 20:06:23,670 : INFO : EPOCH 2 - PROGRESS: at 70.12% examples, 1023 words/s, in_qsize 5, out_qsize 0\n",
      "2019-04-18 20:06:43,655 : INFO : EPOCH 2 - PROGRESS: at 75.35% examples, 998 words/s, in_qsize 6, out_qsize 0\n",
      "2019-04-18 20:06:45,188 : INFO : EPOCH 2 - PROGRESS: at 78.11% examples, 1018 words/s, in_qsize 6, out_qsize 0\n",
      "2019-04-18 20:06:47,002 : INFO : EPOCH 2 - PROGRESS: at 80.42% examples, 1039 words/s, in_qsize 5, out_qsize 0\n",
      "2019-04-18 20:07:01,474 : INFO : EPOCH 2 - PROGRESS: at 83.06% examples, 1009 words/s, in_qsize 6, out_qsize 0\n",
      "2019-04-18 20:07:03,943 : INFO : EPOCH 2 - PROGRESS: at 85.37% examples, 1026 words/s, in_qsize 5, out_qsize 0\n",
      "2019-04-18 20:07:20,936 : INFO : EPOCH 2 - PROGRESS: at 89.36% examples, 1013 words/s, in_qsize 6, out_qsize 0\n",
      "2019-04-18 20:07:22,551 : INFO : EPOCH 2 - PROGRESS: at 91.67% examples, 1030 words/s, in_qsize 5, out_qsize 0\n",
      "2019-04-18 20:07:23,632 : INFO : EPOCH 2 - PROGRESS: at 93.87% examples, 1051 words/s, in_qsize 4, out_qsize 0\n",
      "2019-04-18 20:07:38,080 : INFO : EPOCH 2 - PROGRESS: at 95.72% examples, 1022 words/s, in_qsize 3, out_qsize 0\n",
      "2019-04-18 20:07:39,685 : INFO : EPOCH 2 - PROGRESS: at 95.89% examples, 1019 words/s, in_qsize 2, out_qsize 1\n",
      "2019-04-18 20:07:39,693 : INFO : worker thread finished; awaiting finish of 2 more threads\n",
      "2019-04-18 20:07:41,689 : INFO : EPOCH 2 - PROGRESS: at 97.86% examples, 1034 words/s, in_qsize 1, out_qsize 1\n",
      "2019-04-18 20:07:41,700 : INFO : worker thread finished; awaiting finish of 1 more threads\n",
      "2019-04-18 20:07:42,070 : INFO : worker thread finished; awaiting finish of 0 more threads\n",
      "2019-04-18 20:07:42,076 : INFO : EPOCH - 2 : training on 467827 raw words (336178 effective words) took 318.4s, 1056 effective words/s\n",
      "2019-04-18 20:07:56,904 : INFO : EPOCH 3 - PROGRESS: at 1.97% examples, 375 words/s, in_qsize 5, out_qsize 0\n",
      "2019-04-18 20:08:00,051 : INFO : EPOCH 3 - PROGRESS: at 4.67% examples, 696 words/s, in_qsize 5, out_qsize 0\n",
      "2019-04-18 20:08:15,068 : INFO : EPOCH 3 - PROGRESS: at 8.10% examples, 790 words/s, in_qsize 6, out_qsize 0\n",
      "2019-04-18 20:08:19,391 : INFO : EPOCH 3 - PROGRESS: at 9.90% examples, 884 words/s, in_qsize 6, out_qsize 0\n",
      "2019-04-18 20:08:36,542 : INFO : EPOCH 3 - PROGRESS: at 13.17% examples, 862 words/s, in_qsize 5, out_qsize 0\n",
      "2019-04-18 20:08:42,791 : INFO : EPOCH 3 - PROGRESS: at 15.53% examples, 892 words/s, in_qsize 5, out_qsize 0\n",
      "2019-04-18 20:08:59,830 : INFO : EPOCH 3 - PROGRESS: at 19.86% examples, 877 words/s, in_qsize 5, out_qsize 0\n",
      "2019-04-18 20:09:03,839 : INFO : EPOCH 3 - PROGRESS: at 21.78% examples, 913 words/s, in_qsize 5, out_qsize 0\n",
      "2019-04-18 20:09:04,892 : INFO : EPOCH 3 - PROGRESS: at 23.30% examples, 985 words/s, in_qsize 6, out_qsize 0\n",
      "2019-04-18 20:09:19,537 : INFO : EPOCH 3 - PROGRESS: at 25.44% examples, 910 words/s, in_qsize 5, out_qsize 0\n",
      "2019-04-18 20:09:23,170 : INFO : EPOCH 3 - PROGRESS: at 27.86% examples, 946 words/s, in_qsize 6, out_qsize 0\n",
      "2019-04-18 20:09:38,103 : INFO : EPOCH 3 - PROGRESS: at 32.81% examples, 946 words/s, in_qsize 6, out_qsize 0\n",
      "2019-04-18 20:09:40,751 : INFO : EPOCH 3 - PROGRESS: at 34.72% examples, 983 words/s, in_qsize 5, out_qsize 0\n",
      "2019-04-18 20:09:41,930 : INFO : EPOCH 3 - PROGRESS: at 36.52% examples, 1030 words/s, in_qsize 5, out_qsize 0\n",
      "2019-04-18 20:09:54,715 : INFO : EPOCH 3 - PROGRESS: at 38.38% examples, 982 words/s, in_qsize 5, out_qsize 0\n",
      "2019-04-18 20:09:58,684 : INFO : EPOCH 3 - PROGRESS: at 40.52% examples, 1007 words/s, in_qsize 6, out_qsize 0\n",
      "2019-04-18 20:10:13,464 : INFO : EPOCH 3 - PROGRESS: at 44.46% examples, 1001 words/s, in_qsize 5, out_qsize 0\n",
      "2019-04-18 20:10:17,561 : INFO : EPOCH 3 - PROGRESS: at 46.54% examples, 1019 words/s, in_qsize 6, out_qsize 0\n",
      "2019-04-18 20:10:19,203 : INFO : EPOCH 3 - PROGRESS: at 49.47% examples, 1053 words/s, in_qsize 5, out_qsize 0\n",
      "2019-04-18 20:10:33,643 : INFO : EPOCH 3 - PROGRESS: at 51.72% examples, 1007 words/s, in_qsize 6, out_qsize 0\n",
      "2019-04-18 20:10:37,947 : INFO : EPOCH 3 - PROGRESS: at 53.85% examples, 1023 words/s, in_qsize 5, out_qsize 0\n",
      "2019-04-18 20:10:39,466 : INFO : EPOCH 3 - PROGRESS: at 56.22% examples, 1055 words/s, in_qsize 5, out_qsize 0\n",
      "2019-04-18 20:10:56,538 : INFO : EPOCH 3 - PROGRESS: at 58.24% examples, 999 words/s, in_qsize 6, out_qsize 0\n",
      "2019-04-18 20:11:01,594 : INFO : EPOCH 3 - PROGRESS: at 60.61% examples, 1007 words/s, in_qsize 5, out_qsize 0\n",
      "2019-04-18 20:11:04,041 : INFO : EPOCH 3 - PROGRESS: at 62.58% examples, 1030 words/s, in_qsize 6, out_qsize 0\n",
      "2019-04-18 20:11:20,771 : INFO : EPOCH 3 - PROGRESS: at 63.82% examples, 984 words/s, in_qsize 5, out_qsize 0\n",
      "2019-04-18 20:11:23,662 : INFO : EPOCH 3 - PROGRESS: at 65.90% examples, 1003 words/s, in_qsize 6, out_qsize 0\n",
      "2019-04-18 20:11:25,195 : INFO : EPOCH 3 - PROGRESS: at 66.63% examples, 1003 words/s, in_qsize 5, out_qsize 0\n",
      "2019-04-18 20:11:26,640 : INFO : EPOCH 3 - PROGRESS: at 67.53% examples, 1030 words/s, in_qsize 6, out_qsize 0\n",
      "2019-04-18 20:11:42,618 : INFO : EPOCH 3 - PROGRESS: at 67.75% examples, 992 words/s, in_qsize 6, out_qsize 0\n",
      "2019-04-18 20:11:43,732 : INFO : EPOCH 3 - PROGRESS: at 70.12% examples, 1016 words/s, in_qsize 6, out_qsize 0\n",
      "2019-04-18 20:12:02,477 : INFO : EPOCH 3 - PROGRESS: at 75.35% examples, 996 words/s, in_qsize 5, out_qsize 0\n",
      "2019-04-18 20:12:04,180 : INFO : EPOCH 3 - PROGRESS: at 78.11% examples, 1017 words/s, in_qsize 5, out_qsize 0\n",
      "2019-04-18 20:12:06,368 : INFO : EPOCH 3 - PROGRESS: at 80.42% examples, 1036 words/s, in_qsize 5, out_qsize 0\n",
      "2019-04-18 20:12:22,284 : INFO : EPOCH 3 - PROGRESS: at 83.06% examples, 1001 words/s, in_qsize 6, out_qsize 0\n",
      "2019-04-18 20:12:25,336 : INFO : EPOCH 3 - PROGRESS: at 84.64% examples, 1014 words/s, in_qsize 6, out_qsize 0\n",
      "2019-04-18 20:12:42,972 : INFO : EPOCH 3 - PROGRESS: at 89.36% examples, 1002 words/s, in_qsize 6, out_qsize 0\n",
      "2019-04-18 20:12:44,979 : INFO : EPOCH 3 - PROGRESS: at 91.67% examples, 1018 words/s, in_qsize 5, out_qsize 0\n",
      "2019-04-18 20:12:57,754 : INFO : EPOCH 3 - PROGRESS: at 95.72% examples, 1019 words/s, in_qsize 3, out_qsize 0\n",
      "2019-04-18 20:12:59,064 : INFO : EPOCH 3 - PROGRESS: at 95.89% examples, 1017 words/s, in_qsize 2, out_qsize 1\n",
      "2019-04-18 20:12:59,085 : INFO : worker thread finished; awaiting finish of 2 more threads\n",
      "2019-04-18 20:13:01,055 : INFO : EPOCH 3 - PROGRESS: at 97.86% examples, 1032 words/s, in_qsize 1, out_qsize 1\n",
      "2019-04-18 20:13:01,063 : INFO : worker thread finished; awaiting finish of 1 more threads\n",
      "2019-04-18 20:13:01,401 : INFO : worker thread finished; awaiting finish of 0 more threads\n",
      "2019-04-18 20:13:01,403 : INFO : EPOCH - 3 : training on 467827 raw words (336505 effective words) took 319.3s, 1054 effective words/s\n",
      "2019-04-18 20:13:17,262 : INFO : EPOCH 4 - PROGRESS: at 1.97% examples, 352 words/s, in_qsize 6, out_qsize 0\n"
     ]
    },
    {
     "name": "stderr",
     "output_type": "stream",
     "text": [
      "2019-04-18 20:13:21,402 : INFO : EPOCH 4 - PROGRESS: at 3.26% examples, 622 words/s, in_qsize 6, out_qsize 0\n",
      "2019-04-18 20:13:35,209 : INFO : EPOCH 4 - PROGRESS: at 8.10% examples, 774 words/s, in_qsize 5, out_qsize 0\n",
      "2019-04-18 20:13:39,309 : INFO : EPOCH 4 - PROGRESS: at 9.90% examples, 872 words/s, in_qsize 6, out_qsize 0\n",
      "2019-04-18 20:13:50,764 : INFO : EPOCH 4 - PROGRESS: at 13.17% examples, 952 words/s, in_qsize 5, out_qsize 0\n",
      "2019-04-18 20:13:55,729 : INFO : EPOCH 4 - PROGRESS: at 15.03% examples, 993 words/s, in_qsize 5, out_qsize 0\n",
      "2019-04-18 20:14:08,824 : INFO : EPOCH 4 - PROGRESS: at 19.86% examples, 1013 words/s, in_qsize 6, out_qsize 0\n",
      "2019-04-18 20:14:12,525 : INFO : EPOCH 4 - PROGRESS: at 21.78% examples, 1051 words/s, in_qsize 5, out_qsize 0\n",
      "2019-04-18 20:14:26,575 : INFO : EPOCH 4 - PROGRESS: at 25.44% examples, 1043 words/s, in_qsize 5, out_qsize 0\n",
      "2019-04-18 20:14:30,547 : INFO : EPOCH 4 - PROGRESS: at 27.86% examples, 1074 words/s, in_qsize 5, out_qsize 0\n",
      "2019-04-18 20:14:45,317 : INFO : EPOCH 4 - PROGRESS: at 32.81% examples, 1057 words/s, in_qsize 5, out_qsize 0\n",
      "2019-04-18 20:14:49,055 : INFO : EPOCH 4 - PROGRESS: at 34.72% examples, 1083 words/s, in_qsize 5, out_qsize 0\n",
      "2019-04-18 20:15:00,934 : INFO : EPOCH 4 - PROGRESS: at 38.38% examples, 1090 words/s, in_qsize 5, out_qsize 0\n",
      "2019-04-18 20:15:04,495 : INFO : EPOCH 4 - PROGRESS: at 40.52% examples, 1119 words/s, in_qsize 5, out_qsize 0\n",
      "2019-04-18 20:15:16,828 : INFO : EPOCH 4 - PROGRESS: at 44.46% examples, 1119 words/s, in_qsize 5, out_qsize 0\n",
      "2019-04-18 20:15:20,945 : INFO : EPOCH 4 - PROGRESS: at 46.54% examples, 1136 words/s, in_qsize 6, out_qsize 0\n",
      "2019-04-18 20:15:22,072 : INFO : EPOCH 4 - PROGRESS: at 49.47% examples, 1177 words/s, in_qsize 5, out_qsize 0\n",
      "2019-04-18 20:15:38,478 : INFO : EPOCH 4 - PROGRESS: at 51.72% examples, 1100 words/s, in_qsize 6, out_qsize 0\n",
      "2019-04-18 20:15:44,959 : INFO : EPOCH 4 - PROGRESS: at 53.85% examples, 1100 words/s, in_qsize 5, out_qsize 0\n",
      "2019-04-18 20:15:46,235 : INFO : EPOCH 4 - PROGRESS: at 56.22% examples, 1135 words/s, in_qsize 6, out_qsize 0\n",
      "2019-04-18 20:16:01,542 : INFO : EPOCH 4 - PROGRESS: at 58.24% examples, 1078 words/s, in_qsize 6, out_qsize 0\n",
      "2019-04-18 20:16:04,782 : INFO : EPOCH 4 - PROGRESS: at 60.61% examples, 1096 words/s, in_qsize 6, out_qsize 0\n",
      "2019-04-18 20:16:06,409 : INFO : EPOCH 4 - PROGRESS: at 62.58% examples, 1125 words/s, in_qsize 5, out_qsize 0\n",
      "2019-04-18 20:16:19,422 : INFO : EPOCH 4 - PROGRESS: at 63.82% examples, 1088 words/s, in_qsize 5, out_qsize 0\n",
      "2019-04-18 20:16:21,641 : INFO : EPOCH 4 - PROGRESS: at 65.90% examples, 1110 words/s, in_qsize 5, out_qsize 0\n",
      "2019-04-18 20:16:23,479 : INFO : EPOCH 4 - PROGRESS: at 66.63% examples, 1108 words/s, in_qsize 6, out_qsize 0\n",
      "2019-04-18 20:16:25,076 : INFO : EPOCH 4 - PROGRESS: at 67.53% examples, 1136 words/s, in_qsize 5, out_qsize 0\n",
      "2019-04-18 20:16:38,692 : INFO : EPOCH 4 - PROGRESS: at 67.75% examples, 1098 words/s, in_qsize 6, out_qsize 0\n",
      "2019-04-18 20:16:40,142 : INFO : EPOCH 4 - PROGRESS: at 70.12% examples, 1123 words/s, in_qsize 6, out_qsize 0\n",
      "2019-04-18 20:16:41,278 : INFO : EPOCH 4 - PROGRESS: at 72.71% examples, 1149 words/s, in_qsize 5, out_qsize 0\n",
      "2019-04-18 20:16:53,170 : INFO : EPOCH 4 - PROGRESS: at 75.35% examples, 1120 words/s, in_qsize 6, out_qsize 0\n",
      "2019-04-18 20:16:54,817 : INFO : EPOCH 4 - PROGRESS: at 78.11% examples, 1142 words/s, in_qsize 5, out_qsize 0\n",
      "2019-04-18 20:16:56,230 : INFO : EPOCH 4 - PROGRESS: at 80.42% examples, 1166 words/s, in_qsize 6, out_qsize 0\n",
      "2019-04-18 20:17:07,892 : INFO : EPOCH 4 - PROGRESS: at 83.06% examples, 1138 words/s, in_qsize 6, out_qsize 0\n",
      "2019-04-18 20:17:10,215 : INFO : EPOCH 4 - PROGRESS: at 84.64% examples, 1154 words/s, in_qsize 5, out_qsize 0\n",
      "2019-04-18 20:17:24,026 : INFO : EPOCH 4 - PROGRESS: at 89.36% examples, 1148 words/s, in_qsize 5, out_qsize 0\n",
      "2019-04-18 20:17:26,196 : INFO : EPOCH 4 - PROGRESS: at 91.67% examples, 1164 words/s, in_qsize 5, out_qsize 0\n",
      "2019-04-18 20:17:37,919 : INFO : EPOCH 4 - PROGRESS: at 95.72% examples, 1163 words/s, in_qsize 3, out_qsize 0\n",
      "2019-04-18 20:17:39,064 : INFO : EPOCH 4 - PROGRESS: at 95.89% examples, 1160 words/s, in_qsize 2, out_qsize 1\n",
      "2019-04-18 20:17:39,078 : INFO : worker thread finished; awaiting finish of 2 more threads\n",
      "2019-04-18 20:17:40,790 : INFO : EPOCH 4 - PROGRESS: at 97.86% examples, 1178 words/s, in_qsize 1, out_qsize 1\n",
      "2019-04-18 20:17:40,794 : INFO : worker thread finished; awaiting finish of 1 more threads\n",
      "2019-04-18 20:17:41,044 : INFO : worker thread finished; awaiting finish of 0 more threads\n",
      "2019-04-18 20:17:41,047 : INFO : EPOCH - 4 : training on 467827 raw words (336380 effective words) took 279.6s, 1203 effective words/s\n",
      "2019-04-18 20:17:55,947 : INFO : EPOCH 5 - PROGRESS: at 1.97% examples, 370 words/s, in_qsize 5, out_qsize 0\n",
      "2019-04-18 20:17:59,675 : INFO : EPOCH 5 - PROGRESS: at 4.67% examples, 669 words/s, in_qsize 5, out_qsize 0\n",
      "2019-04-18 20:18:14,215 : INFO : EPOCH 5 - PROGRESS: at 8.10% examples, 786 words/s, in_qsize 5, out_qsize 0\n",
      "2019-04-18 20:18:17,015 : INFO : EPOCH 5 - PROGRESS: at 9.90% examples, 916 words/s, in_qsize 6, out_qsize 0\n",
      "2019-04-18 20:18:28,408 : INFO : EPOCH 5 - PROGRESS: at 13.17% examples, 989 words/s, in_qsize 5, out_qsize 0\n",
      "2019-04-18 20:18:32,125 : INFO : EPOCH 5 - PROGRESS: at 15.53% examples, 1058 words/s, in_qsize 6, out_qsize 0\n",
      "2019-04-18 20:18:48,687 : INFO : EPOCH 5 - PROGRESS: at 19.86% examples, 1005 words/s, in_qsize 5, out_qsize 0\n",
      "2019-04-18 20:18:51,578 : INFO : EPOCH 5 - PROGRESS: at 21.78% examples, 1055 words/s, in_qsize 5, out_qsize 0\n",
      "2019-04-18 20:18:53,548 : INFO : EPOCH 5 - PROGRESS: at 23.30% examples, 1122 words/s, in_qsize 5, out_qsize 0\n",
      "2019-04-18 20:19:08,315 : INFO : EPOCH 5 - PROGRESS: at 25.44% examples, 1014 words/s, in_qsize 5, out_qsize 0\n",
      "2019-04-18 20:19:11,596 : INFO : EPOCH 5 - PROGRESS: at 28.14% examples, 1058 words/s, in_qsize 5, out_qsize 0\n",
      "2019-04-18 20:19:25,579 : INFO : EPOCH 5 - PROGRESS: at 32.81% examples, 1048 words/s, in_qsize 5, out_qsize 0\n",
      "2019-04-18 20:19:28,576 : INFO : EPOCH 5 - PROGRESS: at 34.72% examples, 1082 words/s, in_qsize 5, out_qsize 0\n",
      "2019-04-18 20:19:43,114 : INFO : EPOCH 5 - PROGRESS: at 38.38% examples, 1065 words/s, in_qsize 6, out_qsize 0\n",
      "2019-04-18 20:19:46,407 : INFO : EPOCH 5 - PROGRESS: at 40.52% examples, 1095 words/s, in_qsize 6, out_qsize 0\n",
      "2019-04-18 20:20:03,053 : INFO : EPOCH 5 - PROGRESS: at 44.46% examples, 1065 words/s, in_qsize 5, out_qsize 0\n",
      "2019-04-18 20:20:07,571 : INFO : EPOCH 5 - PROGRESS: at 46.54% examples, 1079 words/s, in_qsize 6, out_qsize 0\n",
      "2019-04-18 20:20:09,099 : INFO : EPOCH 5 - PROGRESS: at 49.47% examples, 1116 words/s, in_qsize 6, out_qsize 0\n",
      "2019-04-18 20:20:24,993 : INFO : EPOCH 5 - PROGRESS: at 51.72% examples, 1052 words/s, in_qsize 5, out_qsize 0\n",
      "2019-04-18 20:20:30,076 : INFO : EPOCH 5 - PROGRESS: at 53.85% examples, 1063 words/s, in_qsize 6, out_qsize 0\n",
      "2019-04-18 20:20:31,307 : INFO : EPOCH 5 - PROGRESS: at 56.22% examples, 1097 words/s, in_qsize 5, out_qsize 0\n",
      "2019-04-18 20:20:42,446 : INFO : EPOCH 5 - PROGRESS: at 58.24% examples, 1069 words/s, in_qsize 6, out_qsize 0\n",
      "2019-04-18 20:20:44,936 : INFO : EPOCH 5 - PROGRESS: at 60.61% examples, 1091 words/s, in_qsize 6, out_qsize 0\n",
      "2019-04-18 20:20:46,575 : INFO : EPOCH 5 - PROGRESS: at 62.58% examples, 1119 words/s, in_qsize 6, out_qsize 0\n",
      "2019-04-18 20:20:57,219 : INFO : EPOCH 5 - PROGRESS: at 63.82% examples, 1096 words/s, in_qsize 5, out_qsize 0\n",
      "2019-04-18 20:20:59,191 : INFO : EPOCH 5 - PROGRESS: at 65.90% examples, 1119 words/s, in_qsize 6, out_qsize 0\n",
      "2019-04-18 20:21:01,002 : INFO : EPOCH 5 - PROGRESS: at 66.63% examples, 1118 words/s, in_qsize 6, out_qsize 0\n",
      "2019-04-18 20:21:02,180 : INFO : EPOCH 5 - PROGRESS: at 67.53% examples, 1148 words/s, in_qsize 5, out_qsize 0\n",
      "2019-04-18 20:21:14,261 : INFO : EPOCH 5 - PROGRESS: at 67.75% examples, 1117 words/s, in_qsize 6, out_qsize 0\n",
      "2019-04-18 20:21:15,717 : INFO : EPOCH 5 - PROGRESS: at 70.12% examples, 1142 words/s, in_qsize 5, out_qsize 0\n",
      "2019-04-18 20:21:17,065 : INFO : EPOCH 5 - PROGRESS: at 72.71% examples, 1167 words/s, in_qsize 6, out_qsize 0\n",
      "2019-04-18 20:21:27,890 : INFO : EPOCH 5 - PROGRESS: at 75.35% examples, 1142 words/s, in_qsize 5, out_qsize 0\n",
      "2019-04-18 20:21:29,542 : INFO : EPOCH 5 - PROGRESS: at 78.11% examples, 1165 words/s, in_qsize 6, out_qsize 0\n",
      "2019-04-18 20:21:31,734 : INFO : EPOCH 5 - PROGRESS: at 80.42% examples, 1185 words/s, in_qsize 5, out_qsize 0\n",
      "2019-04-18 20:21:41,713 : INFO : EPOCH 5 - PROGRESS: at 83.06% examples, 1164 words/s, in_qsize 6, out_qsize 0\n",
      "2019-04-18 20:21:44,598 : INFO : EPOCH 5 - PROGRESS: at 85.37% examples, 1180 words/s, in_qsize 5, out_qsize 0\n",
      "2019-04-18 20:21:56,070 : INFO : EPOCH 5 - PROGRESS: at 89.36% examples, 1180 words/s, in_qsize 5, out_qsize 0\n",
      "2019-04-18 20:21:59,065 : INFO : EPOCH 5 - PROGRESS: at 91.67% examples, 1193 words/s, in_qsize 5, out_qsize 0\n",
      "2019-04-18 20:22:08,702 : INFO : EPOCH 5 - PROGRESS: at 95.72% examples, 1200 words/s, in_qsize 3, out_qsize 0\n",
      "2019-04-18 20:22:09,725 : INFO : EPOCH 5 - PROGRESS: at 95.89% examples, 1197 words/s, in_qsize 2, out_qsize 1\n",
      "2019-04-18 20:22:09,732 : INFO : worker thread finished; awaiting finish of 2 more threads\n",
      "2019-04-18 20:22:12,010 : INFO : EPOCH 5 - PROGRESS: at 97.86% examples, 1213 words/s, in_qsize 1, out_qsize 1\n",
      "2019-04-18 20:22:12,017 : INFO : worker thread finished; awaiting finish of 1 more threads\n",
      "2019-04-18 20:22:12,258 : INFO : worker thread finished; awaiting finish of 0 more threads\n",
      "2019-04-18 20:22:12,262 : INFO : EPOCH - 5 : training on 467827 raw words (335854 effective words) took 271.2s, 1238 effective words/s\n",
      "2019-04-18 20:22:24,775 : INFO : EPOCH 6 - PROGRESS: at 1.97% examples, 444 words/s, in_qsize 5, out_qsize 0\n",
      "2019-04-18 20:22:28,440 : INFO : EPOCH 6 - PROGRESS: at 3.26% examples, 767 words/s, in_qsize 6, out_qsize 0\n",
      "2019-04-18 20:22:44,864 : INFO : EPOCH 6 - PROGRESS: at 8.10% examples, 801 words/s, in_qsize 5, out_qsize 0\n",
      "2019-04-18 20:22:50,672 : INFO : EPOCH 6 - PROGRESS: at 9.90% examples, 859 words/s, in_qsize 5, out_qsize 0\n",
      "2019-04-18 20:22:51,917 : INFO : EPOCH 6 - PROGRESS: at 11.14% examples, 1008 words/s, in_qsize 5, out_qsize 0\n",
      "2019-04-18 20:23:04,516 : INFO : EPOCH 6 - PROGRESS: at 13.17% examples, 898 words/s, in_qsize 5, out_qsize 0\n",
      "2019-04-18 20:23:08,944 : INFO : EPOCH 6 - PROGRESS: at 15.53% examples, 956 words/s, in_qsize 6, out_qsize 0\n",
      "2019-04-18 20:23:19,960 : INFO : EPOCH 6 - PROGRESS: at 19.86% examples, 1008 words/s, in_qsize 6, out_qsize 0\n",
      "2019-04-18 20:23:22,799 : INFO : EPOCH 6 - PROGRESS: at 21.78% examples, 1059 words/s, in_qsize 6, out_qsize 0\n",
      "2019-04-18 20:23:36,134 : INFO : EPOCH 6 - PROGRESS: at 25.44% examples, 1057 words/s, in_qsize 5, out_qsize 0\n",
      "2019-04-18 20:23:39,103 : INFO : EPOCH 6 - PROGRESS: at 28.14% examples, 1105 words/s, in_qsize 5, out_qsize 0\n",
      "2019-04-18 20:23:52,137 : INFO : EPOCH 6 - PROGRESS: at 32.81% examples, 1099 words/s, in_qsize 6, out_qsize 0\n",
      "2019-04-18 20:23:56,202 : INFO : EPOCH 6 - PROGRESS: at 34.72% examples, 1122 words/s, in_qsize 5, out_qsize 0\n",
      "2019-04-18 20:24:11,035 : INFO : EPOCH 6 - PROGRESS: at 38.38% examples, 1098 words/s, in_qsize 5, out_qsize 0\n",
      "2019-04-18 20:24:14,929 : INFO : EPOCH 6 - PROGRESS: at 40.52% examples, 1122 words/s, in_qsize 6, out_qsize 0\n",
      "2019-04-18 20:24:26,384 : INFO : EPOCH 6 - PROGRESS: at 44.46% examples, 1130 words/s, in_qsize 6, out_qsize 0\n",
      "2019-04-18 20:24:32,744 : INFO : EPOCH 6 - PROGRESS: at 46.54% examples, 1128 words/s, in_qsize 5, out_qsize 0\n",
      "2019-04-18 20:24:46,746 : INFO : EPOCH 6 - PROGRESS: at 51.72% examples, 1119 words/s, in_qsize 5, out_qsize 0\n",
      "2019-04-18 20:24:54,031 : INFO : EPOCH 6 - PROGRESS: at 53.85% examples, 1113 words/s, in_qsize 6, out_qsize 0\n",
      "2019-04-18 20:24:55,561 : INFO : EPOCH 6 - PROGRESS: at 56.22% examples, 1146 words/s, in_qsize 5, out_qsize 0\n",
      "2019-04-18 20:25:11,769 : INFO : EPOCH 6 - PROGRESS: at 58.24% examples, 1082 words/s, in_qsize 5, out_qsize 0\n",
      "2019-04-18 20:25:16,749 : INFO : EPOCH 6 - PROGRESS: at 60.61% examples, 1090 words/s, in_qsize 6, out_qsize 0\n",
      "2019-04-18 20:25:18,555 : INFO : EPOCH 6 - PROGRESS: at 62.58% examples, 1117 words/s, in_qsize 5, out_qsize 0\n",
      "2019-04-18 20:25:32,632 : INFO : EPOCH 6 - PROGRESS: at 63.82% examples, 1075 words/s, in_qsize 5, out_qsize 0\n",
      "2019-04-18 20:25:36,662 : INFO : EPOCH 6 - PROGRESS: at 65.90% examples, 1087 words/s, in_qsize 5, out_qsize 0\n",
      "2019-04-18 20:25:39,684 : INFO : EPOCH 6 - PROGRESS: at 67.53% examples, 1115 words/s, in_qsize 5, out_qsize 0\n",
      "2019-04-18 20:25:57,451 : INFO : EPOCH 6 - PROGRESS: at 67.75% examples, 1059 words/s, in_qsize 5, out_qsize 0\n",
      "2019-04-18 20:26:00,139 : INFO : EPOCH 6 - PROGRESS: at 72.71% examples, 1108 words/s, in_qsize 5, out_qsize 0\n",
      "2019-04-18 20:26:15,585 : INFO : EPOCH 6 - PROGRESS: at 75.35% examples, 1067 words/s, in_qsize 5, out_qsize 0\n",
      "2019-04-18 20:26:18,687 : INFO : EPOCH 6 - PROGRESS: at 80.42% examples, 1111 words/s, in_qsize 6, out_qsize 0\n",
      "2019-04-18 20:26:30,648 : INFO : EPOCH 6 - PROGRESS: at 83.06% examples, 1086 words/s, in_qsize 5, out_qsize 0\n",
      "2019-04-18 20:26:32,559 : INFO : EPOCH 6 - PROGRESS: at 86.94% examples, 1131 words/s, in_qsize 5, out_qsize 0\n",
      "2019-04-18 20:26:48,093 : INFO : EPOCH 6 - PROGRESS: at 89.36% examples, 1093 words/s, in_qsize 6, out_qsize 0\n",
      "2019-04-18 20:26:49,264 : INFO : EPOCH 6 - PROGRESS: at 93.87% examples, 1139 words/s, in_qsize 4, out_qsize 0\n",
      "2019-04-18 20:27:03,583 : INFO : EPOCH 6 - PROGRESS: at 95.72% examples, 1104 words/s, in_qsize 3, out_qsize 0\n",
      "2019-04-18 20:27:05,361 : INFO : EPOCH 6 - PROGRESS: at 95.89% examples, 1099 words/s, in_qsize 2, out_qsize 1\n",
      "2019-04-18 20:27:05,370 : INFO : worker thread finished; awaiting finish of 2 more threads\n",
      "2019-04-18 20:27:06,941 : INFO : EPOCH 6 - PROGRESS: at 97.86% examples, 1117 words/s, in_qsize 1, out_qsize 1\n",
      "2019-04-18 20:27:06,945 : INFO : worker thread finished; awaiting finish of 1 more threads\n",
      "2019-04-18 20:27:07,499 : INFO : worker thread finished; awaiting finish of 0 more threads\n",
      "2019-04-18 20:27:07,512 : INFO : EPOCH - 6 : training on 467827 raw words (336396 effective words) took 295.2s, 1139 effective words/s\n",
      "2019-04-18 20:27:27,025 : INFO : EPOCH 7 - PROGRESS: at 1.97% examples, 284 words/s, in_qsize 5, out_qsize 0\n",
      "2019-04-18 20:27:31,809 : INFO : EPOCH 7 - PROGRESS: at 3.26% examples, 512 words/s, in_qsize 6, out_qsize 0\n",
      "2019-04-18 20:27:45,996 : INFO : EPOCH 7 - PROGRESS: at 8.10% examples, 681 words/s, in_qsize 6, out_qsize 0\n",
      "2019-04-18 20:27:48,763 : INFO : EPOCH 7 - PROGRESS: at 9.90% examples, 802 words/s, in_qsize 5, out_qsize 0\n",
      "2019-04-18 20:28:00,646 : INFO : EPOCH 7 - PROGRESS: at 13.17% examples, 886 words/s, in_qsize 6, out_qsize 0\n",
      "2019-04-18 20:28:03,645 : INFO : EPOCH 7 - PROGRESS: at 15.53% examples, 968 words/s, in_qsize 5, out_qsize 0\n",
      "2019-04-18 20:28:16,276 : INFO : EPOCH 7 - PROGRESS: at 19.86% examples, 994 words/s, in_qsize 6, out_qsize 0\n",
      "2019-04-18 20:28:18,648 : INFO : EPOCH 7 - PROGRESS: at 21.78% examples, 1052 words/s, in_qsize 5, out_qsize 0\n",
      "2019-04-18 20:28:32,414 : INFO : EPOCH 7 - PROGRESS: at 25.44% examples, 1047 words/s, in_qsize 5, out_qsize 0\n",
      "2019-04-18 20:28:34,639 : INFO : EPOCH 7 - PROGRESS: at 27.86% examples, 1099 words/s, in_qsize 6, out_qsize 0\n",
      "2019-04-18 20:28:47,535 : INFO : EPOCH 7 - PROGRESS: at 32.81% examples, 1098 words/s, in_qsize 5, out_qsize 0\n",
      "2019-04-18 20:28:49,484 : INFO : EPOCH 7 - PROGRESS: at 34.72% examples, 1145 words/s, in_qsize 5, out_qsize 0\n",
      "2019-04-18 20:28:50,742 : INFO : EPOCH 7 - PROGRESS: at 36.52% examples, 1197 words/s, in_qsize 6, out_qsize 0\n",
      "2019-04-18 20:29:02,614 : INFO : EPOCH 7 - PROGRESS: at 38.38% examples, 1133 words/s, in_qsize 5, out_qsize 0\n",
      "2019-04-18 20:29:05,996 : INFO : EPOCH 7 - PROGRESS: at 40.52% examples, 1162 words/s, in_qsize 5, out_qsize 0\n",
      "2019-04-18 20:29:18,929 : INFO : EPOCH 7 - PROGRESS: at 44.46% examples, 1154 words/s, in_qsize 6, out_qsize 0\n",
      "2019-04-18 20:29:22,431 : INFO : EPOCH 7 - PROGRESS: at 46.54% examples, 1175 words/s, in_qsize 6, out_qsize 0\n",
      "2019-04-18 20:29:24,164 : INFO : EPOCH 7 - PROGRESS: at 49.47% examples, 1212 words/s, in_qsize 5, out_qsize 0\n",
      "2019-04-18 20:29:40,613 : INFO : EPOCH 7 - PROGRESS: at 51.72% examples, 1130 words/s, in_qsize 5, out_qsize 0\n"
     ]
    },
    {
     "name": "stderr",
     "output_type": "stream",
     "text": [
      "2019-04-18 20:29:44,642 : INFO : EPOCH 7 - PROGRESS: at 53.85% examples, 1147 words/s, in_qsize 5, out_qsize 0\n",
      "2019-04-18 20:29:46,458 : INFO : EPOCH 7 - PROGRESS: at 56.22% examples, 1178 words/s, in_qsize 5, out_qsize 0\n",
      "2019-04-18 20:29:58,319 : INFO : EPOCH 7 - PROGRESS: at 58.24% examples, 1138 words/s, in_qsize 5, out_qsize 0\n",
      "2019-04-18 20:30:00,317 : INFO : EPOCH 7 - PROGRESS: at 60.61% examples, 1164 words/s, in_qsize 5, out_qsize 0\n",
      "2019-04-18 20:30:02,565 : INFO : EPOCH 7 - PROGRESS: at 62.58% examples, 1189 words/s, in_qsize 6, out_qsize 0\n",
      "2019-04-18 20:30:13,262 : INFO : EPOCH 7 - PROGRESS: at 63.82% examples, 1160 words/s, in_qsize 5, out_qsize 0\n",
      "2019-04-18 20:30:14,787 : INFO : EPOCH 7 - PROGRESS: at 65.90% examples, 1187 words/s, in_qsize 5, out_qsize 0\n",
      "2019-04-18 20:30:16,734 : INFO : EPOCH 7 - PROGRESS: at 66.63% examples, 1184 words/s, in_qsize 6, out_qsize 0\n",
      "2019-04-18 20:30:17,851 : INFO : EPOCH 7 - PROGRESS: at 67.53% examples, 1216 words/s, in_qsize 6, out_qsize 0\n",
      "2019-04-18 20:30:29,858 : INFO : EPOCH 7 - PROGRESS: at 67.75% examples, 1180 words/s, in_qsize 6, out_qsize 0\n",
      "2019-04-18 20:30:31,421 : INFO : EPOCH 7 - PROGRESS: at 70.12% examples, 1205 words/s, in_qsize 5, out_qsize 0\n",
      "2019-04-18 20:30:32,466 : INFO : EPOCH 7 - PROGRESS: at 72.71% examples, 1233 words/s, in_qsize 6, out_qsize 0\n",
      "2019-04-18 20:30:44,082 : INFO : EPOCH 7 - PROGRESS: at 75.35% examples, 1199 words/s, in_qsize 5, out_qsize 0\n",
      "2019-04-18 20:30:45,592 : INFO : EPOCH 7 - PROGRESS: at 78.11% examples, 1223 words/s, in_qsize 5, out_qsize 0\n",
      "2019-04-18 20:30:47,476 : INFO : EPOCH 7 - PROGRESS: at 80.42% examples, 1246 words/s, in_qsize 6, out_qsize 0\n",
      "2019-04-18 20:30:57,905 : INFO : EPOCH 7 - PROGRESS: at 83.06% examples, 1219 words/s, in_qsize 6, out_qsize 0\n",
      "2019-04-18 20:31:00,486 : INFO : EPOCH 7 - PROGRESS: at 85.37% examples, 1236 words/s, in_qsize 5, out_qsize 0\n",
      "2019-04-18 20:31:12,680 : INFO : EPOCH 7 - PROGRESS: at 89.36% examples, 1230 words/s, in_qsize 5, out_qsize 0\n",
      "2019-04-18 20:31:15,397 : INFO : EPOCH 7 - PROGRESS: at 91.67% examples, 1244 words/s, in_qsize 5, out_qsize 0\n",
      "2019-04-18 20:31:25,115 : INFO : EPOCH 7 - PROGRESS: at 95.72% examples, 1249 words/s, in_qsize 3, out_qsize 0\n",
      "2019-04-18 20:31:26,210 : INFO : EPOCH 7 - PROGRESS: at 95.89% examples, 1246 words/s, in_qsize 2, out_qsize 1\n",
      "2019-04-18 20:31:26,216 : INFO : worker thread finished; awaiting finish of 2 more threads\n",
      "2019-04-18 20:31:28,422 : INFO : EPOCH 7 - PROGRESS: at 97.86% examples, 1262 words/s, in_qsize 1, out_qsize 1\n",
      "2019-04-18 20:31:28,427 : INFO : worker thread finished; awaiting finish of 1 more threads\n",
      "2019-04-18 20:31:28,643 : INFO : worker thread finished; awaiting finish of 0 more threads\n",
      "2019-04-18 20:31:28,646 : INFO : EPOCH - 7 : training on 467827 raw words (336507 effective words) took 261.1s, 1289 effective words/s\n",
      "2019-04-18 20:31:40,307 : INFO : EPOCH 8 - PROGRESS: at 1.97% examples, 476 words/s, in_qsize 5, out_qsize 0\n",
      "2019-04-18 20:31:43,461 : INFO : EPOCH 8 - PROGRESS: at 3.26% examples, 840 words/s, in_qsize 6, out_qsize 0\n",
      "2019-04-18 20:31:57,427 : INFO : EPOCH 8 - PROGRESS: at 8.10% examples, 906 words/s, in_qsize 5, out_qsize 0\n",
      "2019-04-18 20:32:02,077 : INFO : EPOCH 8 - PROGRESS: at 9.90% examples, 986 words/s, in_qsize 6, out_qsize 0\n",
      "2019-04-18 20:32:15,656 : INFO : EPOCH 8 - PROGRESS: at 13.17% examples, 997 words/s, in_qsize 5, out_qsize 0\n",
      "2019-04-18 20:32:19,459 : INFO : EPOCH 8 - PROGRESS: at 15.53% examples, 1065 words/s, in_qsize 5, out_qsize 0\n",
      "2019-04-18 20:32:30,251 : INFO : EPOCH 8 - PROGRESS: at 19.86% examples, 1106 words/s, in_qsize 5, out_qsize 0\n",
      "2019-04-18 20:32:33,017 : INFO : EPOCH 8 - PROGRESS: at 21.78% examples, 1158 words/s, in_qsize 6, out_qsize 0\n",
      "2019-04-18 20:32:44,992 : INFO : EPOCH 8 - PROGRESS: at 25.44% examples, 1161 words/s, in_qsize 5, out_qsize 0\n",
      "2019-04-18 20:32:47,969 : INFO : EPOCH 8 - PROGRESS: at 27.86% examples, 1204 words/s, in_qsize 5, out_qsize 0\n",
      "2019-04-18 20:32:59,055 : INFO : EPOCH 8 - PROGRESS: at 32.81% examples, 1213 words/s, in_qsize 5, out_qsize 0\n",
      "2019-04-18 20:33:02,628 : INFO : EPOCH 8 - PROGRESS: at 34.72% examples, 1240 words/s, in_qsize 5, out_qsize 0\n",
      "2019-04-18 20:33:13,887 : INFO : EPOCH 8 - PROGRESS: at 38.38% examples, 1237 words/s, in_qsize 6, out_qsize 0\n",
      "2019-04-18 20:33:17,956 : INFO : EPOCH 8 - PROGRESS: at 40.52% examples, 1258 words/s, in_qsize 6, out_qsize 0\n",
      "2019-04-18 20:33:27,695 : INFO : EPOCH 8 - PROGRESS: at 44.46% examples, 1272 words/s, in_qsize 6, out_qsize 0\n",
      "2019-04-18 20:33:32,042 : INFO : EPOCH 8 - PROGRESS: at 46.54% examples, 1284 words/s, in_qsize 5, out_qsize 0\n",
      "2019-04-18 20:33:42,446 : INFO : EPOCH 8 - PROGRESS: at 51.72% examples, 1292 words/s, in_qsize 5, out_qsize 0\n",
      "2019-04-18 20:33:47,093 : INFO : EPOCH 8 - PROGRESS: at 53.85% examples, 1300 words/s, in_qsize 6, out_qsize 0\n",
      "2019-04-18 20:33:57,560 : INFO : EPOCH 8 - PROGRESS: at 58.24% examples, 1305 words/s, in_qsize 6, out_qsize 0\n",
      "2019-04-18 20:34:01,547 : INFO : EPOCH 8 - PROGRESS: at 60.61% examples, 1315 words/s, in_qsize 5, out_qsize 0\n",
      "2019-04-18 20:34:15,422 : INFO : EPOCH 8 - PROGRESS: at 63.82% examples, 1291 words/s, in_qsize 6, out_qsize 0\n",
      "2019-04-18 20:34:20,154 : INFO : EPOCH 8 - PROGRESS: at 64.55% examples, 1265 words/s, in_qsize 5, out_qsize 0\n",
      "2019-04-18 20:34:22,576 : INFO : EPOCH 8 - PROGRESS: at 67.53% examples, 1330 words/s, in_qsize 5, out_qsize 0\n",
      "2019-04-18 20:34:37,803 : INFO : EPOCH 8 - PROGRESS: at 69.89% examples, 1260 words/s, in_qsize 5, out_qsize 0\n",
      "2019-04-18 20:34:39,425 : INFO : EPOCH 8 - PROGRESS: at 72.71% examples, 1324 words/s, in_qsize 6, out_qsize 0\n",
      "2019-04-18 20:34:52,172 : INFO : EPOCH 8 - PROGRESS: at 75.35% examples, 1275 words/s, in_qsize 5, out_qsize 0\n",
      "2019-04-18 20:34:54,530 : INFO : EPOCH 8 - PROGRESS: at 80.42% examples, 1330 words/s, in_qsize 5, out_qsize 0\n",
      "2019-04-18 20:35:06,753 : INFO : EPOCH 8 - PROGRESS: at 83.06% examples, 1287 words/s, in_qsize 5, out_qsize 0\n",
      "2019-04-18 20:35:07,775 : INFO : EPOCH 8 - PROGRESS: at 85.37% examples, 1313 words/s, in_qsize 5, out_qsize 0\n",
      "2019-04-18 20:35:24,744 : INFO : EPOCH 8 - PROGRESS: at 89.36% examples, 1277 words/s, in_qsize 5, out_qsize 0\n",
      "2019-04-18 20:35:25,756 : INFO : EPOCH 8 - PROGRESS: at 91.56% examples, 1302 words/s, in_qsize 5, out_qsize 0\n",
      "2019-04-18 20:35:37,715 : INFO : EPOCH 8 - PROGRESS: at 95.72% examples, 1292 words/s, in_qsize 3, out_qsize 0\n",
      "2019-04-18 20:35:38,890 : INFO : EPOCH 8 - PROGRESS: at 95.89% examples, 1288 words/s, in_qsize 2, out_qsize 1\n",
      "2019-04-18 20:35:38,896 : INFO : worker thread finished; awaiting finish of 2 more threads\n",
      "2019-04-18 20:35:39,797 : INFO : worker thread finished; awaiting finish of 1 more threads\n",
      "2019-04-18 20:35:40,211 : INFO : EPOCH 8 - PROGRESS: at 100.00% examples, 1338 words/s, in_qsize 0, out_qsize 1\n",
      "2019-04-18 20:35:40,217 : INFO : worker thread finished; awaiting finish of 0 more threads\n",
      "2019-04-18 20:35:40,221 : INFO : EPOCH - 8 : training on 467827 raw words (336471 effective words) took 251.6s, 1337 effective words/s\n",
      "2019-04-18 20:35:56,223 : INFO : EPOCH 9 - PROGRESS: at 1.97% examples, 350 words/s, in_qsize 5, out_qsize 0\n",
      "2019-04-18 20:35:59,904 : INFO : EPOCH 9 - PROGRESS: at 3.26% examples, 634 words/s, in_qsize 6, out_qsize 0\n",
      "2019-04-18 20:36:17,399 : INFO : EPOCH 9 - PROGRESS: at 8.10% examples, 704 words/s, in_qsize 5, out_qsize 0\n",
      "2019-04-18 20:36:22,832 : INFO : EPOCH 9 - PROGRESS: at 9.90% examples, 775 words/s, in_qsize 5, out_qsize 0\n",
      "2019-04-18 20:36:40,492 : INFO : EPOCH 9 - PROGRESS: at 13.17% examples, 778 words/s, in_qsize 5, out_qsize 0\n",
      "2019-04-18 20:36:45,889 : INFO : EPOCH 9 - PROGRESS: at 15.03% examples, 820 words/s, in_qsize 5, out_qsize 0\n",
      "2019-04-18 20:37:03,440 : INFO : EPOCH 9 - PROGRESS: at 19.86% examples, 820 words/s, in_qsize 5, out_qsize 0\n",
      "2019-04-18 20:37:07,383 : INFO : EPOCH 9 - PROGRESS: at 21.78% examples, 856 words/s, in_qsize 6, out_qsize 0\n",
      "2019-04-18 20:37:08,404 : INFO : EPOCH 9 - PROGRESS: at 23.30% examples, 925 words/s, in_qsize 5, out_qsize 0\n",
      "2019-04-18 20:37:26,518 : INFO : EPOCH 9 - PROGRESS: at 25.44% examples, 835 words/s, in_qsize 5, out_qsize 0\n",
      "2019-04-18 20:37:30,237 : INFO : EPOCH 9 - PROGRESS: at 27.86% examples, 870 words/s, in_qsize 5, out_qsize 0\n",
      "2019-04-18 20:37:47,388 : INFO : EPOCH 9 - PROGRESS: at 32.81% examples, 864 words/s, in_qsize 5, out_qsize 0\n",
      "2019-04-18 20:37:51,224 : INFO : EPOCH 9 - PROGRESS: at 34.72% examples, 891 words/s, in_qsize 5, out_qsize 0\n",
      "2019-04-18 20:37:52,228 : INFO : EPOCH 9 - PROGRESS: at 36.52% examples, 936 words/s, in_qsize 5, out_qsize 0\n",
      "2019-04-18 20:38:08,240 : INFO : EPOCH 9 - PROGRESS: at 38.38% examples, 881 words/s, in_qsize 6, out_qsize 0\n",
      "2019-04-18 20:38:13,444 : INFO : EPOCH 9 - PROGRESS: at 40.52% examples, 899 words/s, in_qsize 6, out_qsize 0\n",
      "2019-04-18 20:38:30,157 : INFO : EPOCH 9 - PROGRESS: at 44.46% examples, 892 words/s, in_qsize 5, out_qsize 0\n",
      "2019-04-18 20:38:36,025 : INFO : EPOCH 9 - PROGRESS: at 46.54% examples, 902 words/s, in_qsize 5, out_qsize 0\n",
      "2019-04-18 20:38:37,271 : INFO : EPOCH 9 - PROGRESS: at 49.47% examples, 935 words/s, in_qsize 6, out_qsize 0\n",
      "2019-04-18 20:38:50,959 : INFO : EPOCH 9 - PROGRESS: at 51.72% examples, 906 words/s, in_qsize 6, out_qsize 0\n",
      "2019-04-18 20:38:55,731 : INFO : EPOCH 9 - PROGRESS: at 53.85% examples, 921 words/s, in_qsize 5, out_qsize 0\n",
      "2019-04-18 20:39:10,980 : INFO : EPOCH 9 - PROGRESS: at 58.24% examples, 922 words/s, in_qsize 5, out_qsize 0\n",
      "2019-04-18 20:39:14,633 : INFO : EPOCH 9 - PROGRESS: at 60.61% examples, 938 words/s, in_qsize 5, out_qsize 0\n",
      "2019-04-18 20:39:17,120 : INFO : EPOCH 9 - PROGRESS: at 62.58% examples, 960 words/s, in_qsize 5, out_qsize 0\n",
      "2019-04-18 20:39:31,610 : INFO : EPOCH 9 - PROGRESS: at 63.82% examples, 931 words/s, in_qsize 5, out_qsize 0\n",
      "2019-04-18 20:39:33,582 : INFO : EPOCH 9 - PROGRESS: at 65.90% examples, 953 words/s, in_qsize 5, out_qsize 0\n",
      "2019-04-18 20:39:35,377 : INFO : EPOCH 9 - PROGRESS: at 66.63% examples, 952 words/s, in_qsize 6, out_qsize 0\n",
      "2019-04-18 20:39:36,467 : INFO : EPOCH 9 - PROGRESS: at 67.53% examples, 979 words/s, in_qsize 5, out_qsize 0\n",
      "2019-04-18 20:39:50,381 : INFO : EPOCH 9 - PROGRESS: at 67.75% examples, 954 words/s, in_qsize 6, out_qsize 0\n",
      "2019-04-18 20:39:51,632 : INFO : EPOCH 9 - PROGRESS: at 70.12% examples, 978 words/s, in_qsize 5, out_qsize 0\n",
      "2019-04-18 20:40:05,746 : INFO : EPOCH 9 - PROGRESS: at 75.35% examples, 978 words/s, in_qsize 5, out_qsize 0\n",
      "2019-04-18 20:40:06,873 : INFO : EPOCH 9 - PROGRESS: at 78.11% examples, 1000 words/s, in_qsize 5, out_qsize 0\n",
      "2019-04-18 20:40:08,585 : INFO : EPOCH 9 - PROGRESS: at 80.42% examples, 1021 words/s, in_qsize 5, out_qsize 0\n",
      "2019-04-18 20:40:20,379 : INFO : EPOCH 9 - PROGRESS: at 83.06% examples, 1002 words/s, in_qsize 5, out_qsize 0\n",
      "2019-04-18 20:40:22,438 : INFO : EPOCH 9 - PROGRESS: at 84.64% examples, 1018 words/s, in_qsize 6, out_qsize 0\n",
      "2019-04-18 20:40:37,238 : INFO : EPOCH 9 - PROGRESS: at 89.36% examples, 1016 words/s, in_qsize 6, out_qsize 0\n",
      "2019-04-18 20:40:38,746 : INFO : EPOCH 9 - PROGRESS: at 91.67% examples, 1033 words/s, in_qsize 5, out_qsize 0\n",
      "2019-04-18 20:40:40,013 : INFO : EPOCH 9 - PROGRESS: at 93.87% examples, 1054 words/s, in_qsize 4, out_qsize 0\n",
      "2019-04-18 20:40:52,735 : INFO : EPOCH 9 - PROGRESS: at 95.72% examples, 1030 words/s, in_qsize 3, out_qsize 0\n",
      "2019-04-18 20:40:54,372 : INFO : EPOCH 9 - PROGRESS: at 95.89% examples, 1026 words/s, in_qsize 2, out_qsize 1\n",
      "2019-04-18 20:40:54,378 : INFO : worker thread finished; awaiting finish of 2 more threads\n",
      "2019-04-18 20:40:56,379 : INFO : EPOCH 9 - PROGRESS: at 97.86% examples, 1042 words/s, in_qsize 1, out_qsize 1\n",
      "2019-04-18 20:40:56,387 : INFO : worker thread finished; awaiting finish of 1 more threads\n",
      "2019-04-18 20:40:57,331 : INFO : worker thread finished; awaiting finish of 0 more threads\n",
      "2019-04-18 20:40:57,334 : INFO : EPOCH - 9 : training on 467827 raw words (336654 effective words) took 317.1s, 1062 effective words/s\n",
      "2019-04-18 20:41:13,902 : INFO : EPOCH 10 - PROGRESS: at 1.97% examples, 335 words/s, in_qsize 6, out_qsize 0\n",
      "2019-04-18 20:41:18,996 : INFO : EPOCH 10 - PROGRESS: at 4.67% examples, 578 words/s, in_qsize 5, out_qsize 0\n",
      "2019-04-18 20:41:40,155 : INFO : EPOCH 10 - PROGRESS: at 8.10% examples, 610 words/s, in_qsize 5, out_qsize 0\n",
      "2019-04-18 20:41:44,057 : INFO : EPOCH 10 - PROGRESS: at 9.90% examples, 705 words/s, in_qsize 6, out_qsize 0\n",
      "2019-04-18 20:41:57,074 : INFO : EPOCH 10 - PROGRESS: at 13.17% examples, 784 words/s, in_qsize 5, out_qsize 0\n",
      "2019-04-18 20:42:01,244 : INFO : EPOCH 10 - PROGRESS: at 15.53% examples, 846 words/s, in_qsize 6, out_qsize 0\n",
      "2019-04-18 20:42:14,847 : INFO : EPOCH 10 - PROGRESS: at 19.86% examples, 879 words/s, in_qsize 5, out_qsize 0\n",
      "2019-04-18 20:42:18,891 : INFO : EPOCH 10 - PROGRESS: at 21.78% examples, 914 words/s, in_qsize 5, out_qsize 0\n",
      "2019-04-18 20:42:33,511 : INFO : EPOCH 10 - PROGRESS: at 25.44% examples, 922 words/s, in_qsize 5, out_qsize 0\n",
      "2019-04-18 20:42:36,984 : INFO : EPOCH 10 - PROGRESS: at 27.86% examples, 959 words/s, in_qsize 5, out_qsize 0\n",
      "2019-04-18 20:42:49,645 : INFO : EPOCH 10 - PROGRESS: at 32.81% examples, 977 words/s, in_qsize 5, out_qsize 0\n",
      "2019-04-18 20:42:53,495 : INFO : EPOCH 10 - PROGRESS: at 34.72% examples, 1003 words/s, in_qsize 5, out_qsize 0\n",
      "2019-04-18 20:42:54,743 : INFO : EPOCH 10 - PROGRESS: at 36.52% examples, 1051 words/s, in_qsize 6, out_qsize 0\n",
      "2019-04-18 20:43:08,851 : INFO : EPOCH 10 - PROGRESS: at 38.38% examples, 990 words/s, in_qsize 6, out_qsize 0\n",
      "2019-04-18 20:43:14,092 : INFO : EPOCH 10 - PROGRESS: at 40.52% examples, 1005 words/s, in_qsize 5, out_qsize 0\n",
      "2019-04-18 20:43:15,121 : INFO : EPOCH 10 - PROGRESS: at 42.77% examples, 1050 words/s, in_qsize 6, out_qsize 0\n",
      "2019-04-18 20:43:27,210 : INFO : EPOCH 10 - PROGRESS: at 44.46% examples, 1010 words/s, in_qsize 6, out_qsize 0\n",
      "2019-04-18 20:43:32,792 : INFO : EPOCH 10 - PROGRESS: at 46.54% examples, 1019 words/s, in_qsize 5, out_qsize 0\n",
      "2019-04-18 20:43:34,013 : INFO : EPOCH 10 - PROGRESS: at 49.47% examples, 1055 words/s, in_qsize 6, out_qsize 0\n",
      "2019-04-18 20:43:45,868 : INFO : EPOCH 10 - PROGRESS: at 51.72% examples, 1024 words/s, in_qsize 6, out_qsize 0\n",
      "2019-04-18 20:43:51,270 : INFO : EPOCH 10 - PROGRESS: at 53.85% examples, 1034 words/s, in_qsize 6, out_qsize 0\n",
      "2019-04-18 20:44:05,592 : INFO : EPOCH 10 - PROGRESS: at 58.24% examples, 1030 words/s, in_qsize 6, out_qsize 0\n",
      "2019-04-18 20:44:09,935 : INFO : EPOCH 10 - PROGRESS: at 60.61% examples, 1042 words/s, in_qsize 5, out_qsize 0\n",
      "2019-04-18 20:44:12,238 : INFO : EPOCH 10 - PROGRESS: at 62.58% examples, 1066 words/s, in_qsize 6, out_qsize 0\n",
      "2019-04-18 20:44:26,522 : INFO : EPOCH 10 - PROGRESS: at 63.82% examples, 1028 words/s, in_qsize 5, out_qsize 0\n",
      "2019-04-18 20:44:31,212 : INFO : EPOCH 10 - PROGRESS: at 65.90% examples, 1038 words/s, in_qsize 6, out_qsize 0\n",
      "2019-04-18 20:44:35,543 : INFO : EPOCH 10 - PROGRESS: at 67.53% examples, 1058 words/s, in_qsize 6, out_qsize 0\n",
      "2019-04-18 20:44:51,754 : INFO : EPOCH 10 - PROGRESS: at 69.89% examples, 1015 words/s, in_qsize 5, out_qsize 0\n",
      "2019-04-18 20:44:55,280 : INFO : EPOCH 10 - PROGRESS: at 72.71% examples, 1060 words/s, in_qsize 5, out_qsize 0\n",
      "2019-04-18 20:45:10,475 : INFO : EPOCH 10 - PROGRESS: at 75.46% examples, 1024 words/s, in_qsize 6, out_qsize 0\n",
      "2019-04-18 20:45:15,304 : INFO : EPOCH 10 - PROGRESS: at 80.42% examples, 1060 words/s, in_qsize 5, out_qsize 0\n",
      "2019-04-18 20:45:30,527 : INFO : EPOCH 10 - PROGRESS: at 83.06% examples, 1026 words/s, in_qsize 6, out_qsize 0\n",
      "2019-04-18 20:45:32,455 : INFO : EPOCH 10 - PROGRESS: at 85.37% examples, 1045 words/s, in_qsize 6, out_qsize 0\n",
      "2019-04-18 20:45:34,718 : INFO : EPOCH 10 - PROGRESS: at 86.94% examples, 1060 words/s, in_qsize 5, out_qsize 0\n",
      "2019-04-18 20:45:51,916 : INFO : EPOCH 10 - PROGRESS: at 89.36% examples, 1022 words/s, in_qsize 5, out_qsize 0\n",
      "2019-04-18 20:45:54,245 : INFO : EPOCH 10 - PROGRESS: at 91.56% examples, 1039 words/s, in_qsize 5, out_qsize 0\n",
      "2019-04-18 20:46:10,654 : INFO : EPOCH 10 - PROGRESS: at 95.72% examples, 1025 words/s, in_qsize 3, out_qsize 0\n",
      "2019-04-18 20:46:12,281 : INFO : EPOCH 10 - PROGRESS: at 95.89% examples, 1022 words/s, in_qsize 2, out_qsize 1\n",
      "2019-04-18 20:46:12,296 : INFO : worker thread finished; awaiting finish of 2 more threads\n"
     ]
    },
    {
     "name": "stderr",
     "output_type": "stream",
     "text": [
      "2019-04-18 20:46:15,079 : INFO : EPOCH 10 - PROGRESS: at 97.86% examples, 1034 words/s, in_qsize 1, out_qsize 1\n",
      "2019-04-18 20:46:15,085 : INFO : worker thread finished; awaiting finish of 1 more threads\n",
      "2019-04-18 20:46:15,626 : INFO : worker thread finished; awaiting finish of 0 more threads\n",
      "2019-04-18 20:46:15,629 : INFO : EPOCH - 10 : training on 467827 raw words (335957 effective words) took 318.3s, 1056 effective words/s\n",
      "2019-04-18 20:46:29,473 : INFO : EPOCH 11 - PROGRESS: at 1.97% examples, 404 words/s, in_qsize 5, out_qsize 0\n",
      "2019-04-18 20:46:33,045 : INFO : EPOCH 11 - PROGRESS: at 3.26% examples, 712 words/s, in_qsize 5, out_qsize 0\n",
      "2019-04-18 20:46:45,142 : INFO : EPOCH 11 - PROGRESS: at 8.10% examples, 884 words/s, in_qsize 5, out_qsize 0\n",
      "2019-04-18 20:46:48,378 : INFO : EPOCH 11 - PROGRESS: at 9.90% examples, 1007 words/s, in_qsize 6, out_qsize 0\n",
      "2019-04-18 20:47:03,812 : INFO : EPOCH 11 - PROGRESS: at 13.17% examples, 974 words/s, in_qsize 5, out_qsize 0\n",
      "2019-04-18 20:47:08,307 : INFO : EPOCH 11 - PROGRESS: at 15.53% examples, 1029 words/s, in_qsize 5, out_qsize 0\n",
      "2019-04-18 20:47:21,385 : INFO : EPOCH 11 - PROGRESS: at 19.86% examples, 1037 words/s, in_qsize 6, out_qsize 0\n",
      "2019-04-18 20:47:25,265 : INFO : EPOCH 11 - PROGRESS: at 21.78% examples, 1072 words/s, in_qsize 6, out_qsize 0\n",
      "2019-04-18 20:47:38,104 : INFO : EPOCH 11 - PROGRESS: at 25.44% examples, 1076 words/s, in_qsize 6, out_qsize 0\n",
      "2019-04-18 20:47:41,065 : INFO : EPOCH 11 - PROGRESS: at 28.14% examples, 1125 words/s, in_qsize 5, out_qsize 0\n",
      "2019-04-18 20:47:52,460 : INFO : EPOCH 11 - PROGRESS: at 32.81% examples, 1135 words/s, in_qsize 6, out_qsize 0\n",
      "2019-04-18 20:47:55,769 : INFO : EPOCH 11 - PROGRESS: at 34.72% examples, 1166 words/s, in_qsize 5, out_qsize 0\n",
      "2019-04-18 20:48:12,236 : INFO : EPOCH 11 - PROGRESS: at 38.38% examples, 1119 words/s, in_qsize 6, out_qsize 0\n",
      "2019-04-18 20:48:17,786 : INFO : EPOCH 11 - PROGRESS: at 40.52% examples, 1128 words/s, in_qsize 5, out_qsize 0\n",
      "2019-04-18 20:48:31,580 : INFO : EPOCH 11 - PROGRESS: at 44.46% examples, 1116 words/s, in_qsize 5, out_qsize 0\n",
      "2019-04-18 20:48:36,403 : INFO : EPOCH 11 - PROGRESS: at 46.54% examples, 1127 words/s, in_qsize 6, out_qsize 0\n",
      "2019-04-18 20:48:49,494 : INFO : EPOCH 11 - PROGRESS: at 51.72% examples, 1125 words/s, in_qsize 6, out_qsize 0\n",
      "2019-04-18 20:48:53,929 : INFO : EPOCH 11 - PROGRESS: at 53.85% examples, 1139 words/s, in_qsize 5, out_qsize 0\n",
      "2019-04-18 20:49:06,264 : INFO : EPOCH 11 - PROGRESS: at 58.24% examples, 1140 words/s, in_qsize 5, out_qsize 0\n",
      "2019-04-18 20:49:09,561 : INFO : EPOCH 11 - PROGRESS: at 60.61% examples, 1157 words/s, in_qsize 5, out_qsize 0\n",
      "2019-04-18 20:49:10,843 : INFO : EPOCH 11 - PROGRESS: at 62.58% examples, 1189 words/s, in_qsize 5, out_qsize 0\n",
      "2019-04-18 20:49:21,662 : INFO : EPOCH 11 - PROGRESS: at 63.82% examples, 1159 words/s, in_qsize 5, out_qsize 0\n",
      "2019-04-18 20:49:24,094 : INFO : EPOCH 11 - PROGRESS: at 65.90% examples, 1181 words/s, in_qsize 6, out_qsize 0\n",
      "2019-04-18 20:49:25,138 : INFO : EPOCH 11 - PROGRESS: at 66.63% examples, 1183 words/s, in_qsize 6, out_qsize 0\n",
      "2019-04-18 20:49:39,374 : INFO : EPOCH 11 - PROGRESS: at 67.75% examples, 1172 words/s, in_qsize 6, out_qsize 0\n",
      "2019-04-18 20:49:40,530 : INFO : EPOCH 11 - PROGRESS: at 72.71% examples, 1234 words/s, in_qsize 5, out_qsize 0\n",
      "2019-04-18 20:49:54,267 : INFO : EPOCH 11 - PROGRESS: at 75.35% examples, 1188 words/s, in_qsize 5, out_qsize 0\n",
      "2019-04-18 20:49:56,645 : INFO : EPOCH 11 - PROGRESS: at 80.42% examples, 1240 words/s, in_qsize 5, out_qsize 0\n",
      "2019-04-18 20:50:08,902 : INFO : EPOCH 11 - PROGRESS: at 83.06% examples, 1205 words/s, in_qsize 6, out_qsize 0\n",
      "2019-04-18 20:50:10,328 : INFO : EPOCH 11 - PROGRESS: at 84.64% examples, 1225 words/s, in_qsize 5, out_qsize 0\n",
      "2019-04-18 20:50:26,545 : INFO : EPOCH 11 - PROGRESS: at 89.36% examples, 1203 words/s, in_qsize 6, out_qsize 0\n",
      "2019-04-18 20:50:28,173 : INFO : EPOCH 11 - PROGRESS: at 91.67% examples, 1222 words/s, in_qsize 5, out_qsize 0\n",
      "2019-04-18 20:50:44,076 : INFO : EPOCH 11 - PROGRESS: at 95.72% examples, 1199 words/s, in_qsize 3, out_qsize 0\n",
      "2019-04-18 20:50:45,192 : INFO : EPOCH 11 - PROGRESS: at 95.89% examples, 1196 words/s, in_qsize 2, out_qsize 1\n",
      "2019-04-18 20:50:45,200 : INFO : worker thread finished; awaiting finish of 2 more threads\n",
      "2019-04-18 20:50:46,991 : INFO : EPOCH 11 - PROGRESS: at 97.86% examples, 1214 words/s, in_qsize 1, out_qsize 1\n",
      "2019-04-18 20:50:47,002 : INFO : worker thread finished; awaiting finish of 1 more threads\n",
      "2019-04-18 20:50:47,257 : INFO : worker thread finished; awaiting finish of 0 more threads\n",
      "2019-04-18 20:50:47,260 : INFO : EPOCH - 11 : training on 467827 raw words (336667 effective words) took 271.6s, 1239 effective words/s\n",
      "2019-04-18 20:51:02,015 : INFO : EPOCH 12 - PROGRESS: at 1.97% examples, 373 words/s, in_qsize 5, out_qsize 0\n",
      "2019-04-18 20:51:06,328 : INFO : EPOCH 12 - PROGRESS: at 3.26% examples, 646 words/s, in_qsize 5, out_qsize 0\n",
      "2019-04-18 20:51:08,385 : INFO : EPOCH 12 - PROGRESS: at 5.97% examples, 917 words/s, in_qsize 6, out_qsize 0\n",
      "2019-04-18 20:51:22,922 : INFO : EPOCH 12 - PROGRESS: at 8.10% examples, 730 words/s, in_qsize 5, out_qsize 0\n",
      "2019-04-18 20:51:27,936 : INFO : EPOCH 12 - PROGRESS: at 9.90% examples, 810 words/s, in_qsize 6, out_qsize 0\n",
      "2019-04-18 20:51:30,032 : INFO : EPOCH 12 - PROGRESS: at 11.14% examples, 934 words/s, in_qsize 6, out_qsize 0\n",
      "2019-04-18 20:51:43,062 : INFO : EPOCH 12 - PROGRESS: at 13.17% examples, 841 words/s, in_qsize 5, out_qsize 0\n",
      "2019-04-18 20:51:48,913 : INFO : EPOCH 12 - PROGRESS: at 15.53% examples, 878 words/s, in_qsize 5, out_qsize 0\n",
      "2019-04-18 20:51:50,133 : INFO : EPOCH 12 - PROGRESS: at 17.39% examples, 972 words/s, in_qsize 5, out_qsize 0\n",
      "2019-04-18 20:52:00,304 : INFO : EPOCH 12 - PROGRESS: at 19.86% examples, 933 words/s, in_qsize 5, out_qsize 0\n",
      "2019-04-18 20:52:05,445 : INFO : EPOCH 12 - PROGRESS: at 21.78% examples, 954 words/s, in_qsize 5, out_qsize 0\n",
      "2019-04-18 20:52:17,038 : INFO : EPOCH 12 - PROGRESS: at 25.44% examples, 988 words/s, in_qsize 5, out_qsize 0\n",
      "2019-04-18 20:52:20,926 : INFO : EPOCH 12 - PROGRESS: at 27.86% examples, 1020 words/s, in_qsize 6, out_qsize 0\n",
      "2019-04-18 20:52:33,131 : INFO : EPOCH 12 - PROGRESS: at 32.81% examples, 1036 words/s, in_qsize 6, out_qsize 0\n",
      "2019-04-18 20:52:38,600 : INFO : EPOCH 12 - PROGRESS: at 34.72% examples, 1047 words/s, in_qsize 5, out_qsize 0\n",
      "2019-04-18 20:52:39,781 : INFO : EPOCH 12 - PROGRESS: at 36.52% examples, 1097 words/s, in_qsize 6, out_qsize 0\n",
      "2019-04-18 20:52:52,534 : INFO : EPOCH 12 - PROGRESS: at 38.38% examples, 1040 words/s, in_qsize 5, out_qsize 0\n",
      "2019-04-18 20:52:58,996 : INFO : EPOCH 12 - PROGRESS: at 40.52% examples, 1044 words/s, in_qsize 5, out_qsize 0\n",
      "2019-04-18 20:53:10,111 : INFO : EPOCH 12 - PROGRESS: at 44.46% examples, 1060 words/s, in_qsize 5, out_qsize 0\n",
      "2019-04-18 20:53:15,455 : INFO : EPOCH 12 - PROGRESS: at 46.54% examples, 1069 words/s, in_qsize 6, out_qsize 0\n",
      "2019-04-18 20:53:16,458 : INFO : EPOCH 12 - PROGRESS: at 49.47% examples, 1109 words/s, in_qsize 5, out_qsize 0\n",
      "2019-04-18 20:53:27,277 : INFO : EPOCH 12 - PROGRESS: at 51.72% examples, 1079 words/s, in_qsize 5, out_qsize 0\n",
      "2019-04-18 20:53:32,744 : INFO : EPOCH 12 - PROGRESS: at 53.85% examples, 1087 words/s, in_qsize 6, out_qsize 0\n",
      "2019-04-18 20:53:44,112 : INFO : EPOCH 12 - PROGRESS: at 58.24% examples, 1098 words/s, in_qsize 6, out_qsize 0\n",
      "2019-04-18 20:53:49,065 : INFO : EPOCH 12 - PROGRESS: at 60.61% examples, 1105 words/s, in_qsize 5, out_qsize 0\n",
      "2019-04-18 20:53:50,510 : INFO : EPOCH 12 - PROGRESS: at 62.58% examples, 1134 words/s, in_qsize 5, out_qsize 0\n",
      "2019-04-18 20:54:00,684 : INFO : EPOCH 12 - PROGRESS: at 63.82% examples, 1112 words/s, in_qsize 6, out_qsize 0\n",
      "2019-04-18 20:54:04,276 : INFO : EPOCH 12 - PROGRESS: at 65.90% examples, 1127 words/s, in_qsize 5, out_qsize 0\n",
      "2019-04-18 20:54:07,112 : INFO : EPOCH 12 - PROGRESS: at 67.53% examples, 1156 words/s, in_qsize 6, out_qsize 0\n",
      "2019-04-18 20:54:19,895 : INFO : EPOCH 12 - PROGRESS: at 67.75% examples, 1121 words/s, in_qsize 5, out_qsize 0\n",
      "2019-04-18 20:54:22,452 : INFO : EPOCH 12 - PROGRESS: at 72.71% examples, 1173 words/s, in_qsize 5, out_qsize 0\n",
      "2019-04-18 20:54:35,291 : INFO : EPOCH 12 - PROGRESS: at 75.35% examples, 1137 words/s, in_qsize 5, out_qsize 0\n",
      "2019-04-18 20:54:39,181 : INFO : EPOCH 12 - PROGRESS: at 80.42% examples, 1180 words/s, in_qsize 5, out_qsize 0\n",
      "2019-04-18 20:54:52,063 : INFO : EPOCH 12 - PROGRESS: at 83.06% examples, 1146 words/s, in_qsize 6, out_qsize 0\n",
      "2019-04-18 20:54:53,418 : INFO : EPOCH 12 - PROGRESS: at 85.37% examples, 1168 words/s, in_qsize 5, out_qsize 0\n",
      "2019-04-18 20:54:55,218 : INFO : EPOCH 12 - PROGRESS: at 86.94% examples, 1186 words/s, in_qsize 6, out_qsize 0\n",
      "2019-04-18 20:55:12,004 : INFO : EPOCH 12 - PROGRESS: at 89.36% examples, 1138 words/s, in_qsize 6, out_qsize 0\n",
      "2019-04-18 20:55:15,880 : INFO : EPOCH 12 - PROGRESS: at 91.56% examples, 1148 words/s, in_qsize 5, out_qsize 0\n",
      "2019-04-18 20:55:30,582 : INFO : EPOCH 12 - PROGRESS: at 95.72% examples, 1134 words/s, in_qsize 3, out_qsize 0\n",
      "2019-04-18 20:55:31,635 : INFO : EPOCH 12 - PROGRESS: at 95.89% examples, 1132 words/s, in_qsize 2, out_qsize 1\n",
      "2019-04-18 20:55:31,644 : INFO : worker thread finished; awaiting finish of 2 more threads\n",
      "2019-04-18 20:55:33,604 : INFO : EPOCH 12 - PROGRESS: at 97.86% examples, 1148 words/s, in_qsize 1, out_qsize 1\n",
      "2019-04-18 20:55:33,609 : INFO : worker thread finished; awaiting finish of 1 more threads\n",
      "2019-04-18 20:55:33,819 : INFO : worker thread finished; awaiting finish of 0 more threads\n",
      "2019-04-18 20:55:33,820 : INFO : EPOCH - 12 : training on 467827 raw words (336030 effective words) took 286.5s, 1173 effective words/s\n",
      "2019-04-18 20:55:46,734 : INFO : EPOCH 13 - PROGRESS: at 1.97% examples, 433 words/s, in_qsize 6, out_qsize 0\n",
      "2019-04-18 20:55:49,513 : INFO : EPOCH 13 - PROGRESS: at 3.26% examples, 794 words/s, in_qsize 5, out_qsize 0\n",
      "2019-04-18 20:56:00,576 : INFO : EPOCH 13 - PROGRESS: at 8.10% examples, 977 words/s, in_qsize 5, out_qsize 0\n",
      "2019-04-18 20:56:03,726 : INFO : EPOCH 13 - PROGRESS: at 9.90% examples, 1103 words/s, in_qsize 5, out_qsize 0\n",
      "2019-04-18 20:56:04,822 : INFO : EPOCH 13 - PROGRESS: at 11.14% examples, 1290 words/s, in_qsize 5, out_qsize 0\n",
      "2019-04-18 20:56:15,071 : INFO : EPOCH 13 - PROGRESS: at 13.17% examples, 1137 words/s, in_qsize 5, out_qsize 0\n",
      "2019-04-18 20:56:18,956 : INFO : EPOCH 13 - PROGRESS: at 15.53% examples, 1200 words/s, in_qsize 5, out_qsize 0\n",
      "2019-04-18 20:56:29,236 : INFO : EPOCH 13 - PROGRESS: at 19.86% examples, 1231 words/s, in_qsize 6, out_qsize 0\n",
      "2019-04-18 20:56:32,678 : INFO : EPOCH 13 - PROGRESS: at 21.78% examples, 1269 words/s, in_qsize 5, out_qsize 0\n",
      "2019-04-18 20:56:44,324 : INFO : EPOCH 13 - PROGRESS: at 25.44% examples, 1259 words/s, in_qsize 5, out_qsize 0\n",
      "2019-04-18 20:56:47,870 : INFO : EPOCH 13 - PROGRESS: at 27.86% examples, 1292 words/s, in_qsize 5, out_qsize 0\n",
      "2019-04-18 20:56:59,249 : INFO : EPOCH 13 - PROGRESS: at 32.81% examples, 1286 words/s, in_qsize 5, out_qsize 0\n",
      "2019-04-18 20:57:02,887 : INFO : EPOCH 13 - PROGRESS: at 34.72% examples, 1311 words/s, in_qsize 5, out_qsize 0\n",
      "2019-04-18 20:57:13,844 : INFO : EPOCH 13 - PROGRESS: at 38.38% examples, 1304 words/s, in_qsize 5, out_qsize 0\n",
      "2019-04-18 20:57:19,653 : INFO : EPOCH 13 - PROGRESS: at 40.63% examples, 1299 words/s, in_qsize 5, out_qsize 0\n",
      "2019-04-18 20:57:32,132 : INFO : EPOCH 13 - PROGRESS: at 44.46% examples, 1281 words/s, in_qsize 5, out_qsize 0\n",
      "2019-04-18 20:57:38,891 : INFO : EPOCH 13 - PROGRESS: at 46.54% examples, 1267 words/s, in_qsize 5, out_qsize 0\n",
      "2019-04-18 20:57:49,154 : INFO : EPOCH 13 - PROGRESS: at 51.72% examples, 1277 words/s, in_qsize 5, out_qsize 0\n",
      "2019-04-18 20:57:53,947 : INFO : EPOCH 13 - PROGRESS: at 53.85% examples, 1284 words/s, in_qsize 6, out_qsize 0\n",
      "2019-04-18 20:58:03,976 : INFO : EPOCH 13 - PROGRESS: at 58.24% examples, 1293 words/s, in_qsize 6, out_qsize 0\n",
      "2019-04-18 20:58:08,493 : INFO : EPOCH 13 - PROGRESS: at 60.61% examples, 1299 words/s, in_qsize 5, out_qsize 0\n",
      "2019-04-18 20:58:09,615 : INFO : EPOCH 13 - PROGRESS: at 62.58% examples, 1335 words/s, in_qsize 6, out_qsize 0\n",
      "2019-04-18 20:58:19,233 : INFO : EPOCH 13 - PROGRESS: at 63.82% examples, 1301 words/s, in_qsize 5, out_qsize 0\n",
      "2019-04-18 20:58:22,653 : INFO : EPOCH 13 - PROGRESS: at 64.55% examples, 1285 words/s, in_qsize 6, out_qsize 0\n",
      "2019-04-18 20:58:25,248 : INFO : EPOCH 13 - PROGRESS: at 67.53% examples, 1349 words/s, in_qsize 5, out_qsize 0\n",
      "2019-04-18 20:58:37,906 : INFO : EPOCH 13 - PROGRESS: at 67.75% examples, 1296 words/s, in_qsize 6, out_qsize 0\n",
      "2019-04-18 20:58:40,064 : INFO : EPOCH 13 - PROGRESS: at 72.71% examples, 1356 words/s, in_qsize 5, out_qsize 0\n",
      "2019-04-18 20:58:52,121 : INFO : EPOCH 13 - PROGRESS: at 75.35% examples, 1309 words/s, in_qsize 6, out_qsize 0\n",
      "2019-04-18 20:58:54,974 : INFO : EPOCH 13 - PROGRESS: at 80.42% examples, 1361 words/s, in_qsize 5, out_qsize 0\n",
      "2019-04-18 20:59:05,856 : INFO : EPOCH 13 - PROGRESS: at 83.06% examples, 1323 words/s, in_qsize 6, out_qsize 0\n",
      "2019-04-18 20:59:07,400 : INFO : EPOCH 13 - PROGRESS: at 85.37% examples, 1347 words/s, in_qsize 5, out_qsize 0\n",
      "2019-04-18 20:59:08,428 : INFO : EPOCH 13 - PROGRESS: at 86.94% examples, 1370 words/s, in_qsize 5, out_qsize 0\n",
      "2019-04-18 20:59:20,754 : INFO : EPOCH 13 - PROGRESS: at 89.36% examples, 1328 words/s, in_qsize 6, out_qsize 0\n",
      "2019-04-18 20:59:22,625 : INFO : EPOCH 13 - PROGRESS: at 91.56% examples, 1349 words/s, in_qsize 5, out_qsize 0\n",
      "2019-04-18 20:59:33,448 : INFO : EPOCH 13 - PROGRESS: at 95.72% examples, 1341 words/s, in_qsize 3, out_qsize 0\n",
      "2019-04-18 20:59:34,649 : INFO : EPOCH 13 - PROGRESS: at 95.89% examples, 1337 words/s, in_qsize 2, out_qsize 1\n",
      "2019-04-18 20:59:34,656 : INFO : worker thread finished; awaiting finish of 2 more threads\n",
      "2019-04-18 20:59:36,499 : INFO : EPOCH 13 - PROGRESS: at 97.86% examples, 1356 words/s, in_qsize 1, out_qsize 1\n",
      "2019-04-18 20:59:36,508 : INFO : worker thread finished; awaiting finish of 1 more threads\n",
      "2019-04-18 20:59:36,810 : INFO : worker thread finished; awaiting finish of 0 more threads\n",
      "2019-04-18 20:59:36,813 : INFO : EPOCH - 13 : training on 467827 raw words (336193 effective words) took 243.0s, 1384 effective words/s\n",
      "2019-04-18 20:59:52,495 : INFO : EPOCH 14 - PROGRESS: at 1.97% examples, 354 words/s, in_qsize 5, out_qsize 0\n",
      "2019-04-18 20:59:56,125 : INFO : EPOCH 14 - PROGRESS: at 3.26% examples, 643 words/s, in_qsize 6, out_qsize 0\n",
      "2019-04-18 21:00:09,296 : INFO : EPOCH 14 - PROGRESS: at 8.10% examples, 804 words/s, in_qsize 6, out_qsize 0\n",
      "2019-04-18 21:00:11,997 : INFO : EPOCH 14 - PROGRESS: at 9.90% examples, 938 words/s, in_qsize 6, out_qsize 0\n",
      "2019-04-18 21:00:23,883 : INFO : EPOCH 14 - PROGRESS: at 13.17% examples, 997 words/s, in_qsize 6, out_qsize 0\n",
      "2019-04-18 21:00:26,945 : INFO : EPOCH 14 - PROGRESS: at 15.03% examples, 1075 words/s, in_qsize 6, out_qsize 0\n",
      "2019-04-18 21:00:38,940 : INFO : EPOCH 14 - PROGRESS: at 19.86% examples, 1099 words/s, in_qsize 6, out_qsize 0\n",
      "2019-04-18 21:00:41,292 : INFO : EPOCH 14 - PROGRESS: at 21.78% examples, 1159 words/s, in_qsize 5, out_qsize 0\n",
      "2019-04-18 21:00:53,098 : INFO : EPOCH 14 - PROGRESS: at 25.44% examples, 1163 words/s, in_qsize 6, out_qsize 0\n",
      "2019-04-18 21:00:55,388 : INFO : EPOCH 14 - PROGRESS: at 27.86% examples, 1218 words/s, in_qsize 5, out_qsize 0\n",
      "2019-04-18 21:01:07,108 : INFO : EPOCH 14 - PROGRESS: at 32.81% examples, 1217 words/s, in_qsize 6, out_qsize 0\n",
      "2019-04-18 21:01:09,434 : INFO : EPOCH 14 - PROGRESS: at 34.72% examples, 1260 words/s, in_qsize 6, out_qsize 0\n",
      "2019-04-18 21:01:21,583 : INFO : EPOCH 14 - PROGRESS: at 38.38% examples, 1244 words/s, in_qsize 6, out_qsize 0\n",
      "2019-04-18 21:01:24,737 : INFO : EPOCH 14 - PROGRESS: at 40.52% examples, 1275 words/s, in_qsize 6, out_qsize 0\n",
      "2019-04-18 21:01:35,739 : INFO : EPOCH 14 - PROGRESS: at 44.46% examples, 1274 words/s, in_qsize 5, out_qsize 0\n",
      "2019-04-18 21:01:39,220 : INFO : EPOCH 14 - PROGRESS: at 46.54% examples, 1295 words/s, in_qsize 5, out_qsize 0\n",
      "2019-04-18 21:01:51,450 : INFO : EPOCH 14 - PROGRESS: at 51.72% examples, 1284 words/s, in_qsize 5, out_qsize 0\n"
     ]
    },
    {
     "name": "stderr",
     "output_type": "stream",
     "text": [
      "2019-04-18 21:01:55,531 : INFO : EPOCH 14 - PROGRESS: at 53.85% examples, 1298 words/s, in_qsize 5, out_qsize 0\n",
      "2019-04-18 21:02:10,851 : INFO : EPOCH 14 - PROGRESS: at 58.24% examples, 1261 words/s, in_qsize 6, out_qsize 0\n",
      "2019-04-18 21:02:14,664 : INFO : EPOCH 14 - PROGRESS: at 60.61% examples, 1274 words/s, in_qsize 5, out_qsize 0\n",
      "2019-04-18 21:02:16,155 : INFO : EPOCH 14 - PROGRESS: at 62.58% examples, 1306 words/s, in_qsize 6, out_qsize 0\n",
      "2019-04-18 21:02:28,493 : INFO : EPOCH 14 - PROGRESS: at 63.82% examples, 1254 words/s, in_qsize 5, out_qsize 0\n",
      "2019-04-18 21:02:30,917 : INFO : EPOCH 14 - PROGRESS: at 65.90% examples, 1277 words/s, in_qsize 5, out_qsize 0\n",
      "2019-04-18 21:02:32,385 : INFO : EPOCH 14 - PROGRESS: at 67.53% examples, 1317 words/s, in_qsize 5, out_qsize 0\n",
      "2019-04-18 21:02:45,503 : INFO : EPOCH 14 - PROGRESS: at 67.75% examples, 1265 words/s, in_qsize 5, out_qsize 0\n",
      "2019-04-18 21:02:46,555 : INFO : EPOCH 14 - PROGRESS: at 72.71% examples, 1331 words/s, in_qsize 5, out_qsize 0\n",
      "2019-04-18 21:02:59,729 : INFO : EPOCH 14 - PROGRESS: at 75.35% examples, 1279 words/s, in_qsize 6, out_qsize 0\n",
      "2019-04-18 21:03:01,694 : INFO : EPOCH 14 - PROGRESS: at 80.42% examples, 1336 words/s, in_qsize 5, out_qsize 0\n",
      "2019-04-18 21:03:13,660 : INFO : EPOCH 14 - PROGRESS: at 83.06% examples, 1294 words/s, in_qsize 5, out_qsize 0\n",
      "2019-04-18 21:03:14,727 : INFO : EPOCH 14 - PROGRESS: at 84.64% examples, 1317 words/s, in_qsize 5, out_qsize 0\n",
      "2019-04-18 21:03:28,923 : INFO : EPOCH 14 - PROGRESS: at 89.36% examples, 1298 words/s, in_qsize 6, out_qsize 0\n",
      "2019-04-18 21:03:30,432 : INFO : EPOCH 14 - PROGRESS: at 93.87% examples, 1350 words/s, in_qsize 4, out_qsize 0\n",
      "2019-04-18 21:03:41,429 : INFO : EPOCH 14 - PROGRESS: at 95.72% examples, 1315 words/s, in_qsize 3, out_qsize 0\n",
      "2019-04-18 21:03:42,549 : INFO : EPOCH 14 - PROGRESS: at 95.89% examples, 1311 words/s, in_qsize 2, out_qsize 1\n",
      "2019-04-18 21:03:42,553 : INFO : worker thread finished; awaiting finish of 2 more threads\n",
      "2019-04-18 21:03:43,594 : INFO : EPOCH 14 - PROGRESS: at 97.86% examples, 1334 words/s, in_qsize 1, out_qsize 1\n",
      "2019-04-18 21:03:43,600 : INFO : worker thread finished; awaiting finish of 1 more threads\n",
      "2019-04-18 21:03:43,862 : INFO : worker thread finished; awaiting finish of 0 more threads\n",
      "2019-04-18 21:03:43,864 : INFO : EPOCH - 14 : training on 467827 raw words (336319 effective words) took 247.0s, 1361 effective words/s\n",
      "2019-04-18 21:03:54,845 : INFO : EPOCH 15 - PROGRESS: at 1.97% examples, 507 words/s, in_qsize 6, out_qsize 0\n",
      "2019-04-18 21:03:57,578 : INFO : EPOCH 15 - PROGRESS: at 3.26% examples, 905 words/s, in_qsize 5, out_qsize 0\n",
      "2019-04-18 21:04:09,211 : INFO : EPOCH 15 - PROGRESS: at 8.10% examples, 1031 words/s, in_qsize 5, out_qsize 0\n",
      "2019-04-18 21:04:11,865 : INFO : EPOCH 15 - PROGRESS: at 9.90% examples, 1179 words/s, in_qsize 5, out_qsize 0\n",
      "2019-04-18 21:04:26,500 : INFO : EPOCH 15 - PROGRESS: at 13.17% examples, 1098 words/s, in_qsize 5, out_qsize 0\n",
      "2019-04-18 21:04:30,446 : INFO : EPOCH 15 - PROGRESS: at 15.53% examples, 1160 words/s, in_qsize 5, out_qsize 0\n",
      "2019-04-18 21:04:44,671 : INFO : EPOCH 15 - PROGRESS: at 19.86% examples, 1120 words/s, in_qsize 6, out_qsize 0\n",
      "2019-04-18 21:04:46,692 : INFO : EPOCH 15 - PROGRESS: at 21.78% examples, 1186 words/s, in_qsize 6, out_qsize 0\n",
      "2019-04-18 21:04:59,533 : INFO : EPOCH 15 - PROGRESS: at 25.44% examples, 1171 words/s, in_qsize 5, out_qsize 0\n",
      "2019-04-18 21:05:01,448 : INFO : EPOCH 15 - PROGRESS: at 27.86% examples, 1231 words/s, in_qsize 6, out_qsize 0\n",
      "2019-04-18 21:05:14,129 : INFO : EPOCH 15 - PROGRESS: at 32.81% examples, 1215 words/s, in_qsize 5, out_qsize 0\n",
      "2019-04-18 21:05:15,947 : INFO : EPOCH 15 - PROGRESS: at 34.72% examples, 1266 words/s, in_qsize 5, out_qsize 0\n",
      "2019-04-18 21:05:28,031 : INFO : EPOCH 15 - PROGRESS: at 38.38% examples, 1250 words/s, in_qsize 5, out_qsize 0\n",
      "2019-04-18 21:05:30,727 : INFO : EPOCH 15 - PROGRESS: at 40.52% examples, 1287 words/s, in_qsize 6, out_qsize 0\n",
      "2019-04-18 21:05:42,091 : INFO : EPOCH 15 - PROGRESS: at 44.46% examples, 1281 words/s, in_qsize 6, out_qsize 0\n",
      "2019-04-18 21:05:44,964 : INFO : EPOCH 15 - PROGRESS: at 46.54% examples, 1307 words/s, in_qsize 6, out_qsize 0\n",
      "2019-04-18 21:05:56,834 : INFO : EPOCH 15 - PROGRESS: at 51.72% examples, 1298 words/s, in_qsize 5, out_qsize 0\n",
      "2019-04-18 21:05:59,719 : INFO : EPOCH 15 - PROGRESS: at 53.85% examples, 1323 words/s, in_qsize 6, out_qsize 0\n",
      "2019-04-18 21:06:11,483 : INFO : EPOCH 15 - PROGRESS: at 58.24% examples, 1314 words/s, in_qsize 5, out_qsize 0\n",
      "2019-04-18 21:06:13,553 : INFO : EPOCH 15 - PROGRESS: at 60.61% examples, 1341 words/s, in_qsize 6, out_qsize 0\n",
      "2019-04-18 21:06:14,622 : INFO : EPOCH 15 - PROGRESS: at 62.58% examples, 1379 words/s, in_qsize 5, out_qsize 0\n",
      "2019-04-18 21:06:26,312 : INFO : EPOCH 15 - PROGRESS: at 63.82% examples, 1324 words/s, in_qsize 5, out_qsize 0\n",
      "2019-04-18 21:06:27,533 : INFO : EPOCH 15 - PROGRESS: at 65.90% examples, 1356 words/s, in_qsize 5, out_qsize 0\n",
      "2019-04-18 21:06:29,395 : INFO : EPOCH 15 - PROGRESS: at 66.80% examples, 1386 words/s, in_qsize 6, out_qsize 0\n",
      "2019-04-18 21:06:45,670 : INFO : EPOCH 15 - PROGRESS: at 67.75% examples, 1311 words/s, in_qsize 5, out_qsize 0\n",
      "2019-04-18 21:06:46,929 : INFO : EPOCH 15 - PROGRESS: at 70.12% examples, 1340 words/s, in_qsize 5, out_qsize 0\n",
      "2019-04-18 21:07:03,841 : INFO : EPOCH 15 - PROGRESS: at 75.35% examples, 1297 words/s, in_qsize 5, out_qsize 0\n",
      "2019-04-18 21:07:05,996 : INFO : EPOCH 15 - PROGRESS: at 80.42% examples, 1354 words/s, in_qsize 6, out_qsize 0\n",
      "2019-04-18 21:07:18,030 : INFO : EPOCH 15 - PROGRESS: at 83.06% examples, 1310 words/s, in_qsize 6, out_qsize 0\n",
      "2019-04-18 21:07:19,317 : INFO : EPOCH 15 - PROGRESS: at 84.64% examples, 1332 words/s, in_qsize 5, out_qsize 0\n",
      "2019-04-18 21:07:32,535 : INFO : EPOCH 15 - PROGRESS: at 89.36% examples, 1317 words/s, in_qsize 6, out_qsize 0\n",
      "2019-04-18 21:07:33,957 : INFO : EPOCH 15 - PROGRESS: at 91.67% examples, 1339 words/s, in_qsize 5, out_qsize 0\n",
      "2019-04-18 21:07:44,727 : INFO : EPOCH 15 - PROGRESS: at 95.72% examples, 1334 words/s, in_qsize 3, out_qsize 0\n",
      "2019-04-18 21:07:45,749 : INFO : EPOCH 15 - PROGRESS: at 95.89% examples, 1331 words/s, in_qsize 2, out_qsize 1\n",
      "2019-04-18 21:07:45,754 : INFO : worker thread finished; awaiting finish of 2 more threads\n",
      "2019-04-18 21:07:47,060 : INFO : EPOCH 15 - PROGRESS: at 97.86% examples, 1353 words/s, in_qsize 1, out_qsize 1\n",
      "2019-04-18 21:07:47,063 : INFO : worker thread finished; awaiting finish of 1 more threads\n",
      "2019-04-18 21:07:47,348 : INFO : worker thread finished; awaiting finish of 0 more threads\n",
      "2019-04-18 21:07:47,351 : INFO : EPOCH - 15 : training on 467827 raw words (336250 effective words) took 243.5s, 1381 effective words/s\n",
      "2019-04-18 21:07:59,245 : INFO : EPOCH 16 - PROGRESS: at 1.97% examples, 473 words/s, in_qsize 5, out_qsize 0\n",
      "2019-04-18 21:08:01,310 : INFO : EPOCH 16 - PROGRESS: at 3.26% examples, 894 words/s, in_qsize 5, out_qsize 0\n",
      "2019-04-18 21:08:12,752 : INFO : EPOCH 16 - PROGRESS: at 8.10% examples, 1032 words/s, in_qsize 5, out_qsize 0\n",
      "2019-04-18 21:08:15,154 : INFO : EPOCH 16 - PROGRESS: at 9.90% examples, 1190 words/s, in_qsize 6, out_qsize 0\n",
      "2019-04-18 21:08:16,380 : INFO : EPOCH 16 - PROGRESS: at 11.14% examples, 1380 words/s, in_qsize 6, out_qsize 0\n",
      "2019-04-18 21:08:27,097 : INFO : EPOCH 16 - PROGRESS: at 13.17% examples, 1182 words/s, in_qsize 6, out_qsize 0\n",
      "2019-04-18 21:08:30,140 : INFO : EPOCH 16 - PROGRESS: at 15.53% examples, 1267 words/s, in_qsize 6, out_qsize 0\n",
      "2019-04-18 21:08:42,155 : INFO : EPOCH 16 - PROGRESS: at 19.86% examples, 1245 words/s, in_qsize 5, out_qsize 0\n",
      "2019-04-18 21:08:44,481 : INFO : EPOCH 16 - PROGRESS: at 21.78% examples, 1307 words/s, in_qsize 5, out_qsize 0\n",
      "2019-04-18 21:08:57,536 : INFO : EPOCH 16 - PROGRESS: at 25.44% examples, 1265 words/s, in_qsize 6, out_qsize 0\n",
      "2019-04-18 21:08:59,701 : INFO : EPOCH 16 - PROGRESS: at 27.86% examples, 1323 words/s, in_qsize 5, out_qsize 0\n",
      "2019-04-18 21:09:01,286 : INFO : EPOCH 16 - PROGRESS: at 30.56% examples, 1393 words/s, in_qsize 5, out_qsize 0\n",
      "2019-04-18 21:09:16,890 : INFO : EPOCH 16 - PROGRESS: at 32.81% examples, 1227 words/s, in_qsize 5, out_qsize 0\n",
      "2019-04-18 21:09:19,445 : INFO : EPOCH 16 - PROGRESS: at 34.72% examples, 1267 words/s, in_qsize 5, out_qsize 0\n",
      "2019-04-18 21:09:20,648 : INFO : EPOCH 16 - PROGRESS: at 36.52% examples, 1325 words/s, in_qsize 6, out_qsize 0\n",
      "2019-04-18 21:09:31,926 : INFO : EPOCH 16 - PROGRESS: at 38.38% examples, 1247 words/s, in_qsize 6, out_qsize 0\n",
      "2019-04-18 21:09:34,766 : INFO : EPOCH 16 - PROGRESS: at 40.52% examples, 1282 words/s, in_qsize 6, out_qsize 0\n",
      "2019-04-18 21:09:45,360 : INFO : EPOCH 16 - PROGRESS: at 44.46% examples, 1285 words/s, in_qsize 6, out_qsize 0\n",
      "2019-04-18 21:09:48,457 : INFO : EPOCH 16 - PROGRESS: at 46.54% examples, 1309 words/s, in_qsize 5, out_qsize 0\n",
      "2019-04-18 21:09:49,609 : INFO : EPOCH 16 - PROGRESS: at 49.47% examples, 1355 words/s, in_qsize 6, out_qsize 0\n",
      "2019-04-18 21:09:59,854 : INFO : EPOCH 16 - PROGRESS: at 51.72% examples, 1305 words/s, in_qsize 5, out_qsize 0\n",
      "2019-04-18 21:10:02,899 : INFO : EPOCH 16 - PROGRESS: at 53.85% examples, 1329 words/s, in_qsize 6, out_qsize 0\n",
      "2019-04-18 21:10:14,618 : INFO : EPOCH 16 - PROGRESS: at 58.24% examples, 1319 words/s, in_qsize 6, out_qsize 0\n",
      "2019-04-18 21:10:16,843 : INFO : EPOCH 16 - PROGRESS: at 60.61% examples, 1345 words/s, in_qsize 5, out_qsize 0\n",
      "2019-04-18 21:10:18,392 : INFO : EPOCH 16 - PROGRESS: at 62.58% examples, 1378 words/s, in_qsize 5, out_qsize 0\n",
      "2019-04-18 21:10:29,009 : INFO : EPOCH 16 - PROGRESS: at 63.82% examples, 1333 words/s, in_qsize 5, out_qsize 0\n",
      "2019-04-18 21:10:30,743 : INFO : EPOCH 16 - PROGRESS: at 65.90% examples, 1361 words/s, in_qsize 5, out_qsize 0\n",
      "2019-04-18 21:10:32,463 : INFO : EPOCH 16 - PROGRESS: at 66.63% examples, 1357 words/s, in_qsize 5, out_qsize 0\n",
      "2019-04-18 21:10:45,004 : INFO : EPOCH 16 - PROGRESS: at 67.75% examples, 1344 words/s, in_qsize 6, out_qsize 0\n",
      "2019-04-18 21:10:46,456 : INFO : EPOCH 16 - PROGRESS: at 70.12% examples, 1372 words/s, in_qsize 5, out_qsize 0\n",
      "2019-04-18 21:10:59,476 : INFO : EPOCH 16 - PROGRESS: at 75.35% examples, 1352 words/s, in_qsize 6, out_qsize 0\n",
      "2019-04-18 21:11:00,654 : INFO : EPOCH 16 - PROGRESS: at 78.11% examples, 1380 words/s, in_qsize 5, out_qsize 0\n",
      "2019-04-18 21:11:02,011 : INFO : EPOCH 16 - PROGRESS: at 80.42% examples, 1407 words/s, in_qsize 6, out_qsize 0\n",
      "2019-04-18 21:11:13,654 : INFO : EPOCH 16 - PROGRESS: at 83.06% examples, 1361 words/s, in_qsize 6, out_qsize 0\n",
      "2019-04-18 21:11:15,735 : INFO : EPOCH 16 - PROGRESS: at 84.64% examples, 1379 words/s, in_qsize 6, out_qsize 0\n",
      "2019-04-18 21:11:33,060 : INFO : EPOCH 16 - PROGRESS: at 89.36% examples, 1336 words/s, in_qsize 5, out_qsize 0\n",
      "2019-04-18 21:11:35,052 : INFO : EPOCH 16 - PROGRESS: at 91.67% examples, 1354 words/s, in_qsize 5, out_qsize 0\n",
      "2019-04-18 21:11:47,416 : INFO : EPOCH 16 - PROGRESS: at 95.72% examples, 1340 words/s, in_qsize 3, out_qsize 0\n",
      "2019-04-18 21:11:48,542 : INFO : EPOCH 16 - PROGRESS: at 95.89% examples, 1336 words/s, in_qsize 2, out_qsize 1\n",
      "2019-04-18 21:11:48,546 : INFO : worker thread finished; awaiting finish of 2 more threads\n",
      "2019-04-18 21:11:50,091 : INFO : EPOCH 16 - PROGRESS: at 97.86% examples, 1356 words/s, in_qsize 1, out_qsize 1\n",
      "2019-04-18 21:11:50,094 : INFO : worker thread finished; awaiting finish of 1 more threads\n",
      "2019-04-18 21:11:50,321 : INFO : worker thread finished; awaiting finish of 0 more threads\n",
      "2019-04-18 21:11:50,323 : INFO : EPOCH - 16 : training on 467827 raw words (336475 effective words) took 243.0s, 1385 effective words/s\n",
      "2019-04-18 21:12:01,963 : INFO : EPOCH 17 - PROGRESS: at 1.97% examples, 478 words/s, in_qsize 5, out_qsize 0\n",
      "2019-04-18 21:12:04,518 : INFO : EPOCH 17 - PROGRESS: at 3.26% examples, 877 words/s, in_qsize 5, out_qsize 0\n",
      "2019-04-18 21:12:16,242 : INFO : EPOCH 17 - PROGRESS: at 8.10% examples, 1009 words/s, in_qsize 5, out_qsize 0\n",
      "2019-04-18 21:12:19,102 : INFO : EPOCH 17 - PROGRESS: at 9.90% examples, 1146 words/s, in_qsize 5, out_qsize 0\n",
      "2019-04-18 21:12:20,439 : INFO : EPOCH 17 - PROGRESS: at 11.14% examples, 1328 words/s, in_qsize 6, out_qsize 0\n",
      "2019-04-18 21:12:30,265 : INFO : EPOCH 17 - PROGRESS: at 13.17% examples, 1175 words/s, in_qsize 5, out_qsize 0\n",
      "2019-04-18 21:12:33,836 : INFO : EPOCH 17 - PROGRESS: at 15.53% examples, 1246 words/s, in_qsize 5, out_qsize 0\n",
      "2019-04-18 21:12:34,884 : INFO : EPOCH 17 - PROGRESS: at 17.39% examples, 1374 words/s, in_qsize 5, out_qsize 0\n",
      "2019-04-18 21:12:44,953 : INFO : EPOCH 17 - PROGRESS: at 19.86% examples, 1250 words/s, in_qsize 6, out_qsize 0\n",
      "2019-04-18 21:12:48,232 : INFO : EPOCH 17 - PROGRESS: at 21.38% examples, 1298 words/s, in_qsize 5, out_qsize 0\n",
      "2019-04-18 21:12:59,621 : INFO : EPOCH 17 - PROGRESS: at 25.44% examples, 1281 words/s, in_qsize 5, out_qsize 0\n",
      "2019-04-18 21:13:02,759 : INFO : EPOCH 17 - PROGRESS: at 27.86% examples, 1321 words/s, in_qsize 5, out_qsize 0\n",
      "2019-04-18 21:13:13,913 : INFO : EPOCH 17 - PROGRESS: at 32.81% examples, 1314 words/s, in_qsize 5, out_qsize 0\n",
      "2019-04-18 21:13:17,213 : INFO : EPOCH 17 - PROGRESS: at 34.72% examples, 1343 words/s, in_qsize 5, out_qsize 0\n",
      "2019-04-18 21:13:28,517 : INFO : EPOCH 17 - PROGRESS: at 38.38% examples, 1328 words/s, in_qsize 5, out_qsize 0\n",
      "2019-04-18 21:13:32,789 : INFO : EPOCH 17 - PROGRESS: at 40.52% examples, 1344 words/s, in_qsize 5, out_qsize 0\n",
      "2019-04-18 21:13:44,746 : INFO : EPOCH 17 - PROGRESS: at 44.46% examples, 1325 words/s, in_qsize 6, out_qsize 0\n",
      "2019-04-18 21:13:51,277 : INFO : EPOCH 17 - PROGRESS: at 46.54% examples, 1310 words/s, in_qsize 6, out_qsize 0\n",
      "2019-04-18 21:13:52,408 : INFO : EPOCH 17 - PROGRESS: at 49.47% examples, 1356 words/s, in_qsize 6, out_qsize 0\n",
      "2019-04-18 21:14:03,993 : INFO : EPOCH 17 - PROGRESS: at 51.72% examples, 1293 words/s, in_qsize 5, out_qsize 0\n",
      "2019-04-18 21:14:08,578 : INFO : EPOCH 17 - PROGRESS: at 53.85% examples, 1302 words/s, in_qsize 5, out_qsize 0\n",
      "2019-04-18 21:14:18,454 : INFO : EPOCH 17 - PROGRESS: at 58.24% examples, 1311 words/s, in_qsize 6, out_qsize 0\n",
      "2019-04-18 21:14:22,390 : INFO : EPOCH 17 - PROGRESS: at 60.61% examples, 1322 words/s, in_qsize 5, out_qsize 0\n",
      "2019-04-18 21:14:23,430 : INFO : EPOCH 17 - PROGRESS: at 62.58% examples, 1359 words/s, in_qsize 6, out_qsize 0\n",
      "2019-04-18 21:14:33,212 : INFO : EPOCH 17 - PROGRESS: at 63.82% examples, 1322 words/s, in_qsize 5, out_qsize 0\n",
      "2019-04-18 21:14:36,710 : INFO : EPOCH 17 - PROGRESS: at 65.90% examples, 1336 words/s, in_qsize 5, out_qsize 0\n",
      "2019-04-18 21:14:38,652 : INFO : EPOCH 17 - PROGRESS: at 67.53% examples, 1375 words/s, in_qsize 6, out_qsize 0\n",
      "2019-04-18 21:14:51,467 : INFO : EPOCH 17 - PROGRESS: at 69.89% examples, 1316 words/s, in_qsize 5, out_qsize 0\n",
      "2019-04-18 21:14:53,594 : INFO : EPOCH 17 - PROGRESS: at 72.71% examples, 1379 words/s, in_qsize 5, out_qsize 0\n",
      "2019-04-18 21:15:06,035 : INFO : EPOCH 17 - PROGRESS: at 75.35% examples, 1327 words/s, in_qsize 5, out_qsize 0\n",
      "2019-04-18 21:15:09,375 : INFO : EPOCH 17 - PROGRESS: at 80.42% examples, 1377 words/s, in_qsize 6, out_qsize 0\n",
      "2019-04-18 21:15:20,453 : INFO : EPOCH 17 - PROGRESS: at 83.06% examples, 1336 words/s, in_qsize 5, out_qsize 0\n",
      "2019-04-18 21:15:21,953 : INFO : EPOCH 17 - PROGRESS: at 85.37% examples, 1361 words/s, in_qsize 5, out_qsize 0\n",
      "2019-04-18 21:15:35,213 : INFO : EPOCH 17 - PROGRESS: at 89.36% examples, 1341 words/s, in_qsize 5, out_qsize 0\n",
      "2019-04-18 21:15:36,720 : INFO : EPOCH 17 - PROGRESS: at 91.67% examples, 1362 words/s, in_qsize 5, out_qsize 0\n",
      "2019-04-18 21:15:47,650 : INFO : EPOCH 17 - PROGRESS: at 95.72% examples, 1356 words/s, in_qsize 3, out_qsize 0\n",
      "2019-04-18 21:15:48,726 : INFO : EPOCH 17 - PROGRESS: at 95.89% examples, 1352 words/s, in_qsize 2, out_qsize 1\n",
      "2019-04-18 21:15:48,731 : INFO : worker thread finished; awaiting finish of 2 more threads\n",
      "2019-04-18 21:15:50,095 : INFO : EPOCH 17 - PROGRESS: at 97.86% examples, 1373 words/s, in_qsize 1, out_qsize 1\n",
      "2019-04-18 21:15:50,102 : INFO : worker thread finished; awaiting finish of 1 more threads\n",
      "2019-04-18 21:15:50,362 : INFO : worker thread finished; awaiting finish of 0 more threads\n"
     ]
    },
    {
     "name": "stderr",
     "output_type": "stream",
     "text": [
      "2019-04-18 21:15:50,365 : INFO : EPOCH - 17 : training on 467827 raw words (336536 effective words) took 240.0s, 1402 effective words/s\n",
      "2019-04-18 21:16:04,268 : INFO : EPOCH 18 - PROGRESS: at 1.97% examples, 402 words/s, in_qsize 5, out_qsize 0\n",
      "2019-04-18 21:16:07,837 : INFO : EPOCH 18 - PROGRESS: at 3.26% examples, 713 words/s, in_qsize 5, out_qsize 0\n",
      "2019-04-18 21:16:22,323 : INFO : EPOCH 18 - PROGRESS: at 8.10% examples, 819 words/s, in_qsize 6, out_qsize 0\n",
      "2019-04-18 21:16:25,234 : INFO : EPOCH 18 - PROGRESS: at 9.90% examples, 947 words/s, in_qsize 6, out_qsize 0\n",
      "2019-04-18 21:16:36,731 : INFO : EPOCH 18 - PROGRESS: at 13.17% examples, 1013 words/s, in_qsize 5, out_qsize 0\n",
      "2019-04-18 21:16:40,060 : INFO : EPOCH 18 - PROGRESS: at 15.03% examples, 1086 words/s, in_qsize 6, out_qsize 0\n",
      "2019-04-18 21:16:51,091 : INFO : EPOCH 18 - PROGRESS: at 19.86% examples, 1124 words/s, in_qsize 5, out_qsize 0\n",
      "2019-04-18 21:16:53,475 : INFO : EPOCH 18 - PROGRESS: at 21.78% examples, 1183 words/s, in_qsize 5, out_qsize 0\n",
      "2019-04-18 21:16:54,498 : INFO : EPOCH 18 - PROGRESS: at 23.30% examples, 1272 words/s, in_qsize 6, out_qsize 0\n",
      "2019-04-18 21:17:06,680 : INFO : EPOCH 18 - PROGRESS: at 25.44% examples, 1163 words/s, in_qsize 5, out_qsize 0\n",
      "2019-04-18 21:17:09,949 : INFO : EPOCH 18 - PROGRESS: at 28.14% examples, 1207 words/s, in_qsize 5, out_qsize 0\n",
      "2019-04-18 21:17:23,289 : INFO : EPOCH 18 - PROGRESS: at 32.81% examples, 1182 words/s, in_qsize 6, out_qsize 0\n",
      "2019-04-18 21:17:26,221 : INFO : EPOCH 18 - PROGRESS: at 34.72% examples, 1217 words/s, in_qsize 5, out_qsize 0\n",
      "2019-04-18 21:17:39,400 : INFO : EPOCH 18 - PROGRESS: at 38.38% examples, 1195 words/s, in_qsize 5, out_qsize 0\n",
      "2019-04-18 21:17:42,765 : INFO : EPOCH 18 - PROGRESS: at 40.52% examples, 1224 words/s, in_qsize 5, out_qsize 0\n",
      "2019-04-18 21:17:53,149 : INFO : EPOCH 18 - PROGRESS: at 44.46% examples, 1234 words/s, in_qsize 5, out_qsize 0\n",
      "2019-04-18 21:17:56,913 : INFO : EPOCH 18 - PROGRESS: at 46.54% examples, 1252 words/s, in_qsize 5, out_qsize 0\n",
      "2019-04-18 21:18:08,069 : INFO : EPOCH 18 - PROGRESS: at 51.72% examples, 1254 words/s, in_qsize 6, out_qsize 0\n",
      "2019-04-18 21:18:12,265 : INFO : EPOCH 18 - PROGRESS: at 53.85% examples, 1267 words/s, in_qsize 6, out_qsize 0\n",
      "2019-04-18 21:18:25,938 : INFO : EPOCH 18 - PROGRESS: at 58.24% examples, 1248 words/s, in_qsize 5, out_qsize 0\n",
      "2019-04-18 21:18:30,358 : INFO : EPOCH 18 - PROGRESS: at 60.61% examples, 1255 words/s, in_qsize 5, out_qsize 0\n",
      "2019-04-18 21:18:31,957 : INFO : EPOCH 18 - PROGRESS: at 62.58% examples, 1287 words/s, in_qsize 5, out_qsize 0\n",
      "2019-04-18 21:18:44,534 : INFO : EPOCH 18 - PROGRESS: at 63.82% examples, 1235 words/s, in_qsize 5, out_qsize 0\n",
      "2019-04-18 21:18:47,416 : INFO : EPOCH 18 - PROGRESS: at 65.90% examples, 1254 words/s, in_qsize 6, out_qsize 0\n",
      "2019-04-18 21:18:49,077 : INFO : EPOCH 18 - PROGRESS: at 67.53% examples, 1293 words/s, in_qsize 5, out_qsize 0\n",
      "2019-04-18 21:19:02,048 : INFO : EPOCH 18 - PROGRESS: at 69.89% examples, 1242 words/s, in_qsize 5, out_qsize 0\n",
      "2019-04-18 21:19:03,437 : INFO : EPOCH 18 - PROGRESS: at 72.71% examples, 1307 words/s, in_qsize 5, out_qsize 0\n",
      "2019-04-18 21:19:16,468 : INFO : EPOCH 18 - PROGRESS: at 75.35% examples, 1258 words/s, in_qsize 5, out_qsize 0\n",
      "2019-04-18 21:19:18,419 : INFO : EPOCH 18 - PROGRESS: at 80.42% examples, 1315 words/s, in_qsize 5, out_qsize 0\n",
      "2019-04-18 21:19:30,479 : INFO : EPOCH 18 - PROGRESS: at 83.06% examples, 1274 words/s, in_qsize 5, out_qsize 0\n",
      "2019-04-18 21:19:31,737 : INFO : EPOCH 18 - PROGRESS: at 84.64% examples, 1296 words/s, in_qsize 5, out_qsize 0\n",
      "2019-04-18 21:19:45,310 : INFO : EPOCH 18 - PROGRESS: at 89.36% examples, 1282 words/s, in_qsize 6, out_qsize 0\n",
      "2019-04-18 21:19:46,659 : INFO : EPOCH 18 - PROGRESS: at 93.87% examples, 1335 words/s, in_qsize 4, out_qsize 0\n",
      "2019-04-18 21:19:57,675 : INFO : EPOCH 18 - PROGRESS: at 95.72% examples, 1300 words/s, in_qsize 3, out_qsize 0\n",
      "2019-04-18 21:19:58,771 : INFO : EPOCH 18 - PROGRESS: at 95.89% examples, 1296 words/s, in_qsize 2, out_qsize 1\n",
      "2019-04-18 21:19:58,777 : INFO : worker thread finished; awaiting finish of 2 more threads\n",
      "2019-04-18 21:20:00,044 : INFO : EPOCH 18 - PROGRESS: at 97.86% examples, 1318 words/s, in_qsize 1, out_qsize 1\n",
      "2019-04-18 21:20:00,053 : INFO : worker thread finished; awaiting finish of 1 more threads\n",
      "2019-04-18 21:20:00,188 : INFO : worker thread finished; awaiting finish of 0 more threads\n",
      "2019-04-18 21:20:00,190 : INFO : EPOCH - 18 : training on 467827 raw words (336186 effective words) took 249.8s, 1346 effective words/s\n",
      "2019-04-18 21:20:11,941 : INFO : EPOCH 19 - PROGRESS: at 1.97% examples, 475 words/s, in_qsize 6, out_qsize 0\n",
      "2019-04-18 21:20:14,647 : INFO : EPOCH 19 - PROGRESS: at 3.26% examples, 860 words/s, in_qsize 5, out_qsize 0\n",
      "2019-04-18 21:20:25,807 : INFO : EPOCH 19 - PROGRESS: at 8.10% examples, 1021 words/s, in_qsize 6, out_qsize 0\n",
      "2019-04-18 21:20:28,811 : INFO : EPOCH 19 - PROGRESS: at 9.90% examples, 1155 words/s, in_qsize 5, out_qsize 0\n",
      "2019-04-18 21:20:41,477 : INFO : EPOCH 19 - PROGRESS: at 13.17% examples, 1138 words/s, in_qsize 6, out_qsize 0\n",
      "2019-04-18 21:20:46,666 : INFO : EPOCH 19 - PROGRESS: at 15.03% examples, 1162 words/s, in_qsize 5, out_qsize 0\n",
      "2019-04-18 21:21:00,942 : INFO : EPOCH 19 - PROGRESS: at 19.86% examples, 1123 words/s, in_qsize 5, out_qsize 0\n",
      "2019-04-18 21:21:03,892 : INFO : EPOCH 19 - PROGRESS: at 21.78% examples, 1172 words/s, in_qsize 5, out_qsize 0\n",
      "2019-04-18 21:21:15,734 : INFO : EPOCH 19 - PROGRESS: at 25.44% examples, 1174 words/s, in_qsize 5, out_qsize 0\n",
      "2019-04-18 21:21:18,905 : INFO : EPOCH 19 - PROGRESS: at 27.86% examples, 1214 words/s, in_qsize 5, out_qsize 0\n",
      "2019-04-18 21:21:29,703 : INFO : EPOCH 19 - PROGRESS: at 32.81% examples, 1227 words/s, in_qsize 5, out_qsize 0\n",
      "2019-04-18 21:21:32,949 : INFO : EPOCH 19 - PROGRESS: at 34.72% examples, 1258 words/s, in_qsize 5, out_qsize 0\n",
      "2019-04-18 21:21:43,957 : INFO : EPOCH 19 - PROGRESS: at 38.38% examples, 1256 words/s, in_qsize 5, out_qsize 0\n",
      "2019-04-18 21:21:48,046 : INFO : EPOCH 19 - PROGRESS: at 40.52% examples, 1277 words/s, in_qsize 6, out_qsize 0\n",
      "2019-04-18 21:21:57,964 : INFO : EPOCH 19 - PROGRESS: at 44.46% examples, 1287 words/s, in_qsize 6, out_qsize 0\n",
      "2019-04-18 21:22:02,265 : INFO : EPOCH 19 - PROGRESS: at 46.54% examples, 1299 words/s, in_qsize 5, out_qsize 0\n",
      "2019-04-18 21:22:13,127 : INFO : EPOCH 19 - PROGRESS: at 51.72% examples, 1301 words/s, in_qsize 5, out_qsize 0\n",
      "2019-04-18 21:22:17,291 : INFO : EPOCH 19 - PROGRESS: at 53.85% examples, 1313 words/s, in_qsize 6, out_qsize 0\n",
      "2019-04-18 21:22:27,873 : INFO : EPOCH 19 - PROGRESS: at 58.24% examples, 1315 words/s, in_qsize 6, out_qsize 0\n",
      "2019-04-18 21:22:31,438 : INFO : EPOCH 19 - PROGRESS: at 60.61% examples, 1329 words/s, in_qsize 5, out_qsize 0\n",
      "2019-04-18 21:22:32,608 : INFO : EPOCH 19 - PROGRESS: at 62.58% examples, 1365 words/s, in_qsize 5, out_qsize 0\n",
      "2019-04-18 21:22:43,062 : INFO : EPOCH 19 - PROGRESS: at 63.82% examples, 1322 words/s, in_qsize 5, out_qsize 0\n",
      "2019-04-18 21:22:45,950 : INFO : EPOCH 19 - PROGRESS: at 65.90% examples, 1341 words/s, in_qsize 5, out_qsize 0\n",
      "2019-04-18 21:22:48,443 : INFO : EPOCH 19 - PROGRESS: at 67.53% examples, 1375 words/s, in_qsize 6, out_qsize 0\n",
      "2019-04-18 21:23:02,518 : INFO : EPOCH 19 - PROGRESS: at 69.89% examples, 1307 words/s, in_qsize 5, out_qsize 0\n",
      "2019-04-18 21:23:05,344 : INFO : EPOCH 19 - PROGRESS: at 72.71% examples, 1364 words/s, in_qsize 6, out_qsize 0\n",
      "2019-04-18 21:23:21,728 : INFO : EPOCH 19 - PROGRESS: at 75.46% examples, 1288 words/s, in_qsize 5, out_qsize 0\n",
      "2019-04-18 21:23:24,635 : INFO : EPOCH 19 - PROGRESS: at 80.42% examples, 1339 words/s, in_qsize 5, out_qsize 0\n",
      "2019-04-18 21:23:36,126 : INFO : EPOCH 19 - PROGRESS: at 83.06% examples, 1299 words/s, in_qsize 5, out_qsize 0\n",
      "2019-04-18 21:23:38,407 : INFO : EPOCH 19 - PROGRESS: at 86.94% examples, 1348 words/s, in_qsize 5, out_qsize 0\n",
      "2019-04-18 21:23:50,685 : INFO : EPOCH 19 - PROGRESS: at 89.36% examples, 1308 words/s, in_qsize 5, out_qsize 0\n",
      "2019-04-18 21:23:52,022 : INFO : EPOCH 19 - PROGRESS: at 91.56% examples, 1332 words/s, in_qsize 5, out_qsize 0\n",
      "2019-04-18 21:24:03,229 : INFO : EPOCH 19 - PROGRESS: at 95.72% examples, 1323 words/s, in_qsize 3, out_qsize 0\n",
      "2019-04-18 21:24:04,471 : INFO : EPOCH 19 - PROGRESS: at 95.89% examples, 1319 words/s, in_qsize 2, out_qsize 1\n",
      "2019-04-18 21:24:04,480 : INFO : worker thread finished; awaiting finish of 2 more threads\n",
      "2019-04-18 21:24:05,612 : INFO : EPOCH 19 - PROGRESS: at 97.86% examples, 1341 words/s, in_qsize 1, out_qsize 1\n",
      "2019-04-18 21:24:05,616 : INFO : worker thread finished; awaiting finish of 1 more threads\n",
      "2019-04-18 21:24:05,871 : INFO : worker thread finished; awaiting finish of 0 more threads\n",
      "2019-04-18 21:24:05,873 : INFO : EPOCH - 19 : training on 467827 raw words (336409 effective words) took 245.7s, 1369 effective words/s\n",
      "2019-04-18 21:24:17,197 : INFO : EPOCH 20 - PROGRESS: at 1.97% examples, 492 words/s, in_qsize 6, out_qsize 0\n",
      "2019-04-18 21:24:19,975 : INFO : EPOCH 20 - PROGRESS: at 4.67% examples, 890 words/s, in_qsize 6, out_qsize 0\n",
      "2019-04-18 21:24:30,836 : INFO : EPOCH 20 - PROGRESS: at 8.10% examples, 1047 words/s, in_qsize 6, out_qsize 0\n",
      "2019-04-18 21:24:33,732 : INFO : EPOCH 20 - PROGRESS: at 9.90% examples, 1185 words/s, in_qsize 5, out_qsize 0\n",
      "2019-04-18 21:24:45,226 : INFO : EPOCH 20 - PROGRESS: at 13.17% examples, 1192 words/s, in_qsize 5, out_qsize 0\n",
      "2019-04-18 21:24:49,061 : INFO : EPOCH 20 - PROGRESS: at 15.53% examples, 1253 words/s, in_qsize 6, out_qsize 0\n",
      "2019-04-18 21:24:59,735 : INFO : EPOCH 20 - PROGRESS: at 19.86% examples, 1266 words/s, in_qsize 5, out_qsize 0\n",
      "2019-04-18 21:25:03,301 : INFO : EPOCH 20 - PROGRESS: at 21.78% examples, 1299 words/s, in_qsize 5, out_qsize 0\n",
      "2019-04-18 21:25:14,502 : INFO : EPOCH 20 - PROGRESS: at 25.44% examples, 1292 words/s, in_qsize 6, out_qsize 0\n",
      "2019-04-18 21:25:18,465 : INFO : EPOCH 20 - PROGRESS: at 27.86% examples, 1316 words/s, in_qsize 6, out_qsize 0\n",
      "2019-04-18 21:25:19,864 : INFO : EPOCH 20 - PROGRESS: at 30.56% examples, 1389 words/s, in_qsize 5, out_qsize 0\n",
      "2019-04-18 21:25:33,322 : INFO : EPOCH 20 - PROGRESS: at 32.81% examples, 1254 words/s, in_qsize 5, out_qsize 0\n",
      "2019-04-18 21:25:37,259 : INFO : EPOCH 20 - PROGRESS: at 34.72% examples, 1275 words/s, in_qsize 5, out_qsize 0\n",
      "2019-04-18 21:25:38,970 : INFO : EPOCH 20 - PROGRESS: at 36.52% examples, 1326 words/s, in_qsize 5, out_qsize 0\n",
      "2019-04-18 21:25:49,106 : INFO : EPOCH 20 - PROGRESS: at 38.38% examples, 1262 words/s, in_qsize 5, out_qsize 0\n",
      "2019-04-18 21:25:52,780 : INFO : EPOCH 20 - PROGRESS: at 40.52% examples, 1286 words/s, in_qsize 6, out_qsize 0\n",
      "2019-04-18 21:25:54,053 : INFO : EPOCH 20 - PROGRESS: at 42.77% examples, 1337 words/s, in_qsize 5, out_qsize 0\n",
      "2019-04-18 21:26:02,905 : INFO : EPOCH 20 - PROGRESS: at 44.46% examples, 1294 words/s, in_qsize 5, out_qsize 0\n",
      "2019-04-18 21:26:06,606 : INFO : EPOCH 20 - PROGRESS: at 46.54% examples, 1312 words/s, in_qsize 5, out_qsize 0\n",
      "2019-04-18 21:26:08,995 : INFO : EPOCH 20 - PROGRESS: at 49.47% examples, 1344 words/s, in_qsize 5, out_qsize 0\n",
      "2019-04-18 21:26:17,907 : INFO : EPOCH 20 - PROGRESS: at 51.72% examples, 1309 words/s, in_qsize 6, out_qsize 0\n",
      "2019-04-18 21:26:21,340 : INFO : EPOCH 20 - PROGRESS: at 53.85% examples, 1328 words/s, in_qsize 5, out_qsize 0\n",
      "2019-04-18 21:26:23,927 : INFO : EPOCH 20 - PROGRESS: at 56.22% examples, 1355 words/s, in_qsize 5, out_qsize 0\n",
      "2019-04-18 21:26:32,715 : INFO : EPOCH 20 - PROGRESS: at 58.24% examples, 1322 words/s, in_qsize 5, out_qsize 0\n",
      "2019-04-18 21:26:35,672 : INFO : EPOCH 20 - PROGRESS: at 60.61% examples, 1341 words/s, in_qsize 5, out_qsize 0\n",
      "2019-04-18 21:26:38,802 : INFO : EPOCH 20 - PROGRESS: at 62.58% examples, 1360 words/s, in_qsize 5, out_qsize 0\n",
      "2019-04-18 21:26:47,479 : INFO : EPOCH 20 - PROGRESS: at 63.82% examples, 1332 words/s, in_qsize 6, out_qsize 0\n",
      "2019-04-18 21:26:49,798 : INFO : EPOCH 20 - PROGRESS: at 65.90% examples, 1355 words/s, in_qsize 5, out_qsize 0\n",
      "2019-04-18 21:26:51,051 : INFO : EPOCH 20 - PROGRESS: at 66.63% examples, 1355 words/s, in_qsize 6, out_qsize 0\n",
      "2019-04-18 21:26:53,973 : INFO : EPOCH 20 - PROGRESS: at 67.53% examples, 1375 words/s, in_qsize 6, out_qsize 0\n",
      "2019-04-18 21:27:04,725 : INFO : EPOCH 20 - PROGRESS: at 67.75% examples, 1334 words/s, in_qsize 6, out_qsize 0\n",
      "2019-04-18 21:27:08,316 : INFO : EPOCH 20 - PROGRESS: at 72.71% examples, 1384 words/s, in_qsize 6, out_qsize 0\n",
      "2019-04-18 21:27:19,034 : INFO : EPOCH 20 - PROGRESS: at 75.35% examples, 1343 words/s, in_qsize 5, out_qsize 0\n",
      "2019-04-18 21:27:23,751 : INFO : EPOCH 20 - PROGRESS: at 80.42% examples, 1383 words/s, in_qsize 5, out_qsize 0\n",
      "2019-04-18 21:27:32,880 : INFO : EPOCH 20 - PROGRESS: at 83.06% examples, 1355 words/s, in_qsize 5, out_qsize 0\n",
      "2019-04-18 21:27:34,216 : INFO : EPOCH 20 - PROGRESS: at 85.37% examples, 1381 words/s, in_qsize 5, out_qsize 0\n",
      "2019-04-18 21:27:37,887 : INFO : EPOCH 20 - PROGRESS: at 86.94% examples, 1387 words/s, in_qsize 5, out_qsize 0\n",
      "2019-04-18 21:27:51,480 : INFO : EPOCH 20 - PROGRESS: at 89.36% examples, 1335 words/s, in_qsize 5, out_qsize 0\n",
      "2019-04-18 21:27:54,438 : INFO : EPOCH 20 - PROGRESS: at 91.56% examples, 1350 words/s, in_qsize 5, out_qsize 0\n",
      "2019-04-18 21:27:56,801 : INFO : EPOCH 20 - PROGRESS: at 93.87% examples, 1366 words/s, in_qsize 4, out_qsize 0\n",
      "2019-04-18 21:28:06,143 : INFO : EPOCH 20 - PROGRESS: at 95.72% examples, 1338 words/s, in_qsize 3, out_qsize 0\n",
      "2019-04-18 21:28:07,374 : INFO : EPOCH 20 - PROGRESS: at 95.89% examples, 1333 words/s, in_qsize 2, out_qsize 1\n",
      "2019-04-18 21:28:07,382 : INFO : worker thread finished; awaiting finish of 2 more threads\n",
      "2019-04-18 21:28:09,410 : INFO : EPOCH 20 - PROGRESS: at 97.86% examples, 1351 words/s, in_qsize 1, out_qsize 1\n",
      "2019-04-18 21:28:09,418 : INFO : worker thread finished; awaiting finish of 1 more threads\n",
      "2019-04-18 21:28:09,898 : INFO : worker thread finished; awaiting finish of 0 more threads\n",
      "2019-04-18 21:28:09,902 : INFO : EPOCH - 20 : training on 467827 raw words (336163 effective words) took 244.0s, 1378 effective words/s\n",
      "2019-04-18 21:28:09,907 : INFO : training on a 9356540 raw words (6726945 effective words) took 5434.5s, 1238 effective words/s\n"
     ]
    },
    {
     "data": {
      "text/plain": [
       "(6726945, 9356540)"
      ]
     },
     "execution_count": 130,
     "metadata": {},
     "output_type": "execute_result"
    }
   ],
   "source": [
    "model = gensim.models.Word2Vec(iter=1)  # Инициализируем модель.\n",
    "model.build_vocab(sentences)  # Строим словарь.\n",
    "model.train(sentences, total_examples=model.corpus_count, epochs=20)  # Тренируем модель."
   ]
  },
  {
   "cell_type": "markdown",
   "metadata": {},
   "source": [
    "Сохраним модель и проверим всё ли работаешь хорошо (правильно ли сохранил модель)"
   ]
  },
  {
   "cell_type": "code",
   "execution_count": 167,
   "metadata": {},
   "outputs": [
    {
     "name": "stderr",
     "output_type": "stream",
     "text": [
      "2019-04-19 10:23:24,642 : INFO : storing 6776x100 projection weights into model.bin\n",
      "2019-04-19 10:23:24,737 : WARNING : this function is deprecated, use smart_open.open instead\n"
     ]
    }
   ],
   "source": [
    "model.wv.save_word2vec_format('model.bin', binary=True)"
   ]
  },
  {
   "cell_type": "code",
   "execution_count": 169,
   "metadata": {},
   "outputs": [
    {
     "data": {
      "text/plain": [
       "(955, 100)"
      ]
     },
     "execution_count": 169,
     "metadata": {},
     "output_type": "execute_result"
    }
   ],
   "source": [
    "shape(embeddings)"
   ]
  },
  {
   "cell_type": "code",
   "execution_count": 13,
   "metadata": {
    "collapsed": true
   },
   "outputs": [
    {
     "name": "stderr",
     "output_type": "stream",
     "text": [
      "2019-04-22 14:24:09,783 : INFO : loading projection weights from model.bin\n",
      "2019-04-22 14:24:09,786 : WARNING : this function is deprecated, use smart_open.open instead\n"
     ]
    },
    {
     "ename": "UnicodeDecodeError",
     "evalue": "'utf-8' codec can't decode byte 0x80 in position 32: invalid start byte",
     "output_type": "error",
     "traceback": [
      "\u001b[1;31m---------------------------------------------------------------------------\u001b[0m",
      "\u001b[1;31mUnicodeDecodeError\u001b[0m                        Traceback (most recent call last)",
      "\u001b[1;32m<ipython-input-13-a4ce2b7cd63b>\u001b[0m in \u001b[0;36m<module>\u001b[1;34m\u001b[0m\n\u001b[0;32m      3\u001b[0m model = gensim.models.KeyedVectors.load_word2vec_format(\n\u001b[0;32m      4\u001b[0m     \u001b[0mpath_to_test\u001b[0m\u001b[1;33m,\u001b[0m\u001b[1;33m\u001b[0m\u001b[0m\n\u001b[1;32m----> 5\u001b[1;33m     \u001b[0mbinary\u001b[0m\u001b[1;33m=\u001b[0m\u001b[1;32mTrue\u001b[0m\u001b[1;33m\u001b[0m\u001b[0m\n\u001b[0m\u001b[0;32m      6\u001b[0m )\n",
      "\u001b[1;32m~\\AppData\\Roaming\\Python\\Python36\\site-packages\\gensim\\models\\keyedvectors.py\u001b[0m in \u001b[0;36mload_word2vec_format\u001b[1;34m(cls, fname, fvocab, binary, encoding, unicode_errors, limit, datatype)\u001b[0m\n\u001b[0;32m   1474\u001b[0m         return _load_word2vec_format(\n\u001b[0;32m   1475\u001b[0m             \u001b[0mcls\u001b[0m\u001b[1;33m,\u001b[0m \u001b[0mfname\u001b[0m\u001b[1;33m,\u001b[0m \u001b[0mfvocab\u001b[0m\u001b[1;33m=\u001b[0m\u001b[0mfvocab\u001b[0m\u001b[1;33m,\u001b[0m \u001b[0mbinary\u001b[0m\u001b[1;33m=\u001b[0m\u001b[0mbinary\u001b[0m\u001b[1;33m,\u001b[0m \u001b[0mencoding\u001b[0m\u001b[1;33m=\u001b[0m\u001b[0mencoding\u001b[0m\u001b[1;33m,\u001b[0m \u001b[0municode_errors\u001b[0m\u001b[1;33m=\u001b[0m\u001b[0municode_errors\u001b[0m\u001b[1;33m,\u001b[0m\u001b[1;33m\u001b[0m\u001b[0m\n\u001b[1;32m-> 1476\u001b[1;33m             limit=limit, datatype=datatype)\n\u001b[0m\u001b[0;32m   1477\u001b[0m \u001b[1;33m\u001b[0m\u001b[0m\n\u001b[0;32m   1478\u001b[0m     \u001b[1;32mdef\u001b[0m \u001b[0mget_keras_embedding\u001b[0m\u001b[1;33m(\u001b[0m\u001b[0mself\u001b[0m\u001b[1;33m,\u001b[0m \u001b[0mtrain_embeddings\u001b[0m\u001b[1;33m=\u001b[0m\u001b[1;32mFalse\u001b[0m\u001b[1;33m)\u001b[0m\u001b[1;33m:\u001b[0m\u001b[1;33m\u001b[0m\u001b[0m\n",
      "\u001b[1;32m~\\AppData\\Roaming\\Python\\Python36\\site-packages\\gensim\\models\\utils_any2vec.py\u001b[0m in \u001b[0;36m_load_word2vec_format\u001b[1;34m(cls, fname, fvocab, binary, encoding, unicode_errors, limit, datatype)\u001b[0m\n\u001b[0;32m    341\u001b[0m     \u001b[0mlogger\u001b[0m\u001b[1;33m.\u001b[0m\u001b[0minfo\u001b[0m\u001b[1;33m(\u001b[0m\u001b[1;34m\"loading projection weights from %s\"\u001b[0m\u001b[1;33m,\u001b[0m \u001b[0mfname\u001b[0m\u001b[1;33m)\u001b[0m\u001b[1;33m\u001b[0m\u001b[0m\n\u001b[0;32m    342\u001b[0m     \u001b[1;32mwith\u001b[0m \u001b[0mutils\u001b[0m\u001b[1;33m.\u001b[0m\u001b[0msmart_open\u001b[0m\u001b[1;33m(\u001b[0m\u001b[0mfname\u001b[0m\u001b[1;33m)\u001b[0m \u001b[1;32mas\u001b[0m \u001b[0mfin\u001b[0m\u001b[1;33m:\u001b[0m\u001b[1;33m\u001b[0m\u001b[0m\n\u001b[1;32m--> 343\u001b[1;33m         \u001b[0mheader\u001b[0m \u001b[1;33m=\u001b[0m \u001b[0mutils\u001b[0m\u001b[1;33m.\u001b[0m\u001b[0mto_unicode\u001b[0m\u001b[1;33m(\u001b[0m\u001b[0mfin\u001b[0m\u001b[1;33m.\u001b[0m\u001b[0mreadline\u001b[0m\u001b[1;33m(\u001b[0m\u001b[1;33m)\u001b[0m\u001b[1;33m,\u001b[0m \u001b[0mencoding\u001b[0m\u001b[1;33m=\u001b[0m\u001b[0mencoding\u001b[0m\u001b[1;33m)\u001b[0m\u001b[1;33m\u001b[0m\u001b[0m\n\u001b[0m\u001b[0;32m    344\u001b[0m         \u001b[0mvocab_size\u001b[0m\u001b[1;33m,\u001b[0m \u001b[0mvector_size\u001b[0m \u001b[1;33m=\u001b[0m \u001b[1;33m(\u001b[0m\u001b[0mint\u001b[0m\u001b[1;33m(\u001b[0m\u001b[0mx\u001b[0m\u001b[1;33m)\u001b[0m \u001b[1;32mfor\u001b[0m \u001b[0mx\u001b[0m \u001b[1;32min\u001b[0m \u001b[0mheader\u001b[0m\u001b[1;33m.\u001b[0m\u001b[0msplit\u001b[0m\u001b[1;33m(\u001b[0m\u001b[1;33m)\u001b[0m\u001b[1;33m)\u001b[0m  \u001b[1;31m# throws for invalid file format\u001b[0m\u001b[1;33m\u001b[0m\u001b[0m\n\u001b[0;32m    345\u001b[0m         \u001b[1;32mif\u001b[0m \u001b[0mlimit\u001b[0m\u001b[1;33m:\u001b[0m\u001b[1;33m\u001b[0m\u001b[0m\n",
      "\u001b[1;32m~\\AppData\\Roaming\\Python\\Python36\\site-packages\\gensim\\utils.py\u001b[0m in \u001b[0;36many2unicode\u001b[1;34m(text, encoding, errors)\u001b[0m\n\u001b[0;32m    357\u001b[0m     \u001b[1;32mif\u001b[0m \u001b[0misinstance\u001b[0m\u001b[1;33m(\u001b[0m\u001b[0mtext\u001b[0m\u001b[1;33m,\u001b[0m \u001b[0municode\u001b[0m\u001b[1;33m)\u001b[0m\u001b[1;33m:\u001b[0m\u001b[1;33m\u001b[0m\u001b[0m\n\u001b[0;32m    358\u001b[0m         \u001b[1;32mreturn\u001b[0m \u001b[0mtext\u001b[0m\u001b[1;33m\u001b[0m\u001b[0m\n\u001b[1;32m--> 359\u001b[1;33m     \u001b[1;32mreturn\u001b[0m \u001b[0municode\u001b[0m\u001b[1;33m(\u001b[0m\u001b[0mtext\u001b[0m\u001b[1;33m,\u001b[0m \u001b[0mencoding\u001b[0m\u001b[1;33m,\u001b[0m \u001b[0merrors\u001b[0m\u001b[1;33m=\u001b[0m\u001b[0merrors\u001b[0m\u001b[1;33m)\u001b[0m\u001b[1;33m\u001b[0m\u001b[0m\n\u001b[0m\u001b[0;32m    360\u001b[0m \u001b[1;33m\u001b[0m\u001b[0m\n\u001b[0;32m    361\u001b[0m \u001b[1;33m\u001b[0m\u001b[0m\n",
      "\u001b[1;31mUnicodeDecodeError\u001b[0m: 'utf-8' codec can't decode byte 0x80 in position 32: invalid start byte"
     ]
    }
   ],
   "source": [
    "path_to_test = 'model.bin'\n",
    "\n",
    "model = gensim.models.KeyedVectors.load_word2vec_format(\n",
    "    path_to_test,\n",
    "    binary=True\n",
    ")"
   ]
  },
  {
   "cell_type": "code",
   "execution_count": 173,
   "metadata": {},
   "outputs": [],
   "source": [
    "labels_test = []\n",
    "embeddings_test = []\n",
    "\n",
    "for x in list(set(data_to_tsne)):\n",
    "    try:\n",
    "        embeddings_test.append(model_test[x])\n",
    "        labels_test.append(x)\n",
    "    except KeyError:\n",
    "        continue"
   ]
  },
  {
   "cell_type": "code",
   "execution_count": 174,
   "metadata": {},
   "outputs": [
    {
     "data": {
      "text/plain": [
       "(955, 100)"
      ]
     },
     "execution_count": 174,
     "metadata": {},
     "output_type": "execute_result"
    }
   ],
   "source": [
    "shape(embeddings_test)"
   ]
  },
  {
   "cell_type": "markdown",
   "metadata": {},
   "source": [
    "Нарисуем слова из первой новости в новом векторном пространстве."
   ]
  },
  {
   "cell_type": "code",
   "execution_count": 240,
   "metadata": {
    "ExecuteTime": {
     "end_time": "2019-04-14T15:11:39.600209Z",
     "start_time": "2019-04-14T15:11:39.591471Z"
    }
   },
   "outputs": [],
   "source": [
    "# Берем слова из первой новости, достаем соостветствующие векторы,\n",
    "# выбрасываем слова, для которых векторов нет. \n",
    "# Подумайте - как так могло получится, что нет векторов? - неправильно предобработали слово или уникальное слово? \n",
    "labels = []\n",
    "embeddings = []\n",
    "data_to_tsne = [item for sublist in data_normalized[:20] for item in sublist] # слова из первой новости\n",
    "\n",
    "for x in list(set(data_to_tsne)):\n",
    "    try:\n",
    "        embeddings.append(model[x])\n",
    "        labels.append(x)\n",
    "    except KeyError:\n",
    "        continue"
   ]
  },
  {
   "cell_type": "code",
   "execution_count": 236,
   "metadata": {
    "ExecuteTime": {
     "end_time": "2019-04-14T21:10:59.003741Z",
     "start_time": "2019-04-14T21:10:58.997217Z"
    }
   },
   "outputs": [],
   "source": [
    "def plot_with_labels(low_dim_embs, labels, filename='tsne.png'):\n",
    "    assert low_dim_embs.shape[0] >= len(labels), \"More labels than embeddings\"\n",
    "    plt.figure(figsize=(18, 18))  # in inches\n",
    "    for i, label in enumerate(labels):\n",
    "        x, y = low_dim_embs[i, :]\n",
    "        plt.scatter(x, y)\n",
    "        plt.annotate(label,\n",
    "                 xy=(x, y),\n",
    "                 xytext=(5, 2),\n",
    "                 textcoords='offset points',\n",
    "                 ha='right',\n",
    "                 va='bottom')\n",
    "\n",
    "    plt.savefig(filename)"
   ]
  },
  {
   "cell_type": "code",
   "execution_count": 241,
   "metadata": {},
   "outputs": [
    {
     "data": {
      "text/plain": [
       "(1131, 100)"
      ]
     },
     "execution_count": 241,
     "metadata": {},
     "output_type": "execute_result"
    }
   ],
   "source": [
    "shape(embeddings)"
   ]
  },
  {
   "cell_type": "markdown",
   "metadata": {},
   "source": [
    "### Пункт 2\n",
    "Переведите многомерные векторы в двумерные (можно использовать TSNE, PCA, другие методы сокращения размерности), выберите часть слов для отрисовки. Как параметры и методы отрисовки влияют на полученный график? Как это можно обьяснить?"
   ]
  },
  {
   "cell_type": "code",
   "execution_count": 247,
   "metadata": {},
   "outputs": [],
   "source": [
    "def embeddings_2d(embeddings):\n",
    "    pca = PCA(n_components=2)\n",
    "    pca_result = pca.fit_transform(embeddings)\n",
    "    return pca_result"
   ]
  },
  {
   "cell_type": "code",
   "execution_count": 248,
   "metadata": {},
   "outputs": [],
   "source": [
    "low_dim_vectors = embeddings_2d(embeddings)"
   ]
  },
  {
   "cell_type": "code",
   "execution_count": 249,
   "metadata": {},
   "outputs": [],
   "source": [
    "num_words_to_draw = 100"
   ]
  },
  {
   "cell_type": "code",
   "execution_count": 224,
   "metadata": {},
   "outputs": [
    {
     "data": {
      "text/plain": [
       "array([ 16.691257, -23.174383], dtype=float32)"
      ]
     },
     "execution_count": 224,
     "metadata": {},
     "output_type": "execute_result"
    }
   ],
   "source": [
    "low_dim_vectors[0]"
   ]
  },
  {
   "cell_type": "code",
   "execution_count": 225,
   "metadata": {
    "collapsed": true
   },
   "outputs": [
    {
     "ename": "IndexError",
     "evalue": "list index out of range",
     "output_type": "error",
     "traceback": [
      "\u001b[1;31m---------------------------------------------------------------------------\u001b[0m",
      "\u001b[1;31mIndexError\u001b[0m                                Traceback (most recent call last)",
      "\u001b[1;32m<ipython-input-225-ce7bd160bfe3>\u001b[0m in \u001b[0;36m<module>\u001b[1;34m\u001b[0m\n\u001b[0;32m      1\u001b[0m \u001b[1;31m# Рисуем только первые 100 слов.\u001b[0m\u001b[1;33m\u001b[0m\u001b[1;33m\u001b[0m\u001b[0m\n\u001b[1;32m----> 2\u001b[1;33m \u001b[0mlabels_to_draw\u001b[0m \u001b[1;33m=\u001b[0m \u001b[1;33m[\u001b[0m\u001b[0mlabels\u001b[0m\u001b[1;33m[\u001b[0m\u001b[0mi\u001b[0m\u001b[1;33m]\u001b[0m \u001b[1;32mfor\u001b[0m \u001b[0mi\u001b[0m \u001b[1;32min\u001b[0m \u001b[0mrange\u001b[0m\u001b[1;33m(\u001b[0m\u001b[0mnum_words_to_draw\u001b[0m\u001b[1;33m)\u001b[0m\u001b[1;33m]\u001b[0m\u001b[1;33m\u001b[0m\u001b[0m\n\u001b[0m\u001b[0;32m      3\u001b[0m \u001b[0ma\u001b[0m \u001b[1;33m=\u001b[0m \u001b[0mplot_with_labels\u001b[0m\u001b[1;33m(\u001b[0m\u001b[0mlow_dim_vectors\u001b[0m\u001b[1;33m,\u001b[0m \u001b[0mlabels_to_draw\u001b[0m\u001b[1;33m)\u001b[0m\u001b[1;33m\u001b[0m\u001b[0m\n",
      "\u001b[1;32m<ipython-input-225-ce7bd160bfe3>\u001b[0m in \u001b[0;36m<listcomp>\u001b[1;34m(.0)\u001b[0m\n\u001b[0;32m      1\u001b[0m \u001b[1;31m# Рисуем только первые 100 слов.\u001b[0m\u001b[1;33m\u001b[0m\u001b[1;33m\u001b[0m\u001b[0m\n\u001b[1;32m----> 2\u001b[1;33m \u001b[0mlabels_to_draw\u001b[0m \u001b[1;33m=\u001b[0m \u001b[1;33m[\u001b[0m\u001b[0mlabels\u001b[0m\u001b[1;33m[\u001b[0m\u001b[0mi\u001b[0m\u001b[1;33m]\u001b[0m \u001b[1;32mfor\u001b[0m \u001b[0mi\u001b[0m \u001b[1;32min\u001b[0m \u001b[0mrange\u001b[0m\u001b[1;33m(\u001b[0m\u001b[0mnum_words_to_draw\u001b[0m\u001b[1;33m)\u001b[0m\u001b[1;33m]\u001b[0m\u001b[1;33m\u001b[0m\u001b[0m\n\u001b[0m\u001b[0;32m      3\u001b[0m \u001b[0ma\u001b[0m \u001b[1;33m=\u001b[0m \u001b[0mplot_with_labels\u001b[0m\u001b[1;33m(\u001b[0m\u001b[0mlow_dim_vectors\u001b[0m\u001b[1;33m,\u001b[0m \u001b[0mlabels_to_draw\u001b[0m\u001b[1;33m)\u001b[0m\u001b[1;33m\u001b[0m\u001b[0m\n",
      "\u001b[1;31mIndexError\u001b[0m: list index out of range"
     ]
    }
   ],
   "source": [
    "# Рисуем только первые 100 слов.\n",
    "labels_to_draw = [labels[i] for i in range(num_words_to_draw)]\n",
    "a = plot_with_labels(low_dim_vectors, labels_to_draw)"
   ]
  },
  {
   "cell_type": "markdown",
   "metadata": {},
   "source": [
    "Почему в какой-то момент начали появляться проблемы с загрузкой модели, опять что-то с кодировками. Переобучивать не стал, в отчёте рисунок сохранился"
   ]
  },
  {
   "cell_type": "markdown",
   "metadata": {},
   "source": [
    "Если рисовать большое количество слов, то достаточно сложно понять что-то. Поэтому я остановился на 100"
   ]
  },
  {
   "cell_type": "markdown",
   "metadata": {},
   "source": [
    "### Пункт 3\n",
    "Проделайте аналогичную отрисовку и сжатие векторов для предобученной модели (для этого скачайте бинарник по этой [ссылке](https://code.google.com/archive/p/word2vec/) (файл GoogleNews-vectors-negative300) по аналогии с тем, как мы работали с русским корпусом. Сравните результаты."
   ]
  },
  {
   "cell_type": "code",
   "execution_count": 220,
   "metadata": {},
   "outputs": [],
   "source": [
    "path_to_googleNews = 'GoogleNews-vectors-negative300.bin'"
   ]
  },
  {
   "cell_type": "code",
   "execution_count": 221,
   "metadata": {},
   "outputs": [
    {
     "name": "stderr",
     "output_type": "stream",
     "text": [
      "2019-04-22 13:45:10,812 : INFO : loading projection weights from GoogleNews-vectors-negative300.bin\n",
      "2019-04-22 13:45:11,297 : WARNING : this function is deprecated, use smart_open.open instead\n",
      "2019-04-22 13:51:19,578 : INFO : loaded (3000000, 300) matrix from GoogleNews-vectors-negative300.bin\n"
     ]
    }
   ],
   "source": [
    "model_googleNews = gensim.models.KeyedVectors.load_word2vec_format(\n",
    "    path_to_googleNews,\n",
    "    binary=True\n",
    ")"
   ]
  },
  {
   "cell_type": "code",
   "execution_count": 250,
   "metadata": {},
   "outputs": [],
   "source": [
    "labels2 = []\n",
    "embeddings2 = []\n",
    "\n",
    "for x in list(set(data_to_tsne)):\n",
    "    try:\n",
    "        embeddings2.append(model_googleNews[x])\n",
    "        labels2.append(x)\n",
    "    except KeyError:\n",
    "        continue"
   ]
  },
  {
   "cell_type": "code",
   "execution_count": 251,
   "metadata": {},
   "outputs": [
    {
     "data": {
      "text/plain": [
       "(975, 300)"
      ]
     },
     "execution_count": 251,
     "metadata": {},
     "output_type": "execute_result"
    }
   ],
   "source": [
    "shape(embeddings2)"
   ]
  },
  {
   "cell_type": "code",
   "execution_count": 252,
   "metadata": {},
   "outputs": [],
   "source": [
    "low_dim_vectors2 = embeddings_2d(embeddings2)"
   ]
  },
  {
   "cell_type": "code",
   "execution_count": 269,
   "metadata": {},
   "outputs": [],
   "source": [
    "num_words_to_draw2 = 100"
   ]
  },
  {
   "cell_type": "code",
   "execution_count": 270,
   "metadata": {},
   "outputs": [
    {
     "data": {
      "text/plain": [
       "array([-0.57498393,  0.25599669])"
      ]
     },
     "execution_count": 270,
     "metadata": {},
     "output_type": "execute_result"
    }
   ],
   "source": [
    "low_dim_vectors2[0]"
   ]
  },
  {
   "cell_type": "code",
   "execution_count": 271,
   "metadata": {},
   "outputs": [
    {
     "data": {
      "text/plain": [
       "(975, 2)"
      ]
     },
     "execution_count": 271,
     "metadata": {},
     "output_type": "execute_result"
    }
   ],
   "source": [
    "shape(low_dim_vectors2)"
   ]
  },
  {
   "cell_type": "code",
   "execution_count": 272,
   "metadata": {},
   "outputs": [
    {
     "data": {
      "image/png": "[encoded data removed]",
      "text/plain": [
       "<Figure size 1800x1800 with 1 Axes>"
      ]
     },
     "metadata": {},
     "output_type": "display_data"
    }
   ],
   "source": [
    "# Рисуем только первые 100 слов.\n",
    "labels_to_draw = [labels2[i] for i in range(num_words_to_draw2)]\n",
    "a = plot_with_labels(low_dim_vectors, labels_to_draw)"
   ]
  },
  {
   "cell_type": "markdown",
   "metadata": {
    "collapsed": true
   },
   "source": [
    "### Попробуем с помощью нашей модели улучшить качество кластеризации текстов\n",
    "Если вы не знаете, что такое кластеризация - почитать об этом можно по [ссылке](http://scikit-learn.org/stable/modules/clustering.html).\n",
    "\n",
    "Если вам все равно кажется, что это сложно, и вы чувствуете себя более уверено в задаче классификации - вместо задачи кластеризации можно рассматривать задачу классификации - тогда вместо функции quality используйте roc-auc из библиотеки scikit-learn, все остальные шаги предобработки и измерения признаков аналогичны."
   ]
  },
  {
   "cell_type": "markdown",
   "metadata": {},
   "source": [
    "Измерять качество кластеризации будем следующим образом - измерим количество правильных попаданий категории в кластеры."
   ]
  },
  {
   "cell_type": "code",
   "execution_count": 55,
   "metadata": {},
   "outputs": [],
   "source": [
    "def quality(preds, target):\n",
    "    permutations = list(itertools.permutations([0, 1, 2]))\n",
    "    scores = []\n",
    "    for a, b, c in permutations:\n",
    "        mapping = {2 : a, 1: b, 0: c}\n",
    "        mapped_preds = [mapping[pred] for pred in preds]\n",
    "        scores.append(float(sum(mapped_preds != target)) / len(target))\n",
    "    return 1 - min(scores)"
   ]
  },
  {
   "cell_type": "markdown",
   "metadata": {},
   "source": [
    "### Пункт 4\n",
    "Кластеризуйте датасет с заданием признаков с помощью one hot encoding - посмотрите на результат."
   ]
  },
  {
   "cell_type": "markdown",
   "metadata": {},
   "source": [
    "Несколько часов было потрачено на то, чтобы разобраться как же сделать one hot encoding. В сети, на стаке почему-то нет особо инфы для нашего случая. Есть ощущение, что так не делают"
   ]
  },
  {
   "cell_type": "markdown",
   "metadata": {},
   "source": [
    "Попытка реализовать one hot encoder. На мини данных даже удачная, на больших комп повис, увы"
   ]
  },
  {
   "cell_type": "code",
   "execution_count": 73,
   "metadata": {},
   "outputs": [],
   "source": [
    "answer = []\n",
    "for z in data_normalized\n",
    "    for i in z: \n",
    "        onehot = [0]*len(x)\n",
    "        if mylist[mylist == i]:\n",
    "            onehot[mylist.index('{}'.format(i))] = 1\n",
    "        answer.append(onehot)"
   ]
  },
  {
   "cell_type": "code",
   "execution_count": 77,
   "metadata": {},
   "outputs": [],
   "source": [
    "flat_list = [item for sublist in data_normalized for item in sublist]"
   ]
  },
  {
   "cell_type": "code",
   "execution_count": 82,
   "metadata": {},
   "outputs": [],
   "source": [
    "mylist = list(set(flat_list))"
   ]
  },
  {
   "cell_type": "markdown",
   "metadata": {},
   "source": [
    "Дальше решил сделать вместо этого CountVectorizer"
   ]
  },
  {
   "cell_type": "code",
   "execution_count": 23,
   "metadata": {},
   "outputs": [],
   "source": [
    "def dummy(doc):\n",
    "    return doc\n",
    "\n",
    "tfidf = CountVectorizer(\n",
    "    tokenizer=dummy,\n",
    "    preprocessor=dummy,\n",
    ")  "
   ]
  },
  {
   "cell_type": "code",
   "execution_count": 32,
   "metadata": {},
   "outputs": [],
   "source": [
    "docs = data_normalized"
   ]
  },
  {
   "cell_type": "code",
   "execution_count": 33,
   "metadata": {},
   "outputs": [
    {
     "data": {
      "text/plain": [
       "CountVectorizer(analyzer='word', binary=False, decode_error='strict',\n",
       "        dtype=<class 'numpy.int64'>, encoding='utf-8', input='content',\n",
       "        lowercase=True, max_df=1.0, max_features=None, min_df=1,\n",
       "        ngram_range=(1, 1),\n",
       "        preprocessor=<function dummy at 0x00000228B640CE18>,\n",
       "        stop_words=None, strip_accents=None,\n",
       "        token_pattern='(?u)\\\\b\\\\w\\\\w+\\\\b',\n",
       "        tokenizer=<function dummy at 0x00000228B640CE18>, vocabulary=None)"
      ]
     },
     "execution_count": 33,
     "metadata": {},
     "output_type": "execute_result"
    }
   ],
   "source": [
    "tfidf.fit(docs)"
   ]
  },
  {
   "cell_type": "code",
   "execution_count": 44,
   "metadata": {},
   "outputs": [],
   "source": [
    "v_2 = tfidf.transform(data_normalized)"
   ]
  },
  {
   "cell_type": "code",
   "execution_count": 45,
   "metadata": {},
   "outputs": [],
   "source": [
    "new = v_2.toarray()"
   ]
  },
  {
   "cell_type": "code",
   "execution_count": 43,
   "metadata": {},
   "outputs": [
    {
     "name": "stdout",
     "output_type": "stream",
     "text": [
      "[0 0 0 ... 0 0 0]\n"
     ]
    }
   ],
   "source": [
    "print(v_2.toarray()[1])"
   ]
  },
  {
   "cell_type": "code",
   "execution_count": 48,
   "metadata": {},
   "outputs": [
    {
     "data": {
      "text/plain": [
       "(1777, 24142)"
      ]
     },
     "execution_count": 48,
     "metadata": {},
     "output_type": "execute_result"
    }
   ],
   "source": [
    "new.shape"
   ]
  },
  {
   "cell_type": "code",
   "execution_count": 50,
   "metadata": {},
   "outputs": [],
   "source": [
    "preds = MiniBatchKMeans(n_clusters=3).fit_predict(new)"
   ]
  },
  {
   "cell_type": "code",
   "execution_count": 56,
   "metadata": {},
   "outputs": [
    {
     "data": {
      "text/plain": [
       "0.39504783342712435"
      ]
     },
     "execution_count": 56,
     "metadata": {},
     "output_type": "execute_result"
    }
   ],
   "source": [
    "quality(preds, dataset.target)"
   ]
  },
  {
   "cell_type": "markdown",
   "metadata": {},
   "source": [
    "Как видим, точность очень низкая "
   ]
  },
  {
   "cell_type": "markdown",
   "metadata": {},
   "source": [
    "### Пункт 5\n",
    "Далее кластеризуем тексты на векторах, полученных из модели, которую мы сами обучили."
   ]
  },
  {
   "cell_type": "markdown",
   "metadata": {},
   "source": [
    "Напишем функцию, которая делает из предложения вектор - усредняет векторы всех слов в этом предложении. Если слова нет в словаре, то вместо вектора этого слова используется нулевой вектор."
   ]
  },
  {
   "cell_type": "code",
   "execution_count": 119,
   "metadata": {},
   "outputs": [],
   "source": [
    "def average_feature_vector(words, model):  \n",
    "    x = 0\n",
    "    for word in words: \n",
    "        try:\n",
    "            emb = model[word]\n",
    "            x += emb\n",
    "        except: \n",
    "            x = x + 0\n",
    "    average_feature_vector = x/len(words)\n",
    "    return average_feature_vector"
   ]
  },
  {
   "cell_type": "markdown",
   "metadata": {},
   "source": [
    "Применим функцию к нашим данным (уже нормализованным функцией normalize)."
   ]
  },
  {
   "cell_type": "code",
   "execution_count": 146,
   "metadata": {},
   "outputs": [],
   "source": [
    "data_normalized_vectors = [average_feature_vector(sent, model)\n",
    "                           for sent in data_normalized]"
   ]
  },
  {
   "cell_type": "markdown",
   "metadata": {},
   "source": [
    "Сначала попробуем PCA"
   ]
  },
  {
   "cell_type": "code",
   "execution_count": 147,
   "metadata": {},
   "outputs": [],
   "source": [
    "low_dim_vectors = embeddings_2d(data_normalized_vectors)"
   ]
  },
  {
   "cell_type": "code",
   "execution_count": 148,
   "metadata": {
    "ExecuteTime": {
     "end_time": "2019-04-14T21:56:54.491658Z",
     "start_time": "2019-04-14T21:56:54.369537Z"
    }
   },
   "outputs": [
    {
     "data": {
      "text/plain": [
       "0.8244231851435002"
      ]
     },
     "execution_count": 148,
     "metadata": {},
     "output_type": "execute_result"
    }
   ],
   "source": [
    "preds = MiniBatchKMeans(n_clusters=3).fit_predict(low_dim_vectors)\n",
    "quality(preds, dataset.target)"
   ]
  },
  {
   "cell_type": "markdown",
   "metadata": {},
   "source": [
    "Сожмем массив признаков с помощью TSNE до нескольких компонент (попробуйте поварьировать число компонент)."
   ]
  },
  {
   "cell_type": "code",
   "execution_count": 149,
   "metadata": {},
   "outputs": [],
   "source": [
    "def embeddings_2d_TSNE(embeddings):\n",
    "    tsne = TSNE(n_components=2)\n",
    "    tsne_result = tsne.fit_transform(embeddings)\n",
    "    return tsne_result"
   ]
  },
  {
   "cell_type": "code",
   "execution_count": 150,
   "metadata": {},
   "outputs": [],
   "source": [
    "low_dim_vectors = embeddings_2d_TSNE(data_normalized_vectors)"
   ]
  },
  {
   "cell_type": "markdown",
   "metadata": {},
   "source": [
    "Примените алгоритм кластеризации (например, K-means)."
   ]
  },
  {
   "cell_type": "code",
   "execution_count": 151,
   "metadata": {
    "ExecuteTime": {
     "end_time": "2019-04-14T21:56:54.491658Z",
     "start_time": "2019-04-14T21:56:54.369537Z"
    }
   },
   "outputs": [
    {
     "data": {
      "text/plain": [
       "0.963984243106359"
      ]
     },
     "execution_count": 151,
     "metadata": {},
     "output_type": "execute_result"
    }
   ],
   "source": [
    "preds = MiniBatchKMeans(n_clusters=3).fit_predict(low_dim_vectors)\n",
    "quality(preds, dataset.target)"
   ]
  },
  {
   "cell_type": "markdown",
   "metadata": {},
   "source": [
    "Интересно то, что результат с TSNE значительно превосходит результат с PCA"
   ]
  },
  {
   "cell_type": "markdown",
   "metadata": {
    "collapsed": true
   },
   "source": [
    "### Пункт 6\n",
    "\n",
    "Кластеризуйте тексты на векторах, полученных из предобученной модели. Какой результат получился лучше? Почему?"
   ]
  },
  {
   "cell_type": "code",
   "execution_count": 152,
   "metadata": {},
   "outputs": [],
   "source": [
    "data_normalized_vectors = [average_feature_vector(sent, model_googleNews)\n",
    "                           for sent in data_normalized]"
   ]
  },
  {
   "cell_type": "code",
   "execution_count": 153,
   "metadata": {},
   "outputs": [],
   "source": [
    "low_dim_vectors = embeddings_2d(data_normalized_vectors)"
   ]
  },
  {
   "cell_type": "code",
   "execution_count": 154,
   "metadata": {},
   "outputs": [
    {
     "data": {
      "text/plain": [
       "0.7602701181767023"
      ]
     },
     "execution_count": 154,
     "metadata": {},
     "output_type": "execute_result"
    }
   ],
   "source": [
    "preds = MiniBatchKMeans(n_clusters=3).fit_predict(low_dim_vectors)\n",
    "quality(preds, dataset.target)"
   ]
  },
  {
   "cell_type": "code",
   "execution_count": 160,
   "metadata": {},
   "outputs": [],
   "source": [
    "low_dim_vectors = embeddings_2d_TSNE(data_normalized_vectors)"
   ]
  },
  {
   "cell_type": "code",
   "execution_count": 161,
   "metadata": {},
   "outputs": [
    {
     "data": {
      "text/plain": [
       "0.9752391671356219"
      ]
     },
     "execution_count": 161,
     "metadata": {},
     "output_type": "execute_result"
    }
   ],
   "source": [
    "preds = MiniBatchKMeans(n_clusters=3).fit_predict(low_dim_vectors)\n",
    "quality(preds, dataset.target)"
   ]
  },
  {
   "cell_type": "markdown",
   "metadata": {},
   "source": [
    "Результат хуже на 6% с PCA и на 1 % лучше с TSNE (ещё было обнаружено, что результаты очень нестабильны, большая вариация). Казалось, что на предобученной модели результат должен быть выше за счёт большей обучающей выборки и соответственно большей точности эмбедингов. Но нет. Причина возможно в том, что наша модель обучалась на специфичных данных, в которых намного чаще встречаются тексты тематически похожие на определяемые нами кластеры. Если так, тогда и кластеры определять она будет лучше. В каком-то смысле это переобучение, которое в данной задаче играет нам на руку"
   ]
  },
  {
   "cell_type": "markdown",
   "metadata": {},
   "source": [
    "### Пункт 7"
   ]
  },
  {
   "cell_type": "markdown",
   "metadata": {
    "collapsed": true
   },
   "source": [
    "Попробуйте получить аналогичные векторы и провести исследование на них с помощью fastq - [неплохое введение](https://www.analyticsvidhya.com/blog/2017/07/word-representations-text-classification-using-fasttext-nlp-facebook/)."
   ]
  },
  {
   "cell_type": "markdown",
   "metadata": {},
   "source": [
    "Обучаю модель на таких же данных. Данные по 20 news groups взял с https://www.kaggle.com/crawford/20-newsgroups. Датасет разделён по темам и в одном из файлов или нескольких есть символы в другой кодировке. Первый скор это модель обученная только на тексте soc.religion.christian, как видим скор кластеризации низкий 66%. Затем удалось решить проблему с кодировками и обучить на всех трёх текстах, скор 96%, что в сравнении с другими моделями хорошо. Думаю, если взять предобученную или обучить на обширном датасете, то скор будет лучше, чем у предыдущих моделей"
   ]
  },
  {
   "cell_type": "code",
   "execution_count": 193,
   "metadata": {},
   "outputs": [],
   "source": [
    "model = fasttext.skipgram('soc.religion.christian.txt', 'model')"
   ]
  },
  {
   "cell_type": "code",
   "execution_count": 214,
   "metadata": {},
   "outputs": [],
   "source": [
    "model_fast = fasttext.skipgram('plain.txt', 'model')"
   ]
  },
  {
   "cell_type": "code",
   "execution_count": 215,
   "metadata": {},
   "outputs": [],
   "source": [
    "def average_feature_vector_fast(words, model):  \n",
    "    x = 0\n",
    "    for word in words: \n",
    "        try:\n",
    "            emb = np.array(model[word])\n",
    "            x += emb\n",
    "        except: \n",
    "            x = x + 0\n",
    "    average_feature_vector = x/len(words)\n",
    "    return average_feature_vector"
   ]
  },
  {
   "cell_type": "code",
   "execution_count": 216,
   "metadata": {},
   "outputs": [],
   "source": [
    "data_normalized_vectors = [average_feature_vector_fast(sent, model_fast)\n",
    "                           for sent in data_normalized]"
   ]
  },
  {
   "cell_type": "code",
   "execution_count": 217,
   "metadata": {},
   "outputs": [],
   "source": [
    "low_dim_vectors_fast = embeddings_2d_TSNE(data_normalized_vectors)"
   ]
  },
  {
   "cell_type": "code",
   "execution_count": 206,
   "metadata": {},
   "outputs": [
    {
     "data": {
      "text/plain": [
       "0.6646032639279684"
      ]
     },
     "execution_count": 206,
     "metadata": {},
     "output_type": "execute_result"
    }
   ],
   "source": [
    "preds = MiniBatchKMeans(n_clusters=3).fit_predict(low_dim_vectors_fast)\n",
    "quality(preds, dataset.target)"
   ]
  },
  {
   "cell_type": "code",
   "execution_count": 218,
   "metadata": {},
   "outputs": [
    {
     "data": {
      "text/plain": [
       "0.9662352279122116"
      ]
     },
     "execution_count": 218,
     "metadata": {},
     "output_type": "execute_result"
    }
   ],
   "source": [
    "preds = MiniBatchKMeans(n_clusters=3).fit_predict(low_dim_vectors_fast)\n",
    "quality(preds, dataset.target)"
   ]
  }
 ],
 "metadata": {
  "anaconda-cloud": {},
  "kernelspec": {
   "display_name": "DMIA_env",
   "language": "python",
   "name": "dmia_env"
  },
  "language_info": {
   "codemirror_mode": {
    "name": "ipython",
    "version": 3
   },
   "file_extension": ".py",
   "mimetype": "text/x-python",
   "name": "python",
   "nbconvert_exporter": "python",
   "pygments_lexer": "ipython3",
   "version": "3.6.5"
  },
  "varInspector": {
   "cols": {
    "lenName": 16,
    "lenType": 16,
    "lenVar": 40
   },
   "kernels_config": {
    "python": {
     "delete_cmd_postfix": "",
     "delete_cmd_prefix": "del ",
     "library": "var_list.py",
     "varRefreshCmd": "print(var_dic_list())"
    },
    "r": {
     "delete_cmd_postfix": ") ",
     "delete_cmd_prefix": "rm(",
     "library": "var_list.r",
     "varRefreshCmd": "cat(var_dic_list()) "
    }
   },
   "types_to_exclude": [
    "module",
    "function",
    "builtin_function_or_method",
    "instance",
    "_Feature"
   ],
   "window_display": false
  }
 },
 "nbformat": 4,
 "nbformat_minor": 2
}
